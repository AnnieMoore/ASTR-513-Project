{
  "cells": [
    {
      "cell_type": "code",
      "execution_count": 2,
      "metadata": {
        "colab": {
          "base_uri": "https://localhost:8080/"
        },
        "id": "6SiuILwYfBuN",
        "outputId": "b2fda879-a88f-43a8-d00e-e44c12c75cca"
      },
      "outputs": [
        {
          "output_type": "stream",
          "name": "stdout",
          "text": [
            "Mounted at /content/gdrive\n"
          ]
        }
      ],
      "source": [
        "# mount Google Drive\n",
        "from google.colab import drive\n",
        "drive.mount('/content/gdrive')"
      ]
    },
    {
      "cell_type": "code",
      "execution_count": 3,
      "metadata": {
        "id": "xwYjnlgjiIEM"
      },
      "outputs": [],
      "source": [
        "import sys\n",
        "sys.path.append('/content/gdrive/MyDrive/tatter-master/')\n",
        "sys.path.append('/content/gdrive/MyDrive/tatter-master/tatter/')\n",
        "from tatter import two_sample_test\n",
        "import numpy as np\n",
        "from numpy.random import seed\n",
        "from numpy.random import normal\n",
        "from numpy.random import lognormal\n",
        "from sklearn.metrics import pairwise_distances\n",
        "import matplotlib.pyplot as plt\n",
        "#!pip install wget"
      ]
    },
    {
      "cell_type": "markdown",
      "source": [
        "# Introduction to the TATTER software"
      ],
      "metadata": {
        "id": "L8c4HOOWyVOs"
      }
    },
    {
      "cell_type": "markdown",
      "source": [
        "## Maximum Mean Discrepancy test"
      ],
      "metadata": {
        "id": "Fva9bkkNyxo6"
      }
    },
    {
      "cell_type": "markdown",
      "source": [
        "First step is to generate two data sets. Each will be 1000 data points drawn from a 1-D Gaussian distribution with different means (0.0 and 0.2) but the same variance (1.0)."
      ],
      "metadata": {
        "id": "AI0VG6Qo2giq"
      }
    },
    {
      "cell_type": "code",
      "execution_count": 4,
      "metadata": {
        "id": "ME3d-5Y5kziZ"
      },
      "outputs": [],
      "source": [
        "\n",
        "  X=normal(loc=0.0, scale=1.0, size=1000)\n",
        "  #print(X.shape[1])\n",
        "  Y=normal(loc=0.2, scale=1.0, size=1000)\n",
        "  #print(Y.shape)\n",
        "  #gamma = 5.\n",
        "  XX = X[:, np.newaxis]\n",
        "YY = Y[:, np.newaxis]"
      ]
    },
    {
      "cell_type": "markdown",
      "source": [
        "We can now run the two sample test to compare the two probability distributions that were used to generate the data. The arguments for the two sample test are:\n",
        "- the two data sets\n",
        "- model: determines what is used to compute the test statisitc (MMD, K-S, K-L)\n",
        "- iterations - the number of times the test statistic will be computed to generate the test statistic distribution\n",
        "- if model=MMD, need to define the kernel function that will be used\n",
        "- if model=MMD, need to specify gamma. It was found in the paper that $\\gamma=0.1$ works well\n",
        "- number of jobs: allows you to parallelize\n",
        "- verbose = True/False: will show output as code is running\n",
        "- random_state: used for combination of data sets. Sets it as a value (random_state=None), an array (random_state=integer), or a tuple (random_state=N-Dim array).\n",
        "\n",
        "The ouput is a value for the test statistic, a null distribution, and an estimated p_value"
      ],
      "metadata": {
        "id": "hSagEdkd3E2n"
      }
    },
    {
      "cell_type": "code",
      "execution_count": 7,
      "metadata": {
        "colab": {
          "base_uri": "https://localhost:8080/"
        },
        "id": "57xTEpzffYf7",
        "outputId": "5644f488-aa2f-45d1-c59c-9faa46f4188f"
      },
      "outputs": [
        {
          "output_type": "stream",
          "name": "stdout",
          "text": [
            "test value = 0.003346487889645422\n",
            "Computing the null distribution.\n"
          ]
        },
        {
          "output_type": "stream",
          "name": "stderr",
          "text": [
            "100%|██████████| 1000/1000 [01:54<00:00,  8.75it/s]\n"
          ]
        },
        {
          "output_type": "stream",
          "name": "stdout",
          "text": [
            "p-value < 0.001 \t (resolution : 0.001)\n"
          ]
        }
      ],
      "source": [
        "gamma=.1\n",
        "sigma2 = np.median(pairwise_distances(XX, YY, metric='euclidean'))**2 * 2.0\n",
        "mmd2u, mmd2u_null, p_value = two_sample_test(XX, YY,\n",
        "                           model='MMD',\n",
        "                           iterations=1000,\n",
        "                           kernel_function='rbf',\n",
        "                           gamma=gamma,\n",
        "                           n_jobs=4,\n",
        "                           verbose=True,\n",
        "                           random_state=0)"
      ]
    },
    {
      "cell_type": "markdown",
      "source": [
        "##Using K-S and K-L tests"
      ],
      "metadata": {
        "id": "aci8iMVbylgQ"
      }
    },
    {
      "cell_type": "markdown",
      "source": [
        "Example of the computation for the K-S and K-L tests."
      ],
      "metadata": {
        "id": "8kZ73Okg5rdf"
      }
    },
    {
      "cell_type": "code",
      "execution_count": 8,
      "metadata": {
        "colab": {
          "base_uri": "https://localhost:8080/"
        },
        "id": "3K52sZUKfc40",
        "outputId": "f0632976-5455-4d5c-ad36-528535aea225"
      },
      "outputs": [
        {
          "output_type": "stream",
          "name": "stdout",
          "text": [
            "test value = 0.078\n",
            "Computing the null distribution.\n"
          ]
        },
        {
          "output_type": "stream",
          "name": "stderr",
          "text": [
            "100%|██████████| 1000/1000 [00:00<00:00, 1280.82it/s]\n"
          ]
        },
        {
          "output_type": "stream",
          "name": "stdout",
          "text": [
            "p-value ~= 0.005 \t (resolution : 0.001)\n",
            "test value = -0.017803189154464393\n",
            "Computing the null distribution.\n"
          ]
        },
        {
          "output_type": "stream",
          "name": "stderr",
          "text": [
            "100%|██████████| 1000/1000 [04:35<00:00,  3.63it/s]"
          ]
        },
        {
          "output_type": "stream",
          "name": "stdout",
          "text": [
            "p-value ~= 0.584 \t (resolution : 0.001)\n"
          ]
        },
        {
          "output_type": "stream",
          "name": "stderr",
          "text": [
            "\n"
          ]
        }
      ],
      "source": [
        "ks, ks_null, ks_p_value = two_sample_test(XX, YY, model='KS', iterations=1000,\n",
        "                                          verbose=True, n_jobs=1)\n",
        "\n",
        "kl, kl_null, kl_p_value = two_sample_test(XX, YY, model='KL', iterations=1000,\n",
        "                                          verbose=True, n_jobs=1)\n"
      ]
    },
    {
      "cell_type": "markdown",
      "source": [
        "## Results of the tests"
      ],
      "metadata": {
        "id": "rzfdHc5ty4E9"
      }
    },
    {
      "cell_type": "markdown",
      "source": [
        "To see the results of the test, we can plot the null distribution and the value of the $\\text{MMD}^2_u$ test or the other test statistics (shown by the del). If the del is not on zero, then the test found that the two data sets were drawn from different distibutions. In the case of this example, we would expect that $\\text{MMD}^2_u \\neq 0$ as the means are different."
      ],
      "metadata": {
        "id": "AHy-6YaH6J0M"
      }
    },
    {
      "cell_type": "code",
      "execution_count": 9,
      "metadata": {
        "colab": {
          "base_uri": "https://localhost:8080/",
          "height": 283
        },
        "id": "7w_O7TNsxohX",
        "outputId": "38afc6c8-0260-41c0-f5aa-4cd65388a2f3"
      },
      "outputs": [
        {
          "output_type": "execute_result",
          "data": {
            "text/plain": [
              "<matplotlib.legend.Legend at 0x7f9ab1c34880>"
            ]
          },
          "metadata": {},
          "execution_count": 9
        },
        {
          "output_type": "display_data",
          "data": {
            "text/plain": [
              "<Figure size 432x288 with 1 Axes>"
            ],
            "image/png": "[encoded data removed]"
          },
          "metadata": {
            "needs_background": "light"
          }
        }
      ],
      "source": [
        "prob, bins, patches = plt.hist(mmd2u_null, range=[-0.005, 0.015], bins=50,\n",
        "                               density=True, color='green', label='Null distribution')\n",
        "plt.plot(mmd2u, prob.max()/25, 'wv', markersize=14, markeredgecolor='k',\n",
        "         markeredgewidth=2, label=\"$MMD^2_u$   p-value = %0.3f\"%p_value)\n",
        "plt.xlim([-0.005, 0.020])\n",
        "plt.ylabel('PDF', size=20)\n",
        "plt.legend(loc=1, numpoints=1, prop={'size':15})"
      ]
    },
    {
      "cell_type": "code",
      "execution_count": 13,
      "metadata": {
        "colab": {
          "base_uri": "https://localhost:8080/",
          "height": 283
        },
        "id": "rwwATCHhzPQ2",
        "outputId": "4f343314-dc10-4992-b11f-310271d4d450"
      },
      "outputs": [
        {
          "output_type": "execute_result",
          "data": {
            "text/plain": [
              "<matplotlib.legend.Legend at 0x7f9ab0aec700>"
            ]
          },
          "metadata": {},
          "execution_count": 13
        },
        {
          "output_type": "display_data",
          "data": {
            "text/plain": [
              "<Figure size 432x288 with 1 Axes>"
            ],
            "image/png": "[encoded data removed]"
          },
          "metadata": {
            "needs_background": "light"
          }
        }
      ],
      "source": [
        "prob, bins, patches = plt.hist(kl_null, range=(0.0, 0.25), bins=50,\n",
        "                               density=True, color='red', label='Null distribution')\n",
        "plt.plot(kl, prob.max()/25, 'wv', markersize=14, markeredgecolor='k',\n",
        "         markeredgewidth=2, label=\"$K-L$   p-value = %0.3f\"%kl_p_value)\n",
        "plt.xlim([-.2, 0.6])\n",
        "plt.ylabel('PDF', size=20)\n",
        "plt.legend(loc=1, numpoints=1, prop={'size':15})"
      ]
    },
    {
      "cell_type": "code",
      "execution_count": 12,
      "metadata": {
        "colab": {
          "base_uri": "https://localhost:8080/",
          "height": 283
        },
        "id": "CdqtJXI7xjlF",
        "outputId": "3c1a64a9-bea3-4bb1-f157-befd54828706"
      },
      "outputs": [
        {
          "output_type": "execute_result",
          "data": {
            "text/plain": [
              "<matplotlib.legend.Legend at 0x7f9ab0be5a60>"
            ]
          },
          "metadata": {},
          "execution_count": 12
        },
        {
          "output_type": "display_data",
          "data": {
            "text/plain": [
              "<Figure size 432x288 with 1 Axes>"
            ],
            "image/png": "[encoded data removed]"
          },
          "metadata": {
            "needs_background": "light"
          }
        }
      ],
      "source": [
        "prob, bins, patches = plt.hist(ks_null, range=(0.0, 0.25), bins=50,\n",
        "                               density=True, color='orange', label='Null distribution')\n",
        "plt.plot(ks, prob.max()/25, 'wv', markersize=14, markeredgecolor='k',\n",
        "         markeredgewidth=2, label=\"$K-S$   p-value = %0.3f\"%ks_p_value)\n",
        "plt.xlim([0.0, 0.25])\n",
        "plt.ylabel('PDF', size=20)\n",
        "plt.legend(loc=1, numpoints=1, prop={'size':15})"
      ]
    },
    {
      "cell_type": "markdown",
      "source": [
        "We find that the K-S test and the MMD test correctly find that the two distributions are different as the value of the test statistics is not zero and falls within the tails of the null distribution. The results of the K-L test are incorrect, but it is known that this test is less reliable."
      ],
      "metadata": {
        "id": "L6avMGjdzlxf"
      }
    },
    {
      "cell_type": "markdown",
      "source": [
        "#Reproducing Results from the Paper"
      ],
      "metadata": {
        "id": "UuaD9IDd0vuw"
      }
    },
    {
      "cell_type": "markdown",
      "source": [
        "##MMD, K-S, and K-L tests for two samples drawn from 1-D Gaussian probability distributions"
      ],
      "metadata": {
        "id": "QU80a8D00z3n"
      }
    },
    {
      "cell_type": "markdown",
      "source": [
        "Now I want to reproduce the some of the results from the paper. The first was to compare the performance of the three tests for various sample sizes. This was run twice for each test. Once when the two distributions had the same mean (0.0) and once when the two distributions had different means (0.0 and 0.2)."
      ],
      "metadata": {
        "id": "MXpdqob87RZE"
      }
    },
    {
      "cell_type": "code",
      "execution_count": 5,
      "metadata": {
        "colab": {
          "base_uri": "https://localhost:8080/"
        },
        "id": "0yBucc5DpBvK",
        "outputId": "18eb6a4d-6d40-43a4-daed-4497d5fd674a"
      },
      "outputs": [
        {
          "output_type": "stream",
          "name": "stdout",
          "text": [
            "test value = -0.0026250605917970127\n",
            "Computing the null distribution.\n"
          ]
        },
        {
          "output_type": "stream",
          "name": "stderr",
          "text": [
            "100%|██████████| 1000/1000 [00:00<00:00, 2505.65it/s]\n"
          ]
        },
        {
          "output_type": "stream",
          "name": "stdout",
          "text": [
            "p-value ~= 0.8130000000000001 \t (resolution : 0.001)\n",
            "0\n",
            "test value = -0.0006656863045089167\n",
            "Computing the null distribution.\n"
          ]
        },
        {
          "output_type": "stream",
          "name": "stderr",
          "text": [
            "100%|██████████| 1000/1000 [00:00<00:00, 2343.74it/s]\n"
          ]
        },
        {
          "output_type": "stream",
          "name": "stdout",
          "text": [
            "p-value ~= 0.431 \t (resolution : 0.001)\n",
            "1\n",
            "test value = -0.0023610132003286655\n",
            "Computing the null distribution.\n"
          ]
        },
        {
          "output_type": "stream",
          "name": "stderr",
          "text": [
            "100%|██████████| 1000/1000 [00:00<00:00, 2326.36it/s]\n"
          ]
        },
        {
          "output_type": "stream",
          "name": "stdout",
          "text": [
            "p-value ~= 0.768 \t (resolution : 0.001)\n",
            "2\n",
            "test value = 0.00453901696153447\n",
            "Computing the null distribution.\n"
          ]
        },
        {
          "output_type": "stream",
          "name": "stderr",
          "text": [
            "100%|██████████| 1000/1000 [00:00<00:00, 2358.72it/s]\n"
          ]
        },
        {
          "output_type": "stream",
          "name": "stdout",
          "text": [
            "p-value ~= 0.08700000000000001 \t (resolution : 0.001)\n",
            "3\n",
            "test value = -0.0015550106433952493\n",
            "Computing the null distribution.\n"
          ]
        },
        {
          "output_type": "stream",
          "name": "stderr",
          "text": [
            "100%|██████████| 1000/1000 [00:00<00:00, 2445.37it/s]\n"
          ]
        },
        {
          "output_type": "stream",
          "name": "stdout",
          "text": [
            "p-value ~= 0.551 \t (resolution : 0.001)\n",
            "4\n",
            "test value = 0.00039558697552166677\n",
            "Computing the null distribution.\n"
          ]
        },
        {
          "output_type": "stream",
          "name": "stderr",
          "text": [
            "100%|██████████| 1000/1000 [00:00<00:00, 2430.91it/s]\n"
          ]
        },
        {
          "output_type": "stream",
          "name": "stdout",
          "text": [
            "p-value ~= 0.274 \t (resolution : 0.001)\n",
            "5\n",
            "test value = 0.0013502242905312212\n",
            "Computing the null distribution.\n"
          ]
        },
        {
          "output_type": "stream",
          "name": "stderr",
          "text": [
            "100%|██████████| 1000/1000 [00:00<00:00, 2376.90it/s]\n"
          ]
        },
        {
          "output_type": "stream",
          "name": "stdout",
          "text": [
            "p-value ~= 0.221 \t (resolution : 0.001)\n",
            "6\n",
            "test value = 8.450758144995518e-05\n",
            "Computing the null distribution.\n"
          ]
        },
        {
          "output_type": "stream",
          "name": "stderr",
          "text": [
            "100%|██████████| 1000/1000 [00:00<00:00, 2347.31it/s]\n"
          ]
        },
        {
          "output_type": "stream",
          "name": "stdout",
          "text": [
            "p-value ~= 0.322 \t (resolution : 0.001)\n",
            "7\n",
            "test value = 0.0016895165688577407\n",
            "Computing the null distribution.\n"
          ]
        },
        {
          "output_type": "stream",
          "name": "stderr",
          "text": [
            "100%|██████████| 1000/1000 [00:00<00:00, 2639.35it/s]\n"
          ]
        },
        {
          "output_type": "stream",
          "name": "stdout",
          "text": [
            "p-value ~= 0.209 \t (resolution : 0.001)\n",
            "8\n",
            "test value = -0.0024595414236754376\n",
            "Computing the null distribution.\n"
          ]
        },
        {
          "output_type": "stream",
          "name": "stderr",
          "text": [
            "100%|██████████| 1000/1000 [00:00<00:00, 2363.40it/s]\n"
          ]
        },
        {
          "output_type": "stream",
          "name": "stdout",
          "text": [
            "p-value ~= 0.719 \t (resolution : 0.001)\n",
            "9\n",
            "test value = 0.0003330800700787062\n",
            "Computing the null distribution.\n"
          ]
        },
        {
          "output_type": "stream",
          "name": "stderr",
          "text": [
            "100%|██████████| 1000/1000 [00:00<00:00, 2524.74it/s]\n"
          ]
        },
        {
          "output_type": "stream",
          "name": "stdout",
          "text": [
            "p-value ~= 0.294 \t (resolution : 0.001)\n",
            "10\n",
            "test value = 0.0008464818775728578\n",
            "Computing the null distribution.\n"
          ]
        },
        {
          "output_type": "stream",
          "name": "stderr",
          "text": [
            "100%|██████████| 1000/1000 [00:00<00:00, 2174.32it/s]\n"
          ]
        },
        {
          "output_type": "stream",
          "name": "stdout",
          "text": [
            "p-value ~= 0.248 \t (resolution : 0.001)\n",
            "11\n",
            "test value = -0.00013365907102169672\n",
            "Computing the null distribution.\n"
          ]
        },
        {
          "output_type": "stream",
          "name": "stderr",
          "text": [
            "100%|██████████| 1000/1000 [00:00<00:00, 2566.83it/s]\n"
          ]
        },
        {
          "output_type": "stream",
          "name": "stdout",
          "text": [
            "p-value ~= 0.336 \t (resolution : 0.001)\n",
            "12\n",
            "test value = 0.007122348844040838\n",
            "Computing the null distribution.\n"
          ]
        },
        {
          "output_type": "stream",
          "name": "stderr",
          "text": [
            "100%|██████████| 1000/1000 [00:00<00:00, 2566.50it/s]\n"
          ]
        },
        {
          "output_type": "stream",
          "name": "stdout",
          "text": [
            "p-value ~= 0.048 \t (resolution : 0.001)\n",
            "13\n",
            "test value = 0.0015198375367189154\n",
            "Computing the null distribution.\n"
          ]
        },
        {
          "output_type": "stream",
          "name": "stderr",
          "text": [
            "100%|██████████| 1000/1000 [00:00<00:00, 2533.88it/s]\n"
          ]
        },
        {
          "output_type": "stream",
          "name": "stdout",
          "text": [
            "p-value ~= 0.242 \t (resolution : 0.001)\n",
            "14\n",
            "test value = 0.0014957517443379142\n",
            "Computing the null distribution.\n"
          ]
        },
        {
          "output_type": "stream",
          "name": "stderr",
          "text": [
            "100%|██████████| 1000/1000 [00:00<00:00, 2549.49it/s]\n"
          ]
        },
        {
          "output_type": "stream",
          "name": "stdout",
          "text": [
            "p-value ~= 0.20800000000000002 \t (resolution : 0.001)\n",
            "15\n",
            "test value = -0.0031459292848163845\n",
            "Computing the null distribution.\n"
          ]
        },
        {
          "output_type": "stream",
          "name": "stderr",
          "text": [
            "100%|██████████| 1000/1000 [00:00<00:00, 2443.53it/s]\n"
          ]
        },
        {
          "output_type": "stream",
          "name": "stdout",
          "text": [
            "p-value ~= 0.932 \t (resolution : 0.001)\n",
            "16\n",
            "test value = 0.018727987065312535\n",
            "Computing the null distribution.\n"
          ]
        },
        {
          "output_type": "stream",
          "name": "stderr",
          "text": [
            "100%|██████████| 1000/1000 [00:00<00:00, 2613.05it/s]\n"
          ]
        },
        {
          "output_type": "stream",
          "name": "stdout",
          "text": [
            "p-value ~= 0.003 \t (resolution : 0.001)\n",
            "17\n",
            "test value = -0.001600819862719316\n",
            "Computing the null distribution.\n"
          ]
        },
        {
          "output_type": "stream",
          "name": "stderr",
          "text": [
            "100%|██████████| 1000/1000 [00:00<00:00, 2623.88it/s]\n"
          ]
        },
        {
          "output_type": "stream",
          "name": "stdout",
          "text": [
            "p-value ~= 0.577 \t (resolution : 0.001)\n",
            "18\n",
            "test value = -0.0010632268524359834\n",
            "Computing the null distribution.\n"
          ]
        },
        {
          "output_type": "stream",
          "name": "stderr",
          "text": [
            "100%|██████████| 1000/1000 [00:00<00:00, 2506.56it/s]\n"
          ]
        },
        {
          "output_type": "stream",
          "name": "stdout",
          "text": [
            "p-value ~= 0.467 \t (resolution : 0.001)\n",
            "19\n",
            "test value = -0.0029713177095744836\n",
            "Computing the null distribution.\n"
          ]
        },
        {
          "output_type": "stream",
          "name": "stderr",
          "text": [
            "100%|██████████| 1000/1000 [00:00<00:00, 2541.74it/s]\n"
          ]
        },
        {
          "output_type": "stream",
          "name": "stdout",
          "text": [
            "p-value ~= 0.988 \t (resolution : 0.001)\n",
            "20\n",
            "test value = -0.0023585380396351496\n",
            "Computing the null distribution.\n"
          ]
        },
        {
          "output_type": "stream",
          "name": "stderr",
          "text": [
            "100%|██████████| 1000/1000 [00:00<00:00, 2482.82it/s]\n"
          ]
        },
        {
          "output_type": "stream",
          "name": "stdout",
          "text": [
            "p-value ~= 0.746 \t (resolution : 0.001)\n",
            "21\n",
            "test value = 0.0008983086932674578\n",
            "Computing the null distribution.\n"
          ]
        },
        {
          "output_type": "stream",
          "name": "stderr",
          "text": [
            "100%|██████████| 1000/1000 [00:00<00:00, 2513.27it/s]\n"
          ]
        },
        {
          "output_type": "stream",
          "name": "stdout",
          "text": [
            "p-value ~= 0.253 \t (resolution : 0.001)\n",
            "22\n",
            "test value = -0.001002914023586321\n",
            "Computing the null distribution.\n"
          ]
        },
        {
          "output_type": "stream",
          "name": "stderr",
          "text": [
            "100%|██████████| 1000/1000 [00:00<00:00, 2571.26it/s]\n"
          ]
        },
        {
          "output_type": "stream",
          "name": "stdout",
          "text": [
            "p-value ~= 0.464 \t (resolution : 0.001)\n",
            "23\n",
            "test value = -0.003188562403367179\n",
            "Computing the null distribution.\n"
          ]
        },
        {
          "output_type": "stream",
          "name": "stderr",
          "text": [
            "100%|██████████| 1000/1000 [00:00<00:00, 2596.64it/s]\n"
          ]
        },
        {
          "output_type": "stream",
          "name": "stdout",
          "text": [
            "p-value ~= 0.967 \t (resolution : 0.001)\n",
            "24\n",
            "test value = -0.00016267490707400079\n",
            "Computing the null distribution.\n"
          ]
        },
        {
          "output_type": "stream",
          "name": "stderr",
          "text": [
            "100%|██████████| 1000/1000 [00:02<00:00, 468.03it/s]\n"
          ]
        },
        {
          "output_type": "stream",
          "name": "stdout",
          "text": [
            "p-value ~= 0.377 \t (resolution : 0.001)\n",
            "0\n",
            "test value = -0.0011884070303247452\n",
            "Computing the null distribution.\n"
          ]
        },
        {
          "output_type": "stream",
          "name": "stderr",
          "text": [
            "100%|██████████| 1000/1000 [00:01<00:00, 580.17it/s]\n"
          ]
        },
        {
          "output_type": "stream",
          "name": "stdout",
          "text": [
            "p-value ~= 0.8190000000000001 \t (resolution : 0.001)\n",
            "1\n",
            "test value = 0.002224988795852534\n",
            "Computing the null distribution.\n"
          ]
        },
        {
          "output_type": "stream",
          "name": "stderr",
          "text": [
            "100%|██████████| 1000/1000 [00:02<00:00, 453.73it/s]\n"
          ]
        },
        {
          "output_type": "stream",
          "name": "stdout",
          "text": [
            "p-value ~= 0.09 \t (resolution : 0.001)\n",
            "2\n",
            "test value = -0.0013963063393911401\n",
            "Computing the null distribution.\n"
          ]
        },
        {
          "output_type": "stream",
          "name": "stderr",
          "text": [
            "100%|██████████| 1000/1000 [00:01<00:00, 504.49it/s]\n"
          ]
        },
        {
          "output_type": "stream",
          "name": "stdout",
          "text": [
            "p-value ~= 0.888 \t (resolution : 0.001)\n",
            "3\n",
            "test value = 0.002094067702275826\n",
            "Computing the null distribution.\n"
          ]
        },
        {
          "output_type": "stream",
          "name": "stderr",
          "text": [
            "100%|██████████| 1000/1000 [00:01<00:00, 554.86it/s]\n"
          ]
        },
        {
          "output_type": "stream",
          "name": "stdout",
          "text": [
            "p-value ~= 0.092 \t (resolution : 0.001)\n",
            "4\n",
            "test value = -0.0005142078720692389\n",
            "Computing the null distribution.\n"
          ]
        },
        {
          "output_type": "stream",
          "name": "stderr",
          "text": [
            "100%|██████████| 1000/1000 [00:01<00:00, 513.39it/s]\n"
          ]
        },
        {
          "output_type": "stream",
          "name": "stdout",
          "text": [
            "p-value ~= 0.48 \t (resolution : 0.001)\n",
            "5\n",
            "test value = -0.0009358097157678991\n",
            "Computing the null distribution.\n"
          ]
        },
        {
          "output_type": "stream",
          "name": "stderr",
          "text": [
            "100%|██████████| 1000/1000 [00:02<00:00, 481.73it/s]\n"
          ]
        },
        {
          "output_type": "stream",
          "name": "stdout",
          "text": [
            "p-value ~= 0.627 \t (resolution : 0.001)\n",
            "6\n",
            "test value = -0.0012172410893316332\n",
            "Computing the null distribution.\n"
          ]
        },
        {
          "output_type": "stream",
          "name": "stderr",
          "text": [
            "100%|██████████| 1000/1000 [00:01<00:00, 514.58it/s]\n"
          ]
        },
        {
          "output_type": "stream",
          "name": "stdout",
          "text": [
            "p-value ~= 0.808 \t (resolution : 0.001)\n",
            "7\n",
            "test value = 0.0007323153730818266\n",
            "Computing the null distribution.\n"
          ]
        },
        {
          "output_type": "stream",
          "name": "stderr",
          "text": [
            "100%|██████████| 1000/1000 [00:01<00:00, 508.34it/s]\n"
          ]
        },
        {
          "output_type": "stream",
          "name": "stdout",
          "text": [
            "p-value ~= 0.226 \t (resolution : 0.001)\n",
            "8\n",
            "test value = -0.0013149067521527336\n",
            "Computing the null distribution.\n"
          ]
        },
        {
          "output_type": "stream",
          "name": "stderr",
          "text": [
            "100%|██████████| 1000/1000 [00:01<00:00, 588.17it/s]\n"
          ]
        },
        {
          "output_type": "stream",
          "name": "stdout",
          "text": [
            "p-value ~= 0.8180000000000001 \t (resolution : 0.001)\n",
            "9\n",
            "test value = 0.0033446764832043563\n",
            "Computing the null distribution.\n"
          ]
        },
        {
          "output_type": "stream",
          "name": "stderr",
          "text": [
            "100%|██████████| 1000/1000 [00:01<00:00, 530.71it/s]\n"
          ]
        },
        {
          "output_type": "stream",
          "name": "stdout",
          "text": [
            "p-value ~= 0.053 \t (resolution : 0.001)\n",
            "10\n",
            "test value = -0.001394479934166748\n",
            "Computing the null distribution.\n"
          ]
        },
        {
          "output_type": "stream",
          "name": "stderr",
          "text": [
            "100%|██████████| 1000/1000 [00:01<00:00, 502.35it/s]\n"
          ]
        },
        {
          "output_type": "stream",
          "name": "stdout",
          "text": [
            "p-value ~= 0.843 \t (resolution : 0.001)\n",
            "11\n",
            "test value = -0.001495879381764098\n",
            "Computing the null distribution.\n"
          ]
        },
        {
          "output_type": "stream",
          "name": "stderr",
          "text": [
            "100%|██████████| 1000/1000 [00:01<00:00, 542.85it/s]\n"
          ]
        },
        {
          "output_type": "stream",
          "name": "stdout",
          "text": [
            "p-value ~= 0.995 \t (resolution : 0.001)\n",
            "12\n",
            "test value = 0.002464929649597103\n",
            "Computing the null distribution.\n"
          ]
        },
        {
          "output_type": "stream",
          "name": "stderr",
          "text": [
            "100%|██████████| 1000/1000 [00:01<00:00, 512.08it/s]\n"
          ]
        },
        {
          "output_type": "stream",
          "name": "stdout",
          "text": [
            "p-value ~= 0.088 \t (resolution : 0.001)\n",
            "13\n",
            "test value = 0.0004175169077891283\n",
            "Computing the null distribution.\n"
          ]
        },
        {
          "output_type": "stream",
          "name": "stderr",
          "text": [
            "100%|██████████| 1000/1000 [00:01<00:00, 527.98it/s]\n"
          ]
        },
        {
          "output_type": "stream",
          "name": "stdout",
          "text": [
            "p-value ~= 0.262 \t (resolution : 0.001)\n",
            "14\n",
            "test value = -0.0006814719108279021\n",
            "Computing the null distribution.\n"
          ]
        },
        {
          "output_type": "stream",
          "name": "stderr",
          "text": [
            "100%|██████████| 1000/1000 [00:01<00:00, 547.04it/s]\n"
          ]
        },
        {
          "output_type": "stream",
          "name": "stdout",
          "text": [
            "p-value ~= 0.539 \t (resolution : 0.001)\n",
            "15\n",
            "test value = -0.00034222699221087005\n",
            "Computing the null distribution.\n"
          ]
        },
        {
          "output_type": "stream",
          "name": "stderr",
          "text": [
            "100%|██████████| 1000/1000 [00:01<00:00, 587.35it/s]\n"
          ]
        },
        {
          "output_type": "stream",
          "name": "stdout",
          "text": [
            "p-value ~= 0.406 \t (resolution : 0.001)\n",
            "16\n",
            "test value = -0.001223516301601224\n",
            "Computing the null distribution.\n"
          ]
        },
        {
          "output_type": "stream",
          "name": "stderr",
          "text": [
            "100%|██████████| 1000/1000 [00:01<00:00, 553.39it/s]\n"
          ]
        },
        {
          "output_type": "stream",
          "name": "stdout",
          "text": [
            "p-value ~= 0.749 \t (resolution : 0.001)\n",
            "17\n",
            "test value = -0.0006606564516671298\n",
            "Computing the null distribution.\n"
          ]
        },
        {
          "output_type": "stream",
          "name": "stderr",
          "text": [
            "100%|██████████| 1000/1000 [00:01<00:00, 563.20it/s]\n"
          ]
        },
        {
          "output_type": "stream",
          "name": "stdout",
          "text": [
            "p-value ~= 0.526 \t (resolution : 0.001)\n",
            "18\n",
            "test value = 0.006586053010255721\n",
            "Computing the null distribution.\n"
          ]
        },
        {
          "output_type": "stream",
          "name": "stderr",
          "text": [
            "100%|██████████| 1000/1000 [00:01<00:00, 610.26it/s]\n"
          ]
        },
        {
          "output_type": "stream",
          "name": "stdout",
          "text": [
            "p-value ~= 0.003 \t (resolution : 0.001)\n",
            "19\n",
            "test value = 0.0017252698457566051\n",
            "Computing the null distribution.\n"
          ]
        },
        {
          "output_type": "stream",
          "name": "stderr",
          "text": [
            "100%|██████████| 1000/1000 [00:01<00:00, 558.97it/s]\n"
          ]
        },
        {
          "output_type": "stream",
          "name": "stdout",
          "text": [
            "p-value ~= 0.117 \t (resolution : 0.001)\n",
            "20\n",
            "test value = 0.00010109106599642814\n",
            "Computing the null distribution.\n"
          ]
        },
        {
          "output_type": "stream",
          "name": "stderr",
          "text": [
            "100%|██████████| 1000/1000 [00:01<00:00, 517.99it/s]\n"
          ]
        },
        {
          "output_type": "stream",
          "name": "stdout",
          "text": [
            "p-value ~= 0.35100000000000003 \t (resolution : 0.001)\n",
            "21\n",
            "test value = -0.000853304186567927\n",
            "Computing the null distribution.\n"
          ]
        },
        {
          "output_type": "stream",
          "name": "stderr",
          "text": [
            "100%|██████████| 1000/1000 [00:01<00:00, 536.69it/s]\n"
          ]
        },
        {
          "output_type": "stream",
          "name": "stdout",
          "text": [
            "p-value ~= 0.606 \t (resolution : 0.001)\n",
            "22\n",
            "test value = 0.005947272511245272\n",
            "Computing the null distribution.\n"
          ]
        },
        {
          "output_type": "stream",
          "name": "stderr",
          "text": [
            "100%|██████████| 1000/1000 [00:01<00:00, 526.50it/s]\n"
          ]
        },
        {
          "output_type": "stream",
          "name": "stdout",
          "text": [
            "p-value ~= 0.021 \t (resolution : 0.001)\n",
            "23\n",
            "test value = -0.001092804440532058\n",
            "Computing the null distribution.\n"
          ]
        },
        {
          "output_type": "stream",
          "name": "stderr",
          "text": [
            "100%|██████████| 1000/1000 [00:02<00:00, 448.37it/s]\n"
          ]
        },
        {
          "output_type": "stream",
          "name": "stdout",
          "text": [
            "p-value ~= 0.685 \t (resolution : 0.001)\n",
            "24\n",
            "test value = -0.0003751450029620962\n",
            "Computing the null distribution.\n"
          ]
        },
        {
          "output_type": "stream",
          "name": "stderr",
          "text": [
            "100%|██████████| 1000/1000 [00:05<00:00, 169.50it/s]\n"
          ]
        },
        {
          "output_type": "stream",
          "name": "stdout",
          "text": [
            "p-value ~= 0.518 \t (resolution : 0.001)\n",
            "0\n",
            "test value = 0.000538224328791248\n",
            "Computing the null distribution.\n"
          ]
        },
        {
          "output_type": "stream",
          "name": "stderr",
          "text": [
            "100%|██████████| 1000/1000 [00:05<00:00, 174.29it/s]\n"
          ]
        },
        {
          "output_type": "stream",
          "name": "stdout",
          "text": [
            "p-value ~= 0.203 \t (resolution : 0.001)\n",
            "1\n",
            "test value = 0.002081628414076775\n",
            "Computing the null distribution.\n"
          ]
        },
        {
          "output_type": "stream",
          "name": "stderr",
          "text": [
            "100%|██████████| 1000/1000 [00:05<00:00, 171.66it/s]\n"
          ]
        },
        {
          "output_type": "stream",
          "name": "stdout",
          "text": [
            "p-value ~= 0.057 \t (resolution : 0.001)\n",
            "2\n",
            "test value = 0.0008620983233429413\n",
            "Computing the null distribution.\n"
          ]
        },
        {
          "output_type": "stream",
          "name": "stderr",
          "text": [
            "100%|██████████| 1000/1000 [00:05<00:00, 176.32it/s]\n"
          ]
        },
        {
          "output_type": "stream",
          "name": "stdout",
          "text": [
            "p-value ~= 0.17400000000000002 \t (resolution : 0.001)\n",
            "3\n",
            "test value = -0.0006552084888251652\n",
            "Computing the null distribution.\n"
          ]
        },
        {
          "output_type": "stream",
          "name": "stderr",
          "text": [
            "100%|██████████| 1000/1000 [00:06<00:00, 151.94it/s]\n"
          ]
        },
        {
          "output_type": "stream",
          "name": "stdout",
          "text": [
            "p-value ~= 0.59 \t (resolution : 0.001)\n",
            "4\n",
            "test value = -0.0008897424851410651\n",
            "Computing the null distribution.\n"
          ]
        },
        {
          "output_type": "stream",
          "name": "stderr",
          "text": [
            "100%|██████████| 1000/1000 [00:06<00:00, 162.91it/s]\n"
          ]
        },
        {
          "output_type": "stream",
          "name": "stdout",
          "text": [
            "p-value ~= 0.857 \t (resolution : 0.001)\n",
            "5\n",
            "test value = 0.0003580978454382766\n",
            "Computing the null distribution.\n"
          ]
        },
        {
          "output_type": "stream",
          "name": "stderr",
          "text": [
            "100%|██████████| 1000/1000 [00:06<00:00, 152.58it/s]\n"
          ]
        },
        {
          "output_type": "stream",
          "name": "stdout",
          "text": [
            "p-value ~= 0.214 \t (resolution : 0.001)\n",
            "6\n",
            "test value = -5.68279611705691e-05\n",
            "Computing the null distribution.\n"
          ]
        },
        {
          "output_type": "stream",
          "name": "stderr",
          "text": [
            "100%|██████████| 1000/1000 [00:05<00:00, 172.01it/s]\n"
          ]
        },
        {
          "output_type": "stream",
          "name": "stdout",
          "text": [
            "p-value ~= 0.333 \t (resolution : 0.001)\n",
            "7\n",
            "test value = 0.00013756812119902762\n",
            "Computing the null distribution.\n"
          ]
        },
        {
          "output_type": "stream",
          "name": "stderr",
          "text": [
            "100%|██████████| 1000/1000 [00:05<00:00, 170.84it/s]\n"
          ]
        },
        {
          "output_type": "stream",
          "name": "stdout",
          "text": [
            "p-value ~= 0.294 \t (resolution : 0.001)\n",
            "8\n",
            "test value = -0.0010560572472744223\n",
            "Computing the null distribution.\n"
          ]
        },
        {
          "output_type": "stream",
          "name": "stderr",
          "text": [
            "100%|██████████| 1000/1000 [00:06<00:00, 158.98it/s]\n"
          ]
        },
        {
          "output_type": "stream",
          "name": "stdout",
          "text": [
            "p-value ~= 0.991 \t (resolution : 0.001)\n",
            "9\n",
            "test value = 0.00020289735347756022\n",
            "Computing the null distribution.\n"
          ]
        },
        {
          "output_type": "stream",
          "name": "stderr",
          "text": [
            "100%|██████████| 1000/1000 [00:06<00:00, 162.25it/s]\n"
          ]
        },
        {
          "output_type": "stream",
          "name": "stdout",
          "text": [
            "p-value ~= 0.278 \t (resolution : 0.001)\n",
            "10\n",
            "test value = -0.0009363620487421453\n",
            "Computing the null distribution.\n"
          ]
        },
        {
          "output_type": "stream",
          "name": "stderr",
          "text": [
            "100%|██████████| 1000/1000 [00:05<00:00, 184.47it/s]\n"
          ]
        },
        {
          "output_type": "stream",
          "name": "stdout",
          "text": [
            "p-value ~= 0.846 \t (resolution : 0.001)\n",
            "11\n",
            "test value = 0.0003320056543774097\n",
            "Computing the null distribution.\n"
          ]
        },
        {
          "output_type": "stream",
          "name": "stderr",
          "text": [
            "100%|██████████| 1000/1000 [00:05<00:00, 177.69it/s]\n"
          ]
        },
        {
          "output_type": "stream",
          "name": "stdout",
          "text": [
            "p-value ~= 0.243 \t (resolution : 0.001)\n",
            "12\n",
            "test value = -0.001040253230054855\n",
            "Computing the null distribution.\n"
          ]
        },
        {
          "output_type": "stream",
          "name": "stderr",
          "text": [
            "100%|██████████| 1000/1000 [00:06<00:00, 152.69it/s]\n"
          ]
        },
        {
          "output_type": "stream",
          "name": "stdout",
          "text": [
            "p-value ~= 0.979 \t (resolution : 0.001)\n",
            "13\n",
            "test value = -0.0009472261702561102\n",
            "Computing the null distribution.\n"
          ]
        },
        {
          "output_type": "stream",
          "name": "stderr",
          "text": [
            "100%|██████████| 1000/1000 [00:07<00:00, 135.57it/s]\n"
          ]
        },
        {
          "output_type": "stream",
          "name": "stdout",
          "text": [
            "p-value ~= 0.8310000000000001 \t (resolution : 0.001)\n",
            "14\n",
            "test value = -0.0004140221415225298\n",
            "Computing the null distribution.\n"
          ]
        },
        {
          "output_type": "stream",
          "name": "stderr",
          "text": [
            "100%|██████████| 1000/1000 [00:07<00:00, 130.55it/s]\n"
          ]
        },
        {
          "output_type": "stream",
          "name": "stdout",
          "text": [
            "p-value ~= 0.522 \t (resolution : 0.001)\n",
            "15\n",
            "test value = -0.001073645231988829\n",
            "Computing the null distribution.\n"
          ]
        },
        {
          "output_type": "stream",
          "name": "stderr",
          "text": [
            "100%|██████████| 1000/1000 [00:07<00:00, 140.30it/s]\n"
          ]
        },
        {
          "output_type": "stream",
          "name": "stdout",
          "text": [
            "p-value ~= 0.99 \t (resolution : 0.001)\n",
            "16\n",
            "test value = 0.0014647707538610888\n",
            "Computing the null distribution.\n"
          ]
        },
        {
          "output_type": "stream",
          "name": "stderr",
          "text": [
            "100%|██████████| 1000/1000 [00:06<00:00, 148.71it/s]\n"
          ]
        },
        {
          "output_type": "stream",
          "name": "stdout",
          "text": [
            "p-value ~= 0.096 \t (resolution : 0.001)\n",
            "17\n",
            "test value = -0.0009138536398367592\n",
            "Computing the null distribution.\n"
          ]
        },
        {
          "output_type": "stream",
          "name": "stderr",
          "text": [
            "100%|██████████| 1000/1000 [00:05<00:00, 184.53it/s]\n"
          ]
        },
        {
          "output_type": "stream",
          "name": "stdout",
          "text": [
            "p-value ~= 0.9590000000000001 \t (resolution : 0.001)\n",
            "18\n",
            "test value = -0.000593909543209703\n",
            "Computing the null distribution.\n"
          ]
        },
        {
          "output_type": "stream",
          "name": "stderr",
          "text": [
            "100%|██████████| 1000/1000 [00:05<00:00, 182.63it/s]\n"
          ]
        },
        {
          "output_type": "stream",
          "name": "stdout",
          "text": [
            "p-value ~= 0.614 \t (resolution : 0.001)\n",
            "19\n",
            "test value = -3.7375734032174535e-06\n",
            "Computing the null distribution.\n"
          ]
        },
        {
          "output_type": "stream",
          "name": "stderr",
          "text": [
            "100%|██████████| 1000/1000 [00:06<00:00, 152.83it/s]\n"
          ]
        },
        {
          "output_type": "stream",
          "name": "stdout",
          "text": [
            "p-value ~= 0.352 \t (resolution : 0.001)\n",
            "20\n",
            "test value = -0.0004889507541752103\n",
            "Computing the null distribution.\n"
          ]
        },
        {
          "output_type": "stream",
          "name": "stderr",
          "text": [
            "100%|██████████| 1000/1000 [00:07<00:00, 129.70it/s]\n"
          ]
        },
        {
          "output_type": "stream",
          "name": "stdout",
          "text": [
            "p-value ~= 0.517 \t (resolution : 0.001)\n",
            "21\n",
            "test value = -0.0007950385922619319\n",
            "Computing the null distribution.\n"
          ]
        },
        {
          "output_type": "stream",
          "name": "stderr",
          "text": [
            "100%|██████████| 1000/1000 [00:06<00:00, 153.36it/s]\n"
          ]
        },
        {
          "output_type": "stream",
          "name": "stdout",
          "text": [
            "p-value ~= 0.764 \t (resolution : 0.001)\n",
            "22\n",
            "test value = -0.0007458132855624466\n",
            "Computing the null distribution.\n"
          ]
        },
        {
          "output_type": "stream",
          "name": "stderr",
          "text": [
            "100%|██████████| 1000/1000 [00:05<00:00, 174.66it/s]\n"
          ]
        },
        {
          "output_type": "stream",
          "name": "stdout",
          "text": [
            "p-value ~= 0.719 \t (resolution : 0.001)\n",
            "23\n",
            "test value = 0.00034843912031479185\n",
            "Computing the null distribution.\n"
          ]
        },
        {
          "output_type": "stream",
          "name": "stderr",
          "text": [
            "100%|██████████| 1000/1000 [00:06<00:00, 161.14it/s]\n"
          ]
        },
        {
          "output_type": "stream",
          "name": "stdout",
          "text": [
            "p-value ~= 0.226 \t (resolution : 0.001)\n",
            "24\n",
            "test value = -7.764289513323419e-05\n",
            "Computing the null distribution.\n"
          ]
        },
        {
          "output_type": "stream",
          "name": "stderr",
          "text": [
            "100%|██████████| 1000/1000 [00:13<00:00, 72.65it/s]\n"
          ]
        },
        {
          "output_type": "stream",
          "name": "stdout",
          "text": [
            "p-value ~= 0.369 \t (resolution : 0.001)\n",
            "0\n",
            "test value = -0.0006792304284539696\n",
            "Computing the null distribution.\n"
          ]
        },
        {
          "output_type": "stream",
          "name": "stderr",
          "text": [
            "100%|██████████| 1000/1000 [00:11<00:00, 90.18it/s]\n"
          ]
        },
        {
          "output_type": "stream",
          "name": "stdout",
          "text": [
            "p-value ~= 0.805 \t (resolution : 0.001)\n",
            "1\n",
            "test value = -0.0006596852207905179\n",
            "Computing the null distribution.\n"
          ]
        },
        {
          "output_type": "stream",
          "name": "stderr",
          "text": [
            "100%|██████████| 1000/1000 [00:11<00:00, 85.64it/s]\n"
          ]
        },
        {
          "output_type": "stream",
          "name": "stdout",
          "text": [
            "p-value ~= 0.8180000000000001 \t (resolution : 0.001)\n",
            "2\n",
            "test value = -0.0005772731057676062\n",
            "Computing the null distribution.\n"
          ]
        },
        {
          "output_type": "stream",
          "name": "stderr",
          "text": [
            "100%|██████████| 1000/1000 [00:12<00:00, 79.20it/s]\n"
          ]
        },
        {
          "output_type": "stream",
          "name": "stdout",
          "text": [
            "p-value ~= 0.734 \t (resolution : 0.001)\n",
            "3\n",
            "test value = -0.000701328227311615\n",
            "Computing the null distribution.\n"
          ]
        },
        {
          "output_type": "stream",
          "name": "stderr",
          "text": [
            "100%|██████████| 1000/1000 [00:12<00:00, 78.38it/s]\n"
          ]
        },
        {
          "output_type": "stream",
          "name": "stdout",
          "text": [
            "p-value ~= 0.903 \t (resolution : 0.001)\n",
            "4\n",
            "test value = -0.0001371965520848839\n",
            "Computing the null distribution.\n"
          ]
        },
        {
          "output_type": "stream",
          "name": "stderr",
          "text": [
            "100%|██████████| 1000/1000 [00:12<00:00, 77.58it/s]\n"
          ]
        },
        {
          "output_type": "stream",
          "name": "stdout",
          "text": [
            "p-value ~= 0.389 \t (resolution : 0.001)\n",
            "5\n",
            "test value = -0.000244909208779287\n",
            "Computing the null distribution.\n"
          ]
        },
        {
          "output_type": "stream",
          "name": "stderr",
          "text": [
            "100%|██████████| 1000/1000 [00:15<00:00, 65.02it/s]\n"
          ]
        },
        {
          "output_type": "stream",
          "name": "stdout",
          "text": [
            "p-value ~= 0.439 \t (resolution : 0.001)\n",
            "6\n",
            "test value = -0.00025452148186277945\n",
            "Computing the null distribution.\n"
          ]
        },
        {
          "output_type": "stream",
          "name": "stderr",
          "text": [
            "100%|██████████| 1000/1000 [00:16<00:00, 59.34it/s]\n"
          ]
        },
        {
          "output_type": "stream",
          "name": "stdout",
          "text": [
            "p-value ~= 0.442 \t (resolution : 0.001)\n",
            "7\n",
            "test value = 5.740364091799677e-05\n",
            "Computing the null distribution.\n"
          ]
        },
        {
          "output_type": "stream",
          "name": "stderr",
          "text": [
            "100%|██████████| 1000/1000 [00:17<00:00, 58.80it/s]\n"
          ]
        },
        {
          "output_type": "stream",
          "name": "stdout",
          "text": [
            "p-value ~= 0.305 \t (resolution : 0.001)\n",
            "8\n",
            "test value = 0.0007759090262184909\n",
            "Computing the null distribution.\n"
          ]
        },
        {
          "output_type": "stream",
          "name": "stderr",
          "text": [
            "100%|██████████| 1000/1000 [00:18<00:00, 52.89it/s]\n"
          ]
        },
        {
          "output_type": "stream",
          "name": "stdout",
          "text": [
            "p-value ~= 0.125 \t (resolution : 0.001)\n",
            "9\n",
            "test value = -0.00029384436712454054\n",
            "Computing the null distribution.\n"
          ]
        },
        {
          "output_type": "stream",
          "name": "stderr",
          "text": [
            "100%|██████████| 1000/1000 [00:16<00:00, 59.34it/s]\n"
          ]
        },
        {
          "output_type": "stream",
          "name": "stdout",
          "text": [
            "p-value ~= 0.489 \t (resolution : 0.001)\n",
            "10\n",
            "test value = 5.722330873347836e-05\n",
            "Computing the null distribution.\n"
          ]
        },
        {
          "output_type": "stream",
          "name": "stderr",
          "text": [
            "100%|██████████| 1000/1000 [00:15<00:00, 65.23it/s]\n"
          ]
        },
        {
          "output_type": "stream",
          "name": "stdout",
          "text": [
            "p-value ~= 0.318 \t (resolution : 0.001)\n",
            "11\n",
            "test value = -0.0005237144147784978\n",
            "Computing the null distribution.\n"
          ]
        },
        {
          "output_type": "stream",
          "name": "stderr",
          "text": [
            "100%|██████████| 1000/1000 [00:14<00:00, 67.75it/s]\n"
          ]
        },
        {
          "output_type": "stream",
          "name": "stdout",
          "text": [
            "p-value ~= 0.677 \t (resolution : 0.001)\n",
            "12\n",
            "test value = 0.00010044691736954547\n",
            "Computing the null distribution.\n"
          ]
        },
        {
          "output_type": "stream",
          "name": "stderr",
          "text": [
            "100%|██████████| 1000/1000 [00:13<00:00, 72.84it/s]\n"
          ]
        },
        {
          "output_type": "stream",
          "name": "stdout",
          "text": [
            "p-value ~= 0.296 \t (resolution : 0.001)\n",
            "13\n",
            "test value = 0.00016097332648423723\n",
            "Computing the null distribution.\n"
          ]
        },
        {
          "output_type": "stream",
          "name": "stderr",
          "text": [
            "100%|██████████| 1000/1000 [00:12<00:00, 77.41it/s]\n"
          ]
        },
        {
          "output_type": "stream",
          "name": "stdout",
          "text": [
            "p-value ~= 0.268 \t (resolution : 0.001)\n",
            "14\n",
            "test value = -0.00027015984781253444\n",
            "Computing the null distribution.\n"
          ]
        },
        {
          "output_type": "stream",
          "name": "stderr",
          "text": [
            "100%|██████████| 1000/1000 [00:16<00:00, 59.47it/s]\n"
          ]
        },
        {
          "output_type": "stream",
          "name": "stdout",
          "text": [
            "p-value ~= 0.47400000000000003 \t (resolution : 0.001)\n",
            "15\n",
            "test value = 0.0006407566712400836\n",
            "Computing the null distribution.\n"
          ]
        },
        {
          "output_type": "stream",
          "name": "stderr",
          "text": [
            "100%|██████████| 1000/1000 [00:15<00:00, 65.35it/s]\n"
          ]
        },
        {
          "output_type": "stream",
          "name": "stdout",
          "text": [
            "p-value ~= 0.17300000000000001 \t (resolution : 0.001)\n",
            "16\n",
            "test value = 0.00032409248866782647\n",
            "Computing the null distribution.\n"
          ]
        },
        {
          "output_type": "stream",
          "name": "stderr",
          "text": [
            "100%|██████████| 1000/1000 [00:15<00:00, 65.97it/s]\n"
          ]
        },
        {
          "output_type": "stream",
          "name": "stdout",
          "text": [
            "p-value ~= 0.218 \t (resolution : 0.001)\n",
            "17\n",
            "test value = 0.00019526268197589403\n",
            "Computing the null distribution.\n"
          ]
        },
        {
          "output_type": "stream",
          "name": "stderr",
          "text": [
            "100%|██████████| 1000/1000 [00:16<00:00, 60.74it/s]\n"
          ]
        },
        {
          "output_type": "stream",
          "name": "stdout",
          "text": [
            "p-value ~= 0.264 \t (resolution : 0.001)\n",
            "18\n",
            "test value = -0.0005147504818550086\n",
            "Computing the null distribution.\n"
          ]
        },
        {
          "output_type": "stream",
          "name": "stderr",
          "text": [
            "100%|██████████| 1000/1000 [00:13<00:00, 71.49it/s]\n"
          ]
        },
        {
          "output_type": "stream",
          "name": "stdout",
          "text": [
            "p-value ~= 0.669 \t (resolution : 0.001)\n",
            "19\n",
            "test value = 0.0006813200234623285\n",
            "Computing the null distribution.\n"
          ]
        },
        {
          "output_type": "stream",
          "name": "stderr",
          "text": [
            "100%|██████████| 1000/1000 [00:11<00:00, 84.23it/s]\n"
          ]
        },
        {
          "output_type": "stream",
          "name": "stdout",
          "text": [
            "p-value ~= 0.157 \t (resolution : 0.001)\n",
            "20\n",
            "test value = -0.0003184881981614929\n",
            "Computing the null distribution.\n"
          ]
        },
        {
          "output_type": "stream",
          "name": "stderr",
          "text": [
            "100%|██████████| 1000/1000 [00:12<00:00, 82.63it/s]\n"
          ]
        },
        {
          "output_type": "stream",
          "name": "stdout",
          "text": [
            "p-value ~= 0.542 \t (resolution : 0.001)\n",
            "21\n",
            "test value = -0.0006590131541477362\n",
            "Computing the null distribution.\n"
          ]
        },
        {
          "output_type": "stream",
          "name": "stderr",
          "text": [
            "100%|██████████| 1000/1000 [00:13<00:00, 75.86it/s]\n"
          ]
        },
        {
          "output_type": "stream",
          "name": "stdout",
          "text": [
            "p-value ~= 0.856 \t (resolution : 0.001)\n",
            "22\n",
            "test value = -0.0006006633692210439\n",
            "Computing the null distribution.\n"
          ]
        },
        {
          "output_type": "stream",
          "name": "stderr",
          "text": [
            "100%|██████████| 1000/1000 [00:16<00:00, 61.53it/s]\n"
          ]
        },
        {
          "output_type": "stream",
          "name": "stdout",
          "text": [
            "p-value ~= 0.8160000000000001 \t (resolution : 0.001)\n",
            "23\n",
            "test value = 0.0013477214001775817\n",
            "Computing the null distribution.\n"
          ]
        },
        {
          "output_type": "stream",
          "name": "stderr",
          "text": [
            "100%|██████████| 1000/1000 [00:12<00:00, 79.93it/s]\n"
          ]
        },
        {
          "output_type": "stream",
          "name": "stdout",
          "text": [
            "p-value ~= 0.062 \t (resolution : 0.001)\n",
            "24\n",
            "test value = -0.00038703455224475825\n",
            "Computing the null distribution.\n"
          ]
        },
        {
          "output_type": "stream",
          "name": "stderr",
          "text": [
            "100%|██████████| 1000/1000 [00:24<00:00, 40.69it/s]\n"
          ]
        },
        {
          "output_type": "stream",
          "name": "stdout",
          "text": [
            "p-value ~= 0.663 \t (resolution : 0.001)\n",
            "0\n",
            "test value = -0.0003380897188156595\n",
            "Computing the null distribution.\n"
          ]
        },
        {
          "output_type": "stream",
          "name": "stderr",
          "text": [
            "100%|██████████| 1000/1000 [00:24<00:00, 40.47it/s]\n"
          ]
        },
        {
          "output_type": "stream",
          "name": "stdout",
          "text": [
            "p-value ~= 0.5750000000000001 \t (resolution : 0.001)\n",
            "1\n",
            "test value = 0.0007702427032267867\n",
            "Computing the null distribution.\n"
          ]
        },
        {
          "output_type": "stream",
          "name": "stderr",
          "text": [
            "100%|██████████| 1000/1000 [00:23<00:00, 41.98it/s]\n"
          ]
        },
        {
          "output_type": "stream",
          "name": "stdout",
          "text": [
            "p-value ~= 0.11900000000000001 \t (resolution : 0.001)\n",
            "2\n",
            "test value = 0.0010452914413532355\n",
            "Computing the null distribution.\n"
          ]
        },
        {
          "output_type": "stream",
          "name": "stderr",
          "text": [
            "100%|██████████| 1000/1000 [00:25<00:00, 39.60it/s]\n"
          ]
        },
        {
          "output_type": "stream",
          "name": "stdout",
          "text": [
            "p-value ~= 0.095 \t (resolution : 0.001)\n",
            "3\n",
            "test value = 0.0018023032519638438\n",
            "Computing the null distribution.\n"
          ]
        },
        {
          "output_type": "stream",
          "name": "stderr",
          "text": [
            "100%|██████████| 1000/1000 [00:22<00:00, 45.40it/s]\n"
          ]
        },
        {
          "output_type": "stream",
          "name": "stdout",
          "text": [
            "p-value ~= 0.033 \t (resolution : 0.001)\n",
            "4\n",
            "test value = -0.0005821473229745688\n",
            "Computing the null distribution.\n"
          ]
        },
        {
          "output_type": "stream",
          "name": "stderr",
          "text": [
            "100%|██████████| 1000/1000 [00:25<00:00, 39.23it/s]\n"
          ]
        },
        {
          "output_type": "stream",
          "name": "stdout",
          "text": [
            "p-value ~= 0.9480000000000001 \t (resolution : 0.001)\n",
            "5\n",
            "test value = -0.0002050592334579271\n",
            "Computing the null distribution.\n"
          ]
        },
        {
          "output_type": "stream",
          "name": "stderr",
          "text": [
            "100%|██████████| 1000/1000 [00:22<00:00, 43.56it/s]\n"
          ]
        },
        {
          "output_type": "stream",
          "name": "stdout",
          "text": [
            "p-value ~= 0.448 \t (resolution : 0.001)\n",
            "6\n",
            "test value = -0.0005208617240624047\n",
            "Computing the null distribution.\n"
          ]
        },
        {
          "output_type": "stream",
          "name": "stderr",
          "text": [
            "100%|██████████| 1000/1000 [00:21<00:00, 45.70it/s]\n"
          ]
        },
        {
          "output_type": "stream",
          "name": "stdout",
          "text": [
            "p-value ~= 0.844 \t (resolution : 0.001)\n",
            "7\n",
            "test value = -0.00020538250964774463\n",
            "Computing the null distribution.\n"
          ]
        },
        {
          "output_type": "stream",
          "name": "stderr",
          "text": [
            "100%|██████████| 1000/1000 [00:24<00:00, 41.42it/s]\n"
          ]
        },
        {
          "output_type": "stream",
          "name": "stdout",
          "text": [
            "p-value ~= 0.468 \t (resolution : 0.001)\n",
            "8\n",
            "test value = 0.0018132145480771467\n",
            "Computing the null distribution.\n"
          ]
        },
        {
          "output_type": "stream",
          "name": "stderr",
          "text": [
            "100%|██████████| 1000/1000 [00:21<00:00, 46.53it/s]\n"
          ]
        },
        {
          "output_type": "stream",
          "name": "stdout",
          "text": [
            "p-value ~= 0.032 \t (resolution : 0.001)\n",
            "9\n",
            "test value = -0.0005212909148677447\n",
            "Computing the null distribution.\n"
          ]
        },
        {
          "output_type": "stream",
          "name": "stderr",
          "text": [
            "100%|██████████| 1000/1000 [00:23<00:00, 42.22it/s]\n"
          ]
        },
        {
          "output_type": "stream",
          "name": "stdout",
          "text": [
            "p-value ~= 0.847 \t (resolution : 0.001)\n",
            "10\n",
            "test value = 0.0004386336634285559\n",
            "Computing the null distribution.\n"
          ]
        },
        {
          "output_type": "stream",
          "name": "stderr",
          "text": [
            "100%|██████████| 1000/1000 [00:24<00:00, 40.84it/s]\n"
          ]
        },
        {
          "output_type": "stream",
          "name": "stdout",
          "text": [
            "p-value ~= 0.182 \t (resolution : 0.001)\n",
            "11\n",
            "test value = -0.000284392965734348\n",
            "Computing the null distribution.\n"
          ]
        },
        {
          "output_type": "stream",
          "name": "stderr",
          "text": [
            "100%|██████████| 1000/1000 [00:22<00:00, 45.32it/s]\n"
          ]
        },
        {
          "output_type": "stream",
          "name": "stdout",
          "text": [
            "p-value ~= 0.529 \t (resolution : 0.001)\n",
            "12\n",
            "test value = -4.93742628706606e-05\n",
            "Computing the null distribution.\n"
          ]
        },
        {
          "output_type": "stream",
          "name": "stderr",
          "text": [
            "100%|██████████| 1000/1000 [00:22<00:00, 43.58it/s]\n"
          ]
        },
        {
          "output_type": "stream",
          "name": "stdout",
          "text": [
            "p-value ~= 0.381 \t (resolution : 0.001)\n",
            "13\n",
            "test value = -0.0002047785154601911\n",
            "Computing the null distribution.\n"
          ]
        },
        {
          "output_type": "stream",
          "name": "stderr",
          "text": [
            "100%|██████████| 1000/1000 [00:23<00:00, 41.78it/s]\n"
          ]
        },
        {
          "output_type": "stream",
          "name": "stdout",
          "text": [
            "p-value ~= 0.451 \t (resolution : 0.001)\n",
            "14\n",
            "test value = -0.0003551516752651196\n",
            "Computing the null distribution.\n"
          ]
        },
        {
          "output_type": "stream",
          "name": "stderr",
          "text": [
            "100%|██████████| 1000/1000 [00:24<00:00, 40.25it/s]\n"
          ]
        },
        {
          "output_type": "stream",
          "name": "stdout",
          "text": [
            "p-value ~= 0.634 \t (resolution : 0.001)\n",
            "15\n",
            "test value = -0.00042395449286014575\n",
            "Computing the null distribution.\n"
          ]
        },
        {
          "output_type": "stream",
          "name": "stderr",
          "text": [
            "100%|██████████| 1000/1000 [00:24<00:00, 41.50it/s]\n"
          ]
        },
        {
          "output_type": "stream",
          "name": "stdout",
          "text": [
            "p-value ~= 0.68 \t (resolution : 0.001)\n",
            "16\n",
            "test value = 0.0006224947149722215\n",
            "Computing the null distribution.\n"
          ]
        },
        {
          "output_type": "stream",
          "name": "stderr",
          "text": [
            "100%|██████████| 1000/1000 [00:23<00:00, 43.14it/s]\n"
          ]
        },
        {
          "output_type": "stream",
          "name": "stdout",
          "text": [
            "p-value ~= 0.138 \t (resolution : 0.001)\n",
            "17\n",
            "test value = -0.00023410130227285997\n",
            "Computing the null distribution.\n"
          ]
        },
        {
          "output_type": "stream",
          "name": "stderr",
          "text": [
            "100%|██████████| 1000/1000 [00:25<00:00, 39.69it/s]\n"
          ]
        },
        {
          "output_type": "stream",
          "name": "stdout",
          "text": [
            "p-value ~= 0.482 \t (resolution : 0.001)\n",
            "18\n",
            "test value = 0.0007316786140219023\n",
            "Computing the null distribution.\n"
          ]
        },
        {
          "output_type": "stream",
          "name": "stderr",
          "text": [
            "100%|██████████| 1000/1000 [00:25<00:00, 38.90it/s]\n"
          ]
        },
        {
          "output_type": "stream",
          "name": "stdout",
          "text": [
            "p-value ~= 0.113 \t (resolution : 0.001)\n",
            "19\n",
            "test value = 0.00010996995528533837\n",
            "Computing the null distribution.\n"
          ]
        },
        {
          "output_type": "stream",
          "name": "stderr",
          "text": [
            "100%|██████████| 1000/1000 [00:24<00:00, 40.21it/s]\n"
          ]
        },
        {
          "output_type": "stream",
          "name": "stdout",
          "text": [
            "p-value ~= 0.263 \t (resolution : 0.001)\n",
            "20\n",
            "test value = -0.000575752792699058\n",
            "Computing the null distribution.\n"
          ]
        },
        {
          "output_type": "stream",
          "name": "stderr",
          "text": [
            "100%|██████████| 1000/1000 [00:23<00:00, 42.36it/s]\n"
          ]
        },
        {
          "output_type": "stream",
          "name": "stdout",
          "text": [
            "p-value ~= 0.9590000000000001 \t (resolution : 0.001)\n",
            "21\n",
            "test value = 0.0001552861719389398\n",
            "Computing the null distribution.\n"
          ]
        },
        {
          "output_type": "stream",
          "name": "stderr",
          "text": [
            "100%|██████████| 1000/1000 [00:22<00:00, 44.62it/s]\n"
          ]
        },
        {
          "output_type": "stream",
          "name": "stdout",
          "text": [
            "p-value ~= 0.255 \t (resolution : 0.001)\n",
            "22\n",
            "test value = -0.0004256346378435083\n",
            "Computing the null distribution.\n"
          ]
        },
        {
          "output_type": "stream",
          "name": "stderr",
          "text": [
            "100%|██████████| 1000/1000 [00:22<00:00, 45.00it/s]\n"
          ]
        },
        {
          "output_type": "stream",
          "name": "stdout",
          "text": [
            "p-value ~= 0.679 \t (resolution : 0.001)\n",
            "23\n",
            "test value = 0.0002320488672198362\n",
            "Computing the null distribution.\n"
          ]
        },
        {
          "output_type": "stream",
          "name": "stderr",
          "text": [
            "100%|██████████| 1000/1000 [00:24<00:00, 41.58it/s]\n"
          ]
        },
        {
          "output_type": "stream",
          "name": "stdout",
          "text": [
            "p-value ~= 0.252 \t (resolution : 0.001)\n",
            "24\n",
            "test value = -7.094701262255754e-05\n",
            "Computing the null distribution.\n"
          ]
        },
        {
          "output_type": "stream",
          "name": "stderr",
          "text": [
            "100%|██████████| 1000/1000 [00:42<00:00, 23.75it/s]\n"
          ]
        },
        {
          "output_type": "stream",
          "name": "stdout",
          "text": [
            "p-value ~= 0.377 \t (resolution : 0.001)\n",
            "0\n",
            "test value = -0.00043455943452919144\n",
            "Computing the null distribution.\n"
          ]
        },
        {
          "output_type": "stream",
          "name": "stderr",
          "text": [
            "100%|██████████| 1000/1000 [00:41<00:00, 24.25it/s]\n"
          ]
        },
        {
          "output_type": "stream",
          "name": "stdout",
          "text": [
            "p-value ~= 0.86 \t (resolution : 0.001)\n",
            "1\n",
            "test value = -0.0004609472241157153\n",
            "Computing the null distribution.\n"
          ]
        },
        {
          "output_type": "stream",
          "name": "stderr",
          "text": [
            "100%|██████████| 1000/1000 [00:42<00:00, 23.59it/s]\n"
          ]
        },
        {
          "output_type": "stream",
          "name": "stdout",
          "text": [
            "p-value ~= 0.868 \t (resolution : 0.001)\n",
            "2\n",
            "test value = -0.00048634071380670996\n",
            "Computing the null distribution.\n"
          ]
        },
        {
          "output_type": "stream",
          "name": "stderr",
          "text": [
            "100%|██████████| 1000/1000 [00:39<00:00, 25.36it/s]\n"
          ]
        },
        {
          "output_type": "stream",
          "name": "stdout",
          "text": [
            "p-value ~= 0.9540000000000001 \t (resolution : 0.001)\n",
            "3\n",
            "test value = -0.0003205245411670443\n",
            "Computing the null distribution.\n"
          ]
        },
        {
          "output_type": "stream",
          "name": "stderr",
          "text": [
            "100%|██████████| 1000/1000 [00:41<00:00, 24.13it/s]\n"
          ]
        },
        {
          "output_type": "stream",
          "name": "stdout",
          "text": [
            "p-value ~= 0.668 \t (resolution : 0.001)\n",
            "4\n",
            "test value = -7.471723684537857e-05\n",
            "Computing the null distribution.\n"
          ]
        },
        {
          "output_type": "stream",
          "name": "stderr",
          "text": [
            "100%|██████████| 1000/1000 [00:38<00:00, 26.06it/s]\n"
          ]
        },
        {
          "output_type": "stream",
          "name": "stdout",
          "text": [
            "p-value ~= 0.379 \t (resolution : 0.001)\n",
            "5\n",
            "test value = -2.222865424261755e-05\n",
            "Computing the null distribution.\n"
          ]
        },
        {
          "output_type": "stream",
          "name": "stderr",
          "text": [
            "100%|██████████| 1000/1000 [00:40<00:00, 24.83it/s]\n"
          ]
        },
        {
          "output_type": "stream",
          "name": "stdout",
          "text": [
            "p-value ~= 0.34900000000000003 \t (resolution : 0.001)\n",
            "6\n",
            "test value = 0.00041638164962365387\n",
            "Computing the null distribution.\n"
          ]
        },
        {
          "output_type": "stream",
          "name": "stderr",
          "text": [
            "100%|██████████| 1000/1000 [00:37<00:00, 26.95it/s]\n"
          ]
        },
        {
          "output_type": "stream",
          "name": "stdout",
          "text": [
            "p-value ~= 0.149 \t (resolution : 0.001)\n",
            "7\n",
            "test value = -0.0004066535091196144\n",
            "Computing the null distribution.\n"
          ]
        },
        {
          "output_type": "stream",
          "name": "stderr",
          "text": [
            "100%|██████████| 1000/1000 [00:40<00:00, 24.96it/s]\n"
          ]
        },
        {
          "output_type": "stream",
          "name": "stdout",
          "text": [
            "p-value ~= 0.769 \t (resolution : 0.001)\n",
            "8\n",
            "test value = -0.0004287535354887684\n",
            "Computing the null distribution.\n"
          ]
        },
        {
          "output_type": "stream",
          "name": "stderr",
          "text": [
            "100%|██████████| 1000/1000 [00:40<00:00, 24.47it/s]\n"
          ]
        },
        {
          "output_type": "stream",
          "name": "stdout",
          "text": [
            "p-value ~= 0.872 \t (resolution : 0.001)\n",
            "9\n",
            "test value = -0.00047973953674662617\n",
            "Computing the null distribution.\n"
          ]
        },
        {
          "output_type": "stream",
          "name": "stderr",
          "text": [
            "100%|██████████| 1000/1000 [00:39<00:00, 25.23it/s]\n"
          ]
        },
        {
          "output_type": "stream",
          "name": "stdout",
          "text": [
            "p-value ~= 0.964 \t (resolution : 0.001)\n",
            "10\n",
            "test value = 0.0020511617249143743\n",
            "Computing the null distribution.\n"
          ]
        },
        {
          "output_type": "stream",
          "name": "stderr",
          "text": [
            "100%|██████████| 1000/1000 [00:38<00:00, 25.92it/s]\n"
          ]
        },
        {
          "output_type": "stream",
          "name": "stdout",
          "text": [
            "p-value ~= 0.015 \t (resolution : 0.001)\n",
            "11\n",
            "test value = 0.0005901525712297406\n",
            "Computing the null distribution.\n"
          ]
        },
        {
          "output_type": "stream",
          "name": "stderr",
          "text": [
            "100%|██████████| 1000/1000 [00:40<00:00, 24.74it/s]\n"
          ]
        },
        {
          "output_type": "stream",
          "name": "stdout",
          "text": [
            "p-value ~= 0.127 \t (resolution : 0.001)\n",
            "12\n",
            "test value = -0.00045258839656292515\n",
            "Computing the null distribution.\n"
          ]
        },
        {
          "output_type": "stream",
          "name": "stderr",
          "text": [
            "100%|██████████| 1000/1000 [00:41<00:00, 24.36it/s]\n"
          ]
        },
        {
          "output_type": "stream",
          "name": "stdout",
          "text": [
            "p-value ~= 0.877 \t (resolution : 0.001)\n",
            "13\n",
            "test value = 0.0010558235735032007\n",
            "Computing the null distribution.\n"
          ]
        },
        {
          "output_type": "stream",
          "name": "stderr",
          "text": [
            "100%|██████████| 1000/1000 [00:38<00:00, 26.21it/s]\n"
          ]
        },
        {
          "output_type": "stream",
          "name": "stdout",
          "text": [
            "p-value ~= 0.059000000000000004 \t (resolution : 0.001)\n",
            "14\n",
            "test value = -0.0003082419372986145\n",
            "Computing the null distribution.\n"
          ]
        },
        {
          "output_type": "stream",
          "name": "stderr",
          "text": [
            "100%|██████████| 1000/1000 [00:38<00:00, 26.19it/s]\n"
          ]
        },
        {
          "output_type": "stream",
          "name": "stdout",
          "text": [
            "p-value ~= 0.615 \t (resolution : 0.001)\n",
            "15\n",
            "test value = -0.0004891097184058779\n",
            "Computing the null distribution.\n"
          ]
        },
        {
          "output_type": "stream",
          "name": "stderr",
          "text": [
            "100%|██████████| 1000/1000 [00:39<00:00, 25.59it/s]\n"
          ]
        },
        {
          "output_type": "stream",
          "name": "stdout",
          "text": [
            "p-value ~= 0.878 \t (resolution : 0.001)\n",
            "16\n",
            "test value = -0.00044348005108574284\n",
            "Computing the null distribution.\n"
          ]
        },
        {
          "output_type": "stream",
          "name": "stderr",
          "text": [
            "100%|██████████| 1000/1000 [00:36<00:00, 27.26it/s]\n"
          ]
        },
        {
          "output_type": "stream",
          "name": "stdout",
          "text": [
            "p-value ~= 0.873 \t (resolution : 0.001)\n",
            "17\n",
            "test value = -0.0002802847465386282\n",
            "Computing the null distribution.\n"
          ]
        },
        {
          "output_type": "stream",
          "name": "stderr",
          "text": [
            "100%|██████████| 1000/1000 [00:38<00:00, 26.08it/s]\n"
          ]
        },
        {
          "output_type": "stream",
          "name": "stdout",
          "text": [
            "p-value ~= 0.61 \t (resolution : 0.001)\n",
            "18\n",
            "test value = -0.0004858125213267339\n",
            "Computing the null distribution.\n"
          ]
        },
        {
          "output_type": "stream",
          "name": "stderr",
          "text": [
            "100%|██████████| 1000/1000 [00:38<00:00, 25.71it/s]\n"
          ]
        },
        {
          "output_type": "stream",
          "name": "stdout",
          "text": [
            "p-value ~= 0.9400000000000001 \t (resolution : 0.001)\n",
            "19\n",
            "test value = -0.0004083127775857953\n",
            "Computing the null distribution.\n"
          ]
        },
        {
          "output_type": "stream",
          "name": "stderr",
          "text": [
            "100%|██████████| 1000/1000 [00:42<00:00, 23.39it/s]\n"
          ]
        },
        {
          "output_type": "stream",
          "name": "stdout",
          "text": [
            "p-value ~= 0.796 \t (resolution : 0.001)\n",
            "20\n",
            "test value = -0.00010777468218603481\n",
            "Computing the null distribution.\n"
          ]
        },
        {
          "output_type": "stream",
          "name": "stderr",
          "text": [
            "100%|██████████| 1000/1000 [00:41<00:00, 24.29it/s]\n"
          ]
        },
        {
          "output_type": "stream",
          "name": "stdout",
          "text": [
            "p-value ~= 0.42 \t (resolution : 0.001)\n",
            "21\n",
            "test value = 1.14320887756314e-06\n",
            "Computing the null distribution.\n"
          ]
        },
        {
          "output_type": "stream",
          "name": "stderr",
          "text": [
            "100%|██████████| 1000/1000 [00:39<00:00, 25.12it/s]\n"
          ]
        },
        {
          "output_type": "stream",
          "name": "stdout",
          "text": [
            "p-value ~= 0.314 \t (resolution : 0.001)\n",
            "22\n",
            "test value = 0.0016027681106232095\n",
            "Computing the null distribution.\n"
          ]
        },
        {
          "output_type": "stream",
          "name": "stderr",
          "text": [
            "100%|██████████| 1000/1000 [00:37<00:00, 26.91it/s]\n"
          ]
        },
        {
          "output_type": "stream",
          "name": "stdout",
          "text": [
            "p-value ~= 0.031 \t (resolution : 0.001)\n",
            "23\n",
            "test value = -0.0003871234852785843\n",
            "Computing the null distribution.\n"
          ]
        },
        {
          "output_type": "stream",
          "name": "stderr",
          "text": [
            "100%|██████████| 1000/1000 [00:38<00:00, 26.14it/s]"
          ]
        },
        {
          "output_type": "stream",
          "name": "stdout",
          "text": [
            "p-value ~= 0.788 \t (resolution : 0.001)\n",
            "24\n"
          ]
        },
        {
          "output_type": "stream",
          "name": "stderr",
          "text": [
            "\n"
          ]
        }
      ],
      "source": [
        "#two arrays to hold the size of the data sets generated and their corresponding p_values\n",
        "sample_size=[]\n",
        "p_values_array=[]\n",
        "rej_rate_array=[]\n",
        "\n",
        "i=1\n",
        "#Number of sample sizes used\n",
        "#a smaller number of iterations was performed for the K-L test as it takes much longer\n",
        "while i<7:\n",
        "  #determines value of the sample size\n",
        "  i_int=i*100\n",
        "  p_int=0.\n",
        "  j=0\n",
        "  rej=0\n",
        "  #for each sample size, 25 p_values are computed and the average of them is saved\n",
        "  #This is to make the plot less noisy and follows the process outlined in the paper\n",
        "  while j<25:\n",
        "    X=normal(loc=0., scale=1.0, size=i_int)\n",
        "    \n",
        "    Y=normal(loc=0., scale=1.0, size=i_int)\n",
        "    \n",
        "    gamma=.1\n",
        "    XX = X[:, np.newaxis]\n",
        "    YY = Y[:, np.newaxis]\n",
        "\n",
        "#call the function used to perform the two sample hypothesis test. \n",
        "    mmd2u, mmd2u_null, p_value = two_sample_test(XX, YY,\n",
        "                           model='MMD',\n",
        "                           kernel_function='rbf',\n",
        "                           gamma=gamma,\n",
        "                           iterations=1000,\n",
        "                           n_jobs=1,\n",
        "                           verbose=True)\n",
        "    \n",
        "    if p_value<.05:\n",
        "      rej+=1\n",
        "\n",
        "    p_int+=p_value\n",
        "    print(j)\n",
        "    j+=1\n",
        "  \n",
        "  avg_p_value=p_int/25.\n",
        "  reject_rate=rej/25.\n",
        "  sample_size.append(i_int)\n",
        "  p_values_array.append(avg_p_value)\n",
        "  rej_rate_array.append(reject_rate)\n",
        "  \n",
        "  i=i+1\n",
        "\n",
        "#writes all values to a file so that they can be used later\n",
        "#file1 = open(\"/content/gdrive/MyDrive/tatter-master/SampleSize_rej.txt\", \"w\")\n",
        "#np.savetxt(file1, sample_size)\n",
        "#file1.close()\n",
        "\n",
        "file2 = open(\"/content/gdrive/MyDrive/tatter-master/rejRateforMMDTest_samemean.txt\", \"w\")\n",
        "np.savetxt(file2, rej_rate_array)\n",
        "file2.close()\n"
      ]
    },
    {
      "cell_type": "markdown",
      "source": [
        "Now to plot the results"
      ],
      "metadata": {
        "id": "f7apUVdh9KgW"
      }
    },
    {
      "cell_type": "code",
      "execution_count": 4,
      "metadata": {
        "id": "cLj5FQ5T7Oac"
      },
      "outputs": [],
      "source": [
        "#saves data from files to an array\n",
        "p_KS_diffmean=np.genfromtxt('/content/gdrive/MyDrive/tatter-master/pValueforKSTest_diffmean_test.txt').transpose()\n",
        "p_KS_samemean=np.genfromtxt('/content/gdrive/MyDrive/tatter-master/pValueforKSTest_samemean_test.txt').transpose()\n",
        "\n",
        "p_MMD_diffmean=np.genfromtxt('/content/gdrive/MyDrive/tatter-master/pValueforMMDTest.txt').transpose()\n",
        "p_MMD_samemean=np.genfromtxt('/content/gdrive/MyDrive/tatter-master/pValueforMMDTest_samemean.txt').transpose()\n",
        "\n",
        "p_KL_diffmean=np.genfromtxt('/content/gdrive/MyDrive/tatter-master/pValueforKLTest_diffmean.txt').transpose()\n",
        "p_KL_samemean=np.genfromtxt('/content/gdrive/MyDrive/tatter-master/pValueforKLTest_samemean.txt').transpose()\n",
        "\n",
        "rej_rate_MMD_samemean=np.genfromtxt('/content/gdrive/MyDrive/tatter-master/rejRateforMMDTest_samemean.txt').transpose()\n",
        "rej_rate_KS_samemean=np.genfromtxt('/content/gdrive/MyDrive/tatter-master/rejRateforKSTest_samemean.txt').transpose()\n",
        "rej_rate_KL_samemean=np.genfromtxt('/content/gdrive/MyDrive/tatter-master/rejRateforKLTest_samemean.txt').transpose()\n",
        "\n",
        "rej_rate_MMD_diffmean=np.genfromtxt('/content/gdrive/MyDrive/tatter-master/rejRateforMMDTest_diffmean.txt').transpose()\n",
        "rej_rate_KS_diffmean=np.genfromtxt('/content/gdrive/MyDrive/tatter-master/rejRateforKSTest_diffmean.txt').transpose()\n",
        "rej_rate_KL_diffmean=np.genfromtxt('/content/gdrive/MyDrive/tatter-master/rejRateforKLTest_diffmean.txt').transpose()\n",
        "sample_rej=np.genfromtxt('/content/gdrive/MyDrive/tatter-master/SampleSize_rej.txt').transpose()\n",
        "\n",
        "sample=np.genfromtxt('/content/gdrive/MyDrive/tatter-master/SampleSizeFinal.txt').transpose()\n",
        "KL_sample=np.array([100.,200.,300.,400.,500.])\n"
      ]
    },
    {
      "cell_type": "markdown",
      "source": [
        "###Same Mean"
      ],
      "metadata": {
        "id": "-qCjMhaj30g-"
      }
    },
    {
      "cell_type": "markdown",
      "source": [
        "Average p_value when the distributions have the same mean"
      ],
      "metadata": {
        "id": "4OutDaZd9tIy"
      }
    },
    {
      "cell_type": "code",
      "execution_count": null,
      "metadata": {
        "colab": {
          "base_uri": "https://localhost:8080/",
          "height": 297
        },
        "id": "M2NimQqLduXE",
        "outputId": "077cce47-7bd6-4094-f40c-2ffa60b9602a"
      },
      "outputs": [
        {
          "data": {
            "text/plain": [
              "<matplotlib.legend.Legend at 0x7f9e794ccc90>"
            ]
          },
          "execution_count": 24,
          "metadata": {},
          "output_type": "execute_result"
        },
        {
          "data": {
            "image/png": "[encoded data removed]",
            "text/plain": [
              "<Figure size 432x288 with 1 Axes>"
            ]
          },
          "metadata": {},
          "output_type": "display_data"
        }
      ],
      "source": [
        "plt.plot(sample,p_KS_samemean,color='red',label='K-S test')\n",
        "plt.plot(sample,p_MMD_samemean,color='blue',label='MMD test')\n",
        "plt.plot(KL_sample,p_KL_samemean,color='green',label='K-L test')\n",
        "plt.axhspan(0., 0.05, alpha=0.2)\n",
        "plt.xlabel('Sample Size')\n",
        "plt.ylabel('p_value')\n",
        "plt.ylim([0,.65])\n",
        "plt.legend()"
      ]
    },
    {
      "cell_type": "markdown",
      "source": [
        "The results of all tests are similar. They all find that the distributions are the same as the p-value is never low enough to reject the null hypothesis."
      ],
      "metadata": {
        "id": "mkOaOikk_EUO"
      }
    },
    {
      "cell_type": "markdown",
      "source": [
        "The plot below shows the rejection rate for all three tests as a function of sample size. A larger rejection rate means that a p_value that was low enough to reject the null hypothesis was found more often when performing the test many times. For two Gaussian distributions with the same mean, we would expect a low (or zero) rejection rate. We see that below. The gray region corresponds to a rejection rate of less than 0.05%."
      ],
      "metadata": {
        "id": "HzIAAagm2von"
      }
    },
    {
      "cell_type": "code",
      "source": [
        "plt.plot(sample_rej,rej_rate_KS_samemean,color='red',label='K-S test')\n",
        "plt.plot(sample_rej,rej_rate_MMD_samemean,color='blue',label='MMD test')\n",
        "plt.plot(sample_rej,rej_rate_KL_samemean,color='green',label='K-L test')\n",
        "plt.axhspan(0., 0.05, alpha=0.2)\n",
        "plt.xlabel('Sample Size')\n",
        "plt.ylabel('rejection rate')\n",
        "plt.ylim([0,.6])\n",
        "plt.legend()"
      ],
      "metadata": {
        "colab": {
          "base_uri": "https://localhost:8080/",
          "height": 301
        },
        "id": "GEO1v9QJtjyW",
        "outputId": "ca2cf790-a571-469e-e749-22b5f8c722e3"
      },
      "execution_count": 5,
      "outputs": [
        {
          "output_type": "execute_result",
          "data": {
            "text/plain": [
              "<matplotlib.legend.Legend at 0x7fd8e4ffc3a0>"
            ]
          },
          "metadata": {},
          "execution_count": 5
        },
        {
          "output_type": "display_data",
          "data": {
            "text/plain": [
              "<Figure size 432x288 with 1 Axes>"
            ],
            "image/png": "[encoded data removed]"
          },
          "metadata": {
            "needs_background": "light"
          }
        }
      ]
    },
    {
      "cell_type": "markdown",
      "source": [
        "###Different Mean"
      ],
      "metadata": {
        "id": "AzXEp4fH34Ff"
      }
    },
    {
      "cell_type": "markdown",
      "source": [
        "Average p_value when distributions have different means."
      ],
      "metadata": {
        "id": "W_FNlQQb-HGe"
      }
    },
    {
      "cell_type": "code",
      "execution_count": null,
      "metadata": {
        "colab": {
          "base_uri": "https://localhost:8080/",
          "height": 301
        },
        "id": "2rH91I-VcyD2",
        "outputId": "54fc87e6-cacc-4a8d-bf3b-10d198cab026"
      },
      "outputs": [
        {
          "data": {
            "text/plain": [
              "<matplotlib.legend.Legend at 0x7f9e796a7810>"
            ]
          },
          "execution_count": 21,
          "metadata": {},
          "output_type": "execute_result"
        },
        {
          "data": {
            "image/png": "[encoded data removed]",
            "text/plain": [
              "<Figure size 432x288 with 1 Axes>"
            ]
          },
          "metadata": {},
          "output_type": "display_data"
        }
      ],
      "source": [
        "plt.plot(sample,p_KS_diffmean,color='red',label='K-S test')\n",
        "plt.plot(sample,p_MMD_diffmean,color='blue',label='MMD test')\n",
        "plt.plot(KL_sample,p_KL_diffmean,color='green',label='K-L test')\n",
        "plt.axhspan(0., 0.05, alpha=0.2)\n",
        "plt.xlabel('Sample Size')\n",
        "plt.ylabel('p_value')\n",
        "plt.ylim([0,.6])\n",
        "plt.legend()"
      ]
    },
    {
      "cell_type": "markdown",
      "source": [
        "Here we see that the performance of the MDD and K-S tests are similar. At sample sizes of ~400 the two sample test returns a p_value less than .05 (gray shaded region) correctly concluding that the two Gaussian distributions are different."
      ],
      "metadata": {
        "id": "PwgR70wd-lmc"
      }
    },
    {
      "cell_type": "markdown",
      "source": [
        "The rejection rate for two Gaussian distributions with different means. The plot corresponds to what we would expect from above. The rejection rate is higher for the MMD and K-S tests as the sample size increases implying that the tests are often correctly rejecting the null hypothesis."
      ],
      "metadata": {
        "id": "sUqpNQq8U1T5"
      }
    },
    {
      "cell_type": "code",
      "source": [
        "plt.plot(KL_sample,rej_rate_KS_diffmean,color='red',label='K-S test')\n",
        "plt.plot(KL_sample,rej_rate_MMD_diffmean,color='blue',label='MMD test')\n",
        "plt.plot(KL_sample,rej_rate_KL_diffmean,color='green',label='K-L test')\n",
        "plt.axhspan(0., 0.05, alpha=0.2)\n",
        "plt.xlabel('Sample Size')\n",
        "plt.ylabel('rejection rate')\n",
        "plt.ylim([0,1.1])\n",
        "plt.legend()"
      ],
      "metadata": {
        "colab": {
          "base_uri": "https://localhost:8080/",
          "height": 297
        },
        "id": "xJ1mF1qhrJZ0",
        "outputId": "9cfe232e-961f-493f-de91-65a6b18bc27f"
      },
      "execution_count": 6,
      "outputs": [
        {
          "output_type": "execute_result",
          "data": {
            "text/plain": [
              "<matplotlib.legend.Legend at 0x7fd8d9c8d640>"
            ]
          },
          "metadata": {},
          "execution_count": 6
        },
        {
          "output_type": "display_data",
          "data": {
            "text/plain": [
              "<Figure size 432x288 with 1 Axes>"
            ],
            "image/png": "[encoded data removed]"
          },
          "metadata": {
            "needs_background": "light"
          }
        }
      ]
    },
    {
      "cell_type": "markdown",
      "source": [
        "##MMD and K-L tests for multi-dimensional data"
      ],
      "metadata": {
        "id": "wjC2jrHv4nbD"
      }
    },
    {
      "cell_type": "markdown",
      "source": [
        "Next is to test the performance of the MMD test on multi-dimensional distributions, as that is the main improvement of this model (K-S test only works for 1-dimensional data). Structure of the code is similar. The only difference is that the data sets passed through two sample test are N-dimensional arrays."
      ],
      "metadata": {
        "id": "jkhGwdXl-WAY"
      }
    },
    {
      "cell_type": "code",
      "execution_count": 7,
      "metadata": {
        "colab": {
          "base_uri": "https://localhost:8080/"
        },
        "id": "qI0_VGEc1cdd",
        "outputId": "ad2d1fda-3cd6-419a-981e-b8ed0bad5be7"
      },
      "outputs": [
        {
          "output_type": "stream",
          "name": "stdout",
          "text": [
            "[ 5. 10. 15. 20.]\n",
            "1\n",
            "2\n",
            "3\n",
            "4\n",
            "5\n",
            "6\n",
            "7\n",
            "8\n",
            "9\n",
            "10\n",
            "11\n",
            "12\n",
            "13\n",
            "14\n",
            "15\n",
            "16\n",
            "17\n",
            "18\n",
            "19\n",
            "20\n",
            "21\n",
            "22\n",
            "23\n",
            "24\n",
            "25\n",
            "26\n",
            "27\n",
            "28\n",
            "29\n",
            "30\n",
            "31\n",
            "32\n",
            "33\n",
            "34\n",
            "35\n",
            "36\n",
            "37\n",
            "38\n",
            "39\n",
            "40\n",
            "41\n",
            "42\n",
            "43\n",
            "44\n",
            "45\n",
            "46\n",
            "47\n",
            "48\n",
            "49\n",
            "50\n",
            "51\n",
            "52\n",
            "53\n",
            "54\n",
            "55\n",
            "56\n",
            "57\n",
            "58\n",
            "59\n",
            "60\n",
            "61\n",
            "62\n",
            "63\n",
            "64\n",
            "65\n",
            "66\n",
            "67\n",
            "68\n",
            "69\n",
            "70\n",
            "71\n",
            "72\n",
            "73\n",
            "74\n",
            "75\n",
            "76\n",
            "77\n",
            "78\n",
            "79\n",
            "80\n",
            "81\n",
            "82\n",
            "83\n",
            "84\n",
            "85\n",
            "86\n",
            "87\n",
            "88\n",
            "89\n",
            "90\n",
            "91\n",
            "92\n",
            "93\n",
            "94\n",
            "95\n",
            "96\n",
            "97\n",
            "98\n",
            "99\n",
            "1\n",
            "2\n",
            "3\n",
            "4\n",
            "5\n",
            "6\n",
            "7\n",
            "8\n",
            "9\n",
            "10\n",
            "11\n",
            "12\n",
            "13\n",
            "14\n",
            "15\n",
            "16\n",
            "17\n",
            "18\n",
            "19\n",
            "20\n",
            "21\n",
            "22\n",
            "23\n",
            "24\n",
            "25\n",
            "26\n",
            "27\n",
            "28\n",
            "29\n",
            "30\n",
            "31\n",
            "32\n",
            "33\n",
            "34\n",
            "35\n",
            "36\n",
            "37\n",
            "38\n",
            "39\n",
            "40\n",
            "41\n",
            "42\n",
            "43\n",
            "44\n",
            "45\n",
            "46\n",
            "47\n",
            "48\n",
            "49\n",
            "50\n",
            "51\n",
            "52\n",
            "53\n",
            "54\n",
            "55\n",
            "56\n",
            "57\n",
            "58\n",
            "59\n",
            "60\n",
            "61\n",
            "62\n",
            "63\n",
            "64\n",
            "65\n",
            "66\n",
            "67\n",
            "68\n",
            "69\n",
            "70\n",
            "71\n",
            "72\n",
            "73\n",
            "74\n",
            "75\n",
            "76\n",
            "77\n",
            "78\n",
            "79\n",
            "80\n",
            "81\n",
            "82\n",
            "83\n",
            "84\n",
            "85\n",
            "86\n",
            "87\n",
            "88\n",
            "89\n",
            "90\n",
            "91\n",
            "92\n",
            "93\n",
            "94\n",
            "95\n",
            "96\n",
            "97\n",
            "98\n",
            "99\n",
            "1\n",
            "2\n",
            "3\n",
            "4\n",
            "5\n",
            "6\n",
            "7\n",
            "8\n",
            "9\n",
            "10\n",
            "11\n",
            "12\n",
            "13\n",
            "14\n",
            "15\n",
            "16\n",
            "17\n",
            "18\n",
            "19\n",
            "20\n",
            "21\n",
            "22\n",
            "23\n",
            "24\n",
            "25\n",
            "26\n",
            "27\n",
            "28\n",
            "29\n",
            "30\n",
            "31\n",
            "32\n",
            "33\n",
            "34\n",
            "35\n",
            "36\n",
            "37\n",
            "38\n",
            "39\n",
            "40\n",
            "41\n",
            "42\n",
            "43\n",
            "44\n",
            "45\n",
            "46\n",
            "47\n",
            "48\n",
            "49\n",
            "50\n",
            "51\n",
            "52\n",
            "53\n",
            "54\n",
            "55\n",
            "56\n",
            "57\n",
            "58\n",
            "59\n",
            "60\n",
            "61\n",
            "62\n",
            "63\n",
            "64\n",
            "65\n",
            "66\n",
            "67\n",
            "68\n",
            "69\n",
            "70\n",
            "71\n",
            "72\n",
            "73\n",
            "74\n",
            "75\n",
            "76\n",
            "77\n",
            "78\n",
            "79\n",
            "80\n",
            "81\n",
            "82\n",
            "83\n",
            "84\n",
            "85\n",
            "86\n",
            "87\n",
            "88\n",
            "89\n",
            "90\n",
            "91\n",
            "92\n",
            "93\n",
            "94\n",
            "95\n",
            "96\n",
            "97\n",
            "98\n",
            "99\n",
            "1\n",
            "2\n",
            "3\n",
            "4\n",
            "5\n",
            "6\n",
            "7\n",
            "8\n",
            "9\n",
            "10\n",
            "11\n",
            "12\n",
            "13\n",
            "14\n",
            "15\n",
            "16\n",
            "17\n",
            "18\n",
            "19\n",
            "20\n",
            "21\n",
            "22\n",
            "23\n",
            "24\n",
            "25\n",
            "26\n",
            "27\n",
            "28\n",
            "29\n",
            "30\n",
            "31\n",
            "32\n",
            "33\n",
            "34\n",
            "35\n",
            "36\n",
            "37\n",
            "38\n",
            "39\n",
            "40\n",
            "41\n",
            "42\n",
            "43\n",
            "44\n",
            "45\n",
            "46\n",
            "47\n",
            "48\n",
            "49\n",
            "50\n",
            "51\n",
            "52\n",
            "53\n",
            "54\n",
            "55\n",
            "56\n",
            "57\n",
            "58\n",
            "59\n",
            "60\n",
            "61\n",
            "62\n",
            "63\n",
            "64\n",
            "65\n",
            "66\n",
            "67\n",
            "68\n",
            "69\n",
            "70\n",
            "71\n",
            "72\n",
            "73\n",
            "74\n",
            "75\n",
            "76\n",
            "77\n",
            "78\n",
            "79\n",
            "80\n",
            "81\n",
            "82\n",
            "83\n",
            "84\n",
            "85\n",
            "86\n",
            "87\n",
            "88\n",
            "89\n",
            "90\n",
            "91\n",
            "92\n",
            "93\n",
            "94\n",
            "95\n",
            "96\n",
            "97\n",
            "98\n",
            "99\n",
            "1\n",
            "2\n",
            "3\n",
            "4\n",
            "5\n",
            "6\n",
            "7\n",
            "8\n",
            "9\n",
            "10\n",
            "11\n",
            "12\n",
            "13\n",
            "14\n",
            "15\n",
            "16\n",
            "17\n",
            "18\n",
            "19\n",
            "20\n",
            "21\n",
            "22\n",
            "23\n",
            "24\n",
            "25\n",
            "26\n",
            "27\n",
            "28\n",
            "29\n",
            "30\n",
            "31\n",
            "32\n",
            "33\n",
            "34\n",
            "35\n",
            "36\n",
            "37\n",
            "38\n",
            "39\n",
            "40\n",
            "41\n",
            "42\n",
            "43\n",
            "44\n",
            "45\n",
            "46\n",
            "47\n",
            "48\n",
            "49\n",
            "50\n",
            "51\n",
            "52\n",
            "53\n",
            "54\n",
            "55\n",
            "56\n",
            "57\n",
            "58\n",
            "59\n",
            "60\n",
            "61\n",
            "62\n",
            "63\n",
            "64\n",
            "65\n",
            "66\n",
            "67\n",
            "68\n",
            "69\n",
            "70\n",
            "71\n",
            "72\n",
            "73\n",
            "74\n",
            "75\n",
            "76\n",
            "77\n",
            "78\n",
            "79\n",
            "80\n",
            "81\n",
            "82\n",
            "83\n",
            "84\n",
            "85\n",
            "86\n",
            "87\n",
            "88\n",
            "89\n",
            "90\n",
            "91\n",
            "92\n",
            "93\n",
            "94\n",
            "95\n",
            "96\n",
            "97\n",
            "98\n",
            "99\n",
            "1\n",
            "2\n",
            "3\n",
            "4\n",
            "5\n",
            "6\n",
            "7\n",
            "8\n",
            "9\n",
            "10\n",
            "11\n",
            "12\n",
            "13\n",
            "14\n",
            "15\n",
            "16\n",
            "17\n",
            "18\n",
            "19\n",
            "20\n",
            "21\n",
            "22\n",
            "23\n",
            "24\n",
            "25\n",
            "26\n",
            "27\n",
            "28\n",
            "29\n",
            "30\n",
            "31\n",
            "32\n",
            "33\n",
            "34\n",
            "35\n",
            "36\n",
            "37\n",
            "38\n",
            "39\n",
            "40\n",
            "41\n",
            "42\n",
            "43\n",
            "44\n",
            "45\n",
            "46\n",
            "47\n",
            "48\n",
            "49\n",
            "50\n",
            "51\n",
            "52\n",
            "53\n",
            "54\n",
            "55\n",
            "56\n",
            "57\n",
            "58\n",
            "59\n",
            "60\n",
            "61\n",
            "62\n",
            "63\n",
            "64\n",
            "65\n",
            "66\n",
            "67\n",
            "68\n",
            "69\n",
            "70\n",
            "71\n",
            "72\n",
            "73\n",
            "74\n",
            "75\n",
            "76\n",
            "77\n",
            "78\n",
            "79\n",
            "80\n",
            "81\n",
            "82\n",
            "83\n",
            "84\n",
            "85\n",
            "86\n",
            "87\n",
            "88\n",
            "89\n",
            "90\n",
            "91\n",
            "92\n",
            "93\n",
            "94\n",
            "95\n",
            "96\n",
            "97\n",
            "98\n",
            "99\n",
            "1\n",
            "2\n",
            "3\n",
            "4\n",
            "5\n",
            "6\n",
            "7\n",
            "8\n",
            "9\n",
            "10\n",
            "11\n",
            "12\n",
            "13\n",
            "14\n",
            "15\n",
            "16\n",
            "17\n",
            "18\n",
            "19\n",
            "20\n",
            "21\n",
            "22\n",
            "23\n",
            "24\n",
            "25\n",
            "26\n",
            "27\n",
            "28\n",
            "29\n",
            "30\n",
            "31\n",
            "32\n",
            "33\n",
            "34\n",
            "35\n",
            "36\n",
            "37\n",
            "38\n",
            "39\n",
            "40\n",
            "41\n",
            "42\n",
            "43\n",
            "44\n",
            "45\n",
            "46\n",
            "47\n",
            "48\n",
            "49\n",
            "50\n",
            "51\n",
            "52\n",
            "53\n",
            "54\n",
            "55\n",
            "56\n",
            "57\n",
            "58\n",
            "59\n",
            "60\n",
            "61\n",
            "62\n",
            "63\n",
            "64\n",
            "65\n",
            "66\n",
            "67\n",
            "68\n",
            "69\n",
            "70\n",
            "71\n",
            "72\n",
            "73\n",
            "74\n",
            "75\n",
            "76\n",
            "77\n",
            "78\n",
            "79\n",
            "80\n",
            "81\n",
            "82\n",
            "83\n",
            "84\n",
            "85\n",
            "86\n",
            "87\n",
            "88\n",
            "89\n",
            "90\n",
            "91\n",
            "92\n",
            "93\n",
            "94\n",
            "95\n",
            "96\n",
            "97\n",
            "98\n",
            "99\n",
            "1\n",
            "2\n",
            "3\n",
            "4\n",
            "5\n",
            "6\n",
            "7\n",
            "8\n",
            "9\n",
            "10\n",
            "11\n",
            "12\n",
            "13\n",
            "14\n",
            "15\n",
            "16\n",
            "17\n",
            "18\n",
            "19\n",
            "20\n",
            "21\n",
            "22\n",
            "23\n",
            "24\n",
            "25\n",
            "26\n",
            "27\n",
            "28\n",
            "29\n",
            "30\n",
            "31\n",
            "32\n",
            "33\n",
            "34\n",
            "35\n",
            "36\n",
            "37\n",
            "38\n",
            "39\n",
            "40\n",
            "41\n",
            "42\n",
            "43\n",
            "44\n",
            "45\n",
            "46\n",
            "47\n",
            "48\n",
            "49\n",
            "50\n",
            "51\n",
            "52\n",
            "53\n",
            "54\n",
            "55\n",
            "56\n",
            "57\n",
            "58\n",
            "59\n",
            "60\n",
            "61\n",
            "62\n",
            "63\n",
            "64\n",
            "65\n",
            "66\n",
            "67\n",
            "68\n",
            "69\n",
            "70\n",
            "71\n",
            "72\n",
            "73\n",
            "74\n",
            "75\n",
            "76\n",
            "77\n",
            "78\n",
            "79\n",
            "80\n",
            "81\n",
            "82\n",
            "83\n",
            "84\n",
            "85\n",
            "86\n",
            "87\n",
            "88\n",
            "89\n",
            "90\n",
            "91\n",
            "92\n",
            "93\n",
            "94\n",
            "95\n",
            "96\n",
            "97\n",
            "98\n",
            "99\n",
            "1\n",
            "2\n",
            "3\n",
            "4\n",
            "5\n",
            "6\n",
            "7\n",
            "8\n",
            "9\n",
            "10\n",
            "11\n",
            "12\n",
            "13\n",
            "14\n",
            "15\n",
            "16\n",
            "17\n",
            "18\n",
            "19\n",
            "20\n",
            "21\n",
            "22\n",
            "23\n",
            "24\n",
            "25\n",
            "26\n",
            "27\n",
            "28\n",
            "29\n",
            "30\n",
            "31\n",
            "32\n",
            "33\n",
            "34\n",
            "35\n",
            "36\n",
            "37\n",
            "38\n",
            "39\n",
            "40\n",
            "41\n",
            "42\n",
            "43\n",
            "44\n",
            "45\n",
            "46\n",
            "47\n",
            "48\n",
            "49\n",
            "50\n",
            "51\n",
            "52\n",
            "53\n",
            "54\n",
            "55\n",
            "56\n",
            "57\n",
            "58\n",
            "59\n",
            "60\n",
            "61\n",
            "62\n",
            "63\n",
            "64\n",
            "65\n",
            "66\n",
            "67\n",
            "68\n",
            "69\n",
            "70\n",
            "71\n",
            "72\n",
            "73\n",
            "74\n",
            "75\n",
            "76\n",
            "77\n",
            "78\n",
            "79\n",
            "80\n",
            "81\n",
            "82\n",
            "83\n",
            "84\n",
            "85\n",
            "86\n",
            "87\n",
            "88\n",
            "89\n",
            "90\n",
            "91\n",
            "92\n",
            "93\n",
            "94\n",
            "95\n",
            "96\n",
            "97\n",
            "98\n",
            "99\n",
            "1\n",
            "2\n",
            "3\n",
            "4\n",
            "5\n",
            "6\n",
            "7\n",
            "8\n",
            "9\n",
            "10\n",
            "11\n",
            "12\n",
            "13\n",
            "14\n",
            "15\n",
            "16\n",
            "17\n",
            "18\n",
            "19\n",
            "20\n",
            "21\n",
            "22\n",
            "23\n",
            "24\n",
            "25\n",
            "26\n",
            "27\n",
            "28\n",
            "29\n",
            "30\n",
            "31\n",
            "32\n",
            "33\n",
            "34\n",
            "35\n",
            "36\n",
            "37\n",
            "38\n",
            "39\n",
            "40\n",
            "41\n",
            "42\n",
            "43\n",
            "44\n",
            "45\n",
            "46\n",
            "47\n",
            "48\n",
            "49\n",
            "50\n",
            "51\n",
            "52\n",
            "53\n",
            "54\n",
            "55\n",
            "56\n",
            "57\n",
            "58\n",
            "59\n",
            "60\n",
            "61\n",
            "62\n",
            "63\n",
            "64\n",
            "65\n",
            "66\n",
            "67\n",
            "68\n",
            "69\n",
            "70\n",
            "71\n",
            "72\n",
            "73\n",
            "74\n",
            "75\n",
            "76\n",
            "77\n",
            "78\n",
            "79\n",
            "80\n",
            "81\n",
            "82\n",
            "83\n",
            "84\n",
            "85\n",
            "86\n",
            "87\n",
            "88\n",
            "89\n",
            "90\n",
            "91\n",
            "92\n",
            "93\n",
            "94\n",
            "95\n",
            "96\n",
            "97\n",
            "98\n",
            "99\n",
            "1\n",
            "2\n",
            "3\n",
            "4\n",
            "5\n",
            "6\n",
            "7\n",
            "8\n",
            "9\n",
            "10\n",
            "11\n",
            "12\n",
            "13\n",
            "14\n",
            "15\n",
            "16\n",
            "17\n",
            "18\n",
            "19\n",
            "20\n",
            "21\n",
            "22\n",
            "23\n",
            "24\n",
            "25\n",
            "26\n",
            "27\n",
            "28\n",
            "29\n",
            "30\n",
            "31\n",
            "32\n",
            "33\n",
            "34\n",
            "35\n",
            "36\n",
            "37\n",
            "38\n",
            "39\n",
            "40\n",
            "41\n",
            "42\n",
            "43\n",
            "44\n",
            "45\n",
            "46\n",
            "47\n",
            "48\n",
            "49\n",
            "50\n",
            "51\n",
            "52\n",
            "53\n",
            "54\n",
            "55\n",
            "56\n",
            "57\n",
            "58\n",
            "59\n",
            "60\n",
            "61\n",
            "62\n",
            "63\n",
            "64\n",
            "65\n",
            "66\n",
            "67\n",
            "68\n",
            "69\n",
            "70\n",
            "71\n",
            "72\n",
            "73\n",
            "74\n",
            "75\n",
            "76\n",
            "77\n",
            "78\n",
            "79\n",
            "80\n",
            "81\n",
            "82\n",
            "83\n",
            "84\n",
            "85\n",
            "86\n",
            "87\n",
            "88\n",
            "89\n",
            "90\n",
            "91\n",
            "92\n",
            "93\n",
            "94\n",
            "95\n",
            "96\n",
            "97\n",
            "98\n",
            "99\n",
            "1\n",
            "2\n",
            "3\n",
            "4\n",
            "5\n",
            "6\n",
            "7\n",
            "8\n",
            "9\n",
            "10\n",
            "11\n",
            "12\n",
            "13\n",
            "14\n",
            "15\n",
            "16\n",
            "17\n",
            "18\n",
            "19\n",
            "20\n",
            "21\n",
            "22\n",
            "23\n",
            "24\n",
            "25\n",
            "26\n",
            "27\n",
            "28\n",
            "29\n",
            "30\n",
            "31\n",
            "32\n",
            "33\n",
            "34\n",
            "35\n",
            "36\n",
            "37\n",
            "38\n",
            "39\n",
            "40\n",
            "41\n",
            "42\n",
            "43\n",
            "44\n",
            "45\n",
            "46\n",
            "47\n",
            "48\n",
            "49\n",
            "50\n",
            "51\n",
            "52\n",
            "53\n",
            "54\n",
            "55\n",
            "56\n",
            "57\n",
            "58\n",
            "59\n",
            "60\n",
            "61\n",
            "62\n",
            "63\n",
            "64\n",
            "65\n",
            "66\n",
            "67\n",
            "68\n",
            "69\n",
            "70\n",
            "71\n",
            "72\n",
            "73\n",
            "74\n",
            "75\n",
            "76\n",
            "77\n",
            "78\n",
            "79\n",
            "80\n",
            "81\n",
            "82\n",
            "83\n",
            "84\n",
            "85\n",
            "86\n",
            "87\n",
            "88\n",
            "89\n",
            "90\n",
            "91\n",
            "92\n",
            "93\n",
            "94\n",
            "95\n",
            "96\n",
            "97\n",
            "98\n",
            "99\n"
          ]
        }
      ],
      "source": [
        "p_values_dim=[]\n",
        "sample_size_dim=[]\n",
        "dimension=[]\n",
        "rej_rate_array=[]\n",
        "\n",
        "#sets sample sizes. They are the same as those chosen in the paper. I think this is to decrease computation time\n",
        "m=np.array([20,40,80])\n",
        "#number of dimensions of the Gaussian distribution\n",
        "dim=np.linspace(5.,20.,4)\n",
        "print(dim)\n",
        "#code is run for each sample size and dimension of the data\n",
        "for i in m:\n",
        "  for j in dim:\n",
        "    #assigns a mean value\n",
        "    mean_value1 = 0.0\n",
        "    mean_value2 =0.0\n",
        "  \n",
        "    #creates an array containing the mean for each distribution. The size of the array is equal to the number of dimensions\n",
        "    mean_array1=np.zeros(int(j))\n",
        "    mean_array2=np.zeros(int(j))\n",
        "    cov=np.zeros((int(j),int(j)))\n",
        "\n",
        "    #compute the covariance. Just the identity matrix\n",
        "    for k in range(int(j)):\n",
        "      mean_array1[k]=mean_value1\n",
        "      mean_array2[k]=mean_value2\n",
        "      cov[k,k]=1.\n",
        "\n",
        "    X= np.random.multivariate_normal(mean_array1, cov, size=i)\n",
        "    Y= np.random.multivariate_normal(mean_array2, cov, size=i)\n",
        "    \n",
        "    #Computes the average p_value for the MMD test\n",
        "    l=1\n",
        "    p_int=0.\n",
        "    rej=0.\n",
        "    while l<100:\n",
        "      gamma=.1  \n",
        "\n",
        "      mmd2u, mmd2u_null, p_value = two_sample_test(X, Y,\n",
        "                           model='MMD',\n",
        "                           iterations=1000,\n",
        "                           kernel_function='rbf',\n",
        "                           gamma=gamma,\n",
        "                           n_jobs=4)\n",
        "    \n",
        "      p_int+=p_value\n",
        "      if p_value<.05:\n",
        "        rej+=1\n",
        "      print(l)\n",
        "      l+=1\n",
        "\n",
        "    avg_p_value=p_int/100.\n",
        "    reject_rate=rej/100.\n",
        "    dimension.append(j)\n",
        "    p_values_dim.append(avg_p_value)\n",
        "    rej_rate_array.append(reject_rate)\n",
        "  sample_size_dim.append(i)\n",
        "  \n",
        "\n",
        "#file3 = open(\"/content/gdrive/MyDrive/tatter-master/SampleSizeDim.txt\", \"w\")\n",
        "#np.savetxt(file3, np.array(sample_size_dim))\n",
        "#file3.close()\n",
        "\n",
        "file4 = open(\"/content/gdrive/MyDrive/tatter-master/pValueforMMD_samemean_multi_correctAvg.txt\", \"w\")\n",
        "np.savetxt(file4, np.array(p_values_dim))\n",
        "file4.close()\n",
        "\n",
        "file4 = open(\"/content/gdrive/MyDrive/tatter-master/rejRateforMMD_samemean_multi_100.txt\", \"w\")\n",
        "np.savetxt(file4, np.array(rej_rate_array))\n",
        "file4.close()\n",
        "\n",
        "#file5 = open(\"/content/gdrive/MyDrive/tatter-master/NumberofDimensions_MMD.txt\", \"w\")\n",
        "#np.savetxt(file5, np.array(dimension))\n",
        "#file5.close()"
      ]
    },
    {
      "cell_type": "code",
      "execution_count": 8,
      "metadata": {
        "colab": {
          "base_uri": "https://localhost:8080/",
          "height": 407
        },
        "id": "PsTD1bMvdzIg",
        "outputId": "8c683e29-5916-4706-acd0-c2d88934ffbd"
      },
      "outputs": [
        {
          "output_type": "error",
          "ename": "OSError",
          "evalue": "ignored",
          "traceback": [
            "\u001b[0;31m---------------------------------------------------------------------------\u001b[0m",
            "\u001b[0;31mOSError\u001b[0m                                   Traceback (most recent call last)",
            "\u001b[0;32m<ipython-input-8-11e6a4ee8b41>\u001b[0m in \u001b[0;36m<module>\u001b[0;34m\u001b[0m\n\u001b[0;32m----> 1\u001b[0;31m \u001b[0mp_MMD_multi_same\u001b[0m\u001b[0;34m=\u001b[0m\u001b[0mnp\u001b[0m\u001b[0;34m.\u001b[0m\u001b[0mgenfromtxt\u001b[0m\u001b[0;34m(\u001b[0m\u001b[0;34m'/content/gdrive/MyDrive/tatter-master/pValueforMMD_samemean_multi_correctAvg.txt'\u001b[0m\u001b[0;34m)\u001b[0m\u001b[0;34m.\u001b[0m\u001b[0mtranspose\u001b[0m\u001b[0;34m(\u001b[0m\u001b[0;34m)\u001b[0m\u001b[0;34m\u001b[0m\u001b[0;34m\u001b[0m\u001b[0m\n\u001b[0m\u001b[1;32m      2\u001b[0m \u001b[0mp_MMD_multi_diff\u001b[0m\u001b[0;34m=\u001b[0m\u001b[0mnp\u001b[0m\u001b[0;34m.\u001b[0m\u001b[0mgenfromtxt\u001b[0m\u001b[0;34m(\u001b[0m\u001b[0;34m'/content/gdrive/MyDrive/tatter-master/pValueforMMD_diffmean_multi_correctAvg100.txt'\u001b[0m\u001b[0;34m)\u001b[0m\u001b[0;34m.\u001b[0m\u001b[0mtranspose\u001b[0m\u001b[0;34m(\u001b[0m\u001b[0;34m)\u001b[0m\u001b[0;34m\u001b[0m\u001b[0;34m\u001b[0m\u001b[0m\n\u001b[1;32m      3\u001b[0m \u001b[0mnum_dimensions\u001b[0m\u001b[0;34m=\u001b[0m\u001b[0mnp\u001b[0m\u001b[0;34m.\u001b[0m\u001b[0mgenfromtxt\u001b[0m\u001b[0;34m(\u001b[0m\u001b[0;34m'/content/gdrive/MyDrive/tatter-master/NumberofDimensions.txt'\u001b[0m\u001b[0;34m)\u001b[0m\u001b[0;34m.\u001b[0m\u001b[0mtranspose\u001b[0m\u001b[0;34m(\u001b[0m\u001b[0;34m)\u001b[0m\u001b[0;34m\u001b[0m\u001b[0;34m\u001b[0m\u001b[0m\n\u001b[1;32m      4\u001b[0m \u001b[0mprint\u001b[0m\u001b[0;34m(\u001b[0m\u001b[0mint\u001b[0m\u001b[0;34m(\u001b[0m\u001b[0mlen\u001b[0m\u001b[0;34m(\u001b[0m\u001b[0mnum_dimensions\u001b[0m\u001b[0;34m)\u001b[0m\u001b[0;34m/\u001b[0m\u001b[0;36m3\u001b[0m\u001b[0;34m)\u001b[0m\u001b[0;34m)\u001b[0m\u001b[0;34m\u001b[0m\u001b[0;34m\u001b[0m\u001b[0m\n",
            "\u001b[0;32m/usr/local/lib/python3.8/dist-packages/numpy/lib/npyio.py\u001b[0m in \u001b[0;36mgenfromtxt\u001b[0;34m(fname, dtype, comments, delimiter, skip_header, skip_footer, converters, missing_values, filling_values, usecols, names, excludelist, deletechars, replace_space, autostrip, case_sensitive, defaultfmt, unpack, usemask, loose, invalid_raise, max_rows, encoding, like)\u001b[0m\n\u001b[1;32m   1791\u001b[0m             \u001b[0mfname\u001b[0m \u001b[0;34m=\u001b[0m \u001b[0mos_fspath\u001b[0m\u001b[0;34m(\u001b[0m\u001b[0mfname\u001b[0m\u001b[0;34m)\u001b[0m\u001b[0;34m\u001b[0m\u001b[0;34m\u001b[0m\u001b[0m\n\u001b[1;32m   1792\u001b[0m         \u001b[0;32mif\u001b[0m \u001b[0misinstance\u001b[0m\u001b[0;34m(\u001b[0m\u001b[0mfname\u001b[0m\u001b[0;34m,\u001b[0m \u001b[0mstr\u001b[0m\u001b[0;34m)\u001b[0m\u001b[0;34m:\u001b[0m\u001b[0;34m\u001b[0m\u001b[0;34m\u001b[0m\u001b[0m\n\u001b[0;32m-> 1793\u001b[0;31m             \u001b[0mfid\u001b[0m \u001b[0;34m=\u001b[0m \u001b[0mnp\u001b[0m\u001b[0;34m.\u001b[0m\u001b[0mlib\u001b[0m\u001b[0;34m.\u001b[0m\u001b[0m_datasource\u001b[0m\u001b[0;34m.\u001b[0m\u001b[0mopen\u001b[0m\u001b[0;34m(\u001b[0m\u001b[0mfname\u001b[0m\u001b[0;34m,\u001b[0m \u001b[0;34m'rt'\u001b[0m\u001b[0;34m,\u001b[0m \u001b[0mencoding\u001b[0m\u001b[0;34m=\u001b[0m\u001b[0mencoding\u001b[0m\u001b[0;34m)\u001b[0m\u001b[0;34m\u001b[0m\u001b[0;34m\u001b[0m\u001b[0m\n\u001b[0m\u001b[1;32m   1794\u001b[0m             \u001b[0mfid_ctx\u001b[0m \u001b[0;34m=\u001b[0m \u001b[0mcontextlib\u001b[0m\u001b[0;34m.\u001b[0m\u001b[0mclosing\u001b[0m\u001b[0;34m(\u001b[0m\u001b[0mfid\u001b[0m\u001b[0;34m)\u001b[0m\u001b[0;34m\u001b[0m\u001b[0;34m\u001b[0m\u001b[0m\n\u001b[1;32m   1795\u001b[0m         \u001b[0;32melse\u001b[0m\u001b[0;34m:\u001b[0m\u001b[0;34m\u001b[0m\u001b[0;34m\u001b[0m\u001b[0m\n",
            "\u001b[0;32m/usr/local/lib/python3.8/dist-packages/numpy/lib/_datasource.py\u001b[0m in \u001b[0;36mopen\u001b[0;34m(path, mode, destpath, encoding, newline)\u001b[0m\n\u001b[1;32m    191\u001b[0m \u001b[0;34m\u001b[0m\u001b[0m\n\u001b[1;32m    192\u001b[0m     \u001b[0mds\u001b[0m \u001b[0;34m=\u001b[0m \u001b[0mDataSource\u001b[0m\u001b[0;34m(\u001b[0m\u001b[0mdestpath\u001b[0m\u001b[0;34m)\u001b[0m\u001b[0;34m\u001b[0m\u001b[0;34m\u001b[0m\u001b[0m\n\u001b[0;32m--> 193\u001b[0;31m     \u001b[0;32mreturn\u001b[0m \u001b[0mds\u001b[0m\u001b[0;34m.\u001b[0m\u001b[0mopen\u001b[0m\u001b[0;34m(\u001b[0m\u001b[0mpath\u001b[0m\u001b[0;34m,\u001b[0m \u001b[0mmode\u001b[0m\u001b[0;34m,\u001b[0m \u001b[0mencoding\u001b[0m\u001b[0;34m=\u001b[0m\u001b[0mencoding\u001b[0m\u001b[0;34m,\u001b[0m \u001b[0mnewline\u001b[0m\u001b[0;34m=\u001b[0m\u001b[0mnewline\u001b[0m\u001b[0;34m)\u001b[0m\u001b[0;34m\u001b[0m\u001b[0;34m\u001b[0m\u001b[0m\n\u001b[0m\u001b[1;32m    194\u001b[0m \u001b[0;34m\u001b[0m\u001b[0m\n\u001b[1;32m    195\u001b[0m \u001b[0;34m\u001b[0m\u001b[0m\n",
            "\u001b[0;32m/usr/local/lib/python3.8/dist-packages/numpy/lib/_datasource.py\u001b[0m in \u001b[0;36mopen\u001b[0;34m(self, path, mode, encoding, newline)\u001b[0m\n\u001b[1;32m    531\u001b[0m                                       encoding=encoding, newline=newline)\n\u001b[1;32m    532\u001b[0m         \u001b[0;32melse\u001b[0m\u001b[0;34m:\u001b[0m\u001b[0;34m\u001b[0m\u001b[0;34m\u001b[0m\u001b[0m\n\u001b[0;32m--> 533\u001b[0;31m             \u001b[0;32mraise\u001b[0m \u001b[0mIOError\u001b[0m\u001b[0;34m(\u001b[0m\u001b[0;34m\"%s not found.\"\u001b[0m \u001b[0;34m%\u001b[0m \u001b[0mpath\u001b[0m\u001b[0;34m)\u001b[0m\u001b[0;34m\u001b[0m\u001b[0;34m\u001b[0m\u001b[0m\n\u001b[0m\u001b[1;32m    534\u001b[0m \u001b[0;34m\u001b[0m\u001b[0m\n\u001b[1;32m    535\u001b[0m \u001b[0;34m\u001b[0m\u001b[0m\n",
            "\u001b[0;31mOSError\u001b[0m: /content/gdrive/MyDrive/tatter-master/pValueforMMD_samemean_multi_correctAvg.txt not found."
          ]
        }
      ],
      "source": [
        "p_MMD_multi_same=np.genfromtxt('/content/gdrive/MyDrive/tatter-master/pValueforMMD_samemean_multi_correctAvg.txt').transpose()\n",
        "p_MMD_multi_diff=np.genfromtxt('/content/gdrive/MyDrive/tatter-master/pValueforMMD_diffmean_multi_correctAvg100.txt').transpose()\n",
        "num_dimensions=np.genfromtxt('/content/gdrive/MyDrive/tatter-master/NumberofDimensions.txt').transpose()\n",
        "print(int(len(num_dimensions)/3))"
      ]
    },
    {
      "cell_type": "markdown",
      "source": [
        "This block is just to organize the p_values according to their corresponding sample size."
      ],
      "metadata": {
        "id": "AQIelG6WZ-Kf"
      }
    },
    {
      "cell_type": "code",
      "execution_count": null,
      "metadata": {
        "id": "fZ3cSF3IkVg0"
      },
      "outputs": [],
      "source": [
        "#define arrays\n",
        "m20_same=np.zeros(int(len(num_dimensions)/3))\n",
        "m40_same=np.zeros(int(len(num_dimensions)/3))\n",
        "m80_same=np.zeros(int(len(num_dimensions)/3))\n",
        "\n",
        "m20_diff=np.zeros(int(len(num_dimensions)/3))\n",
        "m40_diff=np.zeros(int(len(num_dimensions)/3))\n",
        "m80_diff=np.zeros(int(len(num_dimensions)/3))\n",
        "\n",
        "#fill arrays with corresponding p_values\n",
        "for i in range(int(len(num_dimensions)/3)):\n",
        "  #print(i)\n",
        "  #print(i+int(len(num_dimensions)/3))\n",
        "  #print(i+ 2*int(len(num_dimensions)/3))\n",
        "  m20_same[i]=p_MMD_multi_same[i]\n",
        "  m40_same[i]=p_MMD_multi_same[i+int(len(num_dimensions)/3)]\n",
        "  m80_same[i]=p_MMD_multi_same[i+ 2*int(len(num_dimensions)/3)]\n",
        "  m20_diff[i]=p_MMD_multi_diff[i]\n",
        "  m40_diff[i]=p_MMD_multi_diff[i+int(len(num_dimensions)/3)]\n",
        "  m80_diff[i]=p_MMD_multi_diff[i+ 2*int(len(num_dimensions)/3)]\n"
      ]
    },
    {
      "cell_type": "markdown",
      "source": [
        "###Same mean (MMD)"
      ],
      "metadata": {
        "id": "5PU2HFVG7oqh"
      }
    },
    {
      "cell_type": "markdown",
      "source": [
        "P_values for the different sample sizes as a function of the number of dimensions. The first plot shows the results when the two distributions are the same. It correctly predicts that they are the same."
      ],
      "metadata": {
        "id": "BGCzVeNCaShu"
      }
    },
    {
      "cell_type": "code",
      "execution_count": null,
      "metadata": {
        "colab": {
          "base_uri": "https://localhost:8080/",
          "height": 297
        },
        "id": "j37awmHhmBVY",
        "outputId": "11f678f9-7267-4d3e-ab9b-f3f4e329029a"
      },
      "outputs": [
        {
          "data": {
            "text/plain": [
              "<matplotlib.legend.Legend at 0x7f9e79467150>"
            ]
          },
          "execution_count": 35,
          "metadata": {},
          "output_type": "execute_result"
        },
        {
          "data": {
            "image/png": "[encoded data removed]",
            "text/plain": [
              "<Figure size 432x288 with 1 Axes>"
            ]
          },
          "metadata": {},
          "output_type": "display_data"
        }
      ],
      "source": [
        "plt.plot(num_dimensions[:16],m20_same,color='green',label='Sample size=20')\n",
        "plt.plot(num_dimensions[:16],m40_same,color='yellow',label='Sample size=40')\n",
        "plt.plot(num_dimensions[:16],m80_same,color='orange',label='Sample size=80')\n",
        "plt.axhspan(0., 0.05, alpha=0.2)\n",
        "plt.xlabel('Number of Dimensions')\n",
        "plt.ylabel('p_value')\n",
        "plt.ylim([0,1.1])\n",
        "plt.legend(loc='upper left')"
      ]
    },
    {
      "cell_type": "markdown",
      "source": [
        "###Different mean (MMD)"
      ],
      "metadata": {
        "id": "DdzEV3xz7xmK"
      }
    },
    {
      "cell_type": "markdown",
      "source": [
        "Here shows where the two distributions are different. With a larger sample size, the test almost always draws the correct conclusion that the two distributions are different."
      ],
      "metadata": {
        "id": "VJlGKxePa-OI"
      }
    },
    {
      "cell_type": "code",
      "execution_count": null,
      "metadata": {
        "colab": {
          "base_uri": "https://localhost:8080/",
          "height": 297
        },
        "id": "D2v03N9Pvr6m",
        "outputId": "ab88904e-c812-418d-d922-45f3a2d1624c"
      },
      "outputs": [
        {
          "data": {
            "text/plain": [
              "<matplotlib.legend.Legend at 0x7f9e78fca810>"
            ]
          },
          "execution_count": 39,
          "metadata": {},
          "output_type": "execute_result"
        },
        {
          "data": {
            "image/png": "[encoded data removed]",
            "text/plain": [
              "<Figure size 432x288 with 1 Axes>"
            ]
          },
          "metadata": {},
          "output_type": "display_data"
        }
      ],
      "source": [
        "plt.plot(num_dimensions[:16],m20_diff,color='green',label='m=20')\n",
        "plt.plot(num_dimensions[:16],m40_diff,color='yellow',label='m=40')\n",
        "plt.plot(num_dimensions[:16],m80_diff,color='orange',label='m=80')\n",
        "plt.axhspan(0., 0.05, alpha=0.2)\n",
        "plt.xlabel('Number of Dimensions')\n",
        "plt.ylabel('p_value')\n",
        "plt.ylim([0,.95])\n",
        "plt.legend(loc='upper right')"
      ]
    },
    {
      "cell_type": "code",
      "source": [
        "rej_rate_KL_multi_diff=np.genfromtxt('/content/gdrive/MyDrive/tatter-master/rejRateforKL_diffmean_multi_100.txt').transpose()\n",
        "p_KL_multi_diff=np.genfromtxt('/content/gdrive/MyDrive/tatter-master/pValueforKL_diffmean_multi_100.txt').transpose()\n",
        "num_dimensions_KL=np.genfromtxt('/content/gdrive/MyDrive/tatter-master/NumberofDimensions_KL.txt').transpose()\n",
        "print(int(len(num_dimensions_KL)/3))\n"
      ],
      "metadata": {
        "colab": {
          "base_uri": "https://localhost:8080/"
        },
        "id": "izkKrtqGruPV",
        "outputId": "5222dedd-1524-4623-b814-0c96935d3604"
      },
      "execution_count": 15,
      "outputs": [
        {
          "output_type": "stream",
          "name": "stdout",
          "text": [
            "4\n"
          ]
        }
      ]
    },
    {
      "cell_type": "code",
      "source": [
        "#define arrays\n",
        "#m20_same=np.zeros(int(len(num_dimensions_KL)/3))\n",
        "#m40_same=np.zeros(int(len(num_dimensions_KL)/3))\n",
        "#m80_same=np.zeros(int(len(num_dimensions_KL)/3))\n",
        "\n",
        "m20_diff_KL=np.zeros(int(len(num_dimensions_KL)/3))\n",
        "m40_diff_KL=np.zeros(int(len(num_dimensions_KL)/3))\n",
        "m80_diff_KL=np.zeros(int(len(num_dimensions_KL)/3))\n",
        "\n",
        "m20_diff_rej_KL=np.zeros(int(len(num_dimensions_KL)/3))\n",
        "m40_diff_rej_KL=np.zeros(int(len(num_dimensions_KL)/3))\n",
        "m80_diff_rej_KL=np.zeros(int(len(num_dimensions_KL)/3))\n",
        "\n",
        "#fill arrays with corresponding p_values\n",
        "for i in range(int(len(num_dimensions_KL)/3)):\n",
        "  #print(i)\n",
        "  #print(i+int(len(num_dimensions)/3))\n",
        "  #print(i+ 2*int(len(num_dimensions)/3))\n",
        "  #m20_same[i]=p_MMD_multi_same[i]\n",
        "  #m40_same[i]=p_MMD_multi_same[i+int(len(num_dimensions_KL)/3)]\n",
        "  #m80_same[i]=p_MMD_multi_same[i+ 2*int(len(num_dimensions_KL)/3)]\n",
        "  m20_diff_KL[i]=p_KL_multi_diff[i]\n",
        "  m40_diff_KL[i]=p_KL_multi_diff[i+int(len(num_dimensions_KL)/3)]\n",
        "  m80_diff_KL[i]=p_KL_multi_diff[i+ 2*int(len(num_dimensions_KL)/3)]\n",
        "  m20_diff_rej_KL[i]=rej_rate_KL_multi_diff[i]\n",
        "  m40_diff_rej_KL[i]=rej_rate_KL_multi_diff[i+int(len(num_dimensions_KL)/3)]\n",
        "  m80_diff_rej_KL[i]=rej_rate_KL_multi_diff[i+ 2*int(len(num_dimensions_KL)/3)]\n"
      ],
      "metadata": {
        "id": "l5oM2O3Krv9P"
      },
      "execution_count": 13,
      "outputs": []
    },
    {
      "cell_type": "markdown",
      "source": [
        "###Different mean (K-L)"
      ],
      "metadata": {
        "id": "OojxtF2Dr66g"
      }
    },
    {
      "cell_type": "markdown",
      "source": [
        "This is to compare the results of the MMD test with the most popular multi-dimensionsal tests, the K-L test."
      ],
      "metadata": {
        "id": "-n-eo07r9Nbv"
      }
    },
    {
      "cell_type": "code",
      "source": [
        "rej_rate_KL_multi_diff=np.genfromtxt('/content/gdrive/MyDrive/tatter-master/rejRateforKL_diffmean_multi_100.txt').transpose()\n",
        "p_KL_multi_diff=np.genfromtxt('/content/gdrive/MyDrive/tatter-master/pValueforKL_diffmean_multi_correctAvg300.txt').transpose()\n",
        "num_dimensions_KL=np.genfromtxt('/content/gdrive/MyDrive/tatter-master/NumberofDimensions_KL.txt').transpose()\n",
        "print(int(len(num_dimensions_KL)/3))\n",
        "print(rej_rate_KL_multi_diff)\n",
        "print(p_KL_multi_diff)"
      ],
      "metadata": {
        "colab": {
          "base_uri": "https://localhost:8080/"
        },
        "id": "eplx6MFtlOqu",
        "outputId": "62c11bf7-1095-4f8b-fbb6-3b43b3a5a39c"
      },
      "execution_count": 15,
      "outputs": [
        {
          "output_type": "stream",
          "name": "stdout",
          "text": [
            "4\n",
            "[0.   0.   0.   0.   0.   0.   0.   0.   0.99 0.99 0.   0.99]\n",
            "[0.73578 0.26921 0.00824 0.3738  0.70824 0.23183 0.38434 0.39359 0.49299\n",
            " 0.12347 0.0029  0.08915]\n"
          ]
        }
      ]
    },
    {
      "cell_type": "code",
      "source": [
        "#define arrays\n",
        "#m20_same=np.zeros(int(len(num_dimensions_KL)/3))\n",
        "#m40_same=np.zeros(int(len(num_dimensions_KL)/3))\n",
        "#m80_same=np.zeros(int(len(num_dimensions_KL)/3))\n",
        "\n",
        "m20_diff_KL=np.zeros(int(len(num_dimensions_KL)/3))\n",
        "m40_diff_KL=np.zeros(int(len(num_dimensions_KL)/3))\n",
        "m80_diff_KL=np.zeros(int(len(num_dimensions_KL)/3))\n",
        "\n",
        "m20_diff_rej_KL=np.zeros(int(len(num_dimensions_KL)/3))\n",
        "m40_diff_rej_KL=np.zeros(int(len(num_dimensions_KL)/3))\n",
        "m80_diff_rej_KL=np.zeros(int(len(num_dimensions_KL)/3))\n",
        "\n",
        "#fill arrays with corresponding p_values\n",
        "for i in range(int(len(num_dimensions_KL)/3)):\n",
        "  #print(i)\n",
        "  #print(i+int(len(num_dimensions)/3))\n",
        "  #print(i+ 2*int(len(num_dimensions)/3))\n",
        "  #m20_same[i]=p_MMD_multi_same[i]\n",
        "  #m40_same[i]=p_MMD_multi_same[i+int(len(num_dimensions_KL)/3)]\n",
        "  #m80_same[i]=p_MMD_multi_same[i+ 2*int(len(num_dimensions_KL)/3)]\n",
        "  m20_diff_KL[i]=p_KL_multi_diff[i]\n",
        "  m40_diff_KL[i]=p_KL_multi_diff[i+int(len(num_dimensions_KL)/3)]\n",
        "  m80_diff_KL[i]=p_KL_multi_diff[i+ 2*int(len(num_dimensions_KL)/3)]\n",
        "  m20_diff_rej_KL[i]=rej_rate_KL_multi_diff[i]\n",
        "  m40_diff_rej_KL[i]=rej_rate_KL_multi_diff[i+int(len(num_dimensions_KL)/3)]\n",
        "  m80_diff_rej_KL[i]=rej_rate_KL_multi_diff[i+ 2*int(len(num_dimensions_KL)/3)]\n"
      ],
      "metadata": {
        "id": "JnGlI_FOmPNg"
      },
      "execution_count": 16,
      "outputs": []
    },
    {
      "cell_type": "code",
      "source": [
        "plt.plot(num_dimensions_KL[:4],m20_diff_KL,color='green',label='Sample size=20')\n",
        "plt.plot(num_dimensions_KL[:4],m40_diff_KL,color='yellow',label='Sample size=40')\n",
        "plt.plot(num_dimensions_KL[:4],m80_diff_KL,color='orange',label='Sample size=80')\n",
        "plt.axhspan(0., 0.05, alpha=0.2)\n",
        "plt.xlabel('Number of Dimensions')\n",
        "plt.ylabel('p_value')\n",
        "plt.ylim([0,1.1])\n",
        "plt.legend(loc='upper left')"
      ],
      "metadata": {
        "colab": {
          "base_uri": "https://localhost:8080/",
          "height": 297
        },
        "id": "H9gjaw0XmYaI",
        "outputId": "24322b6f-9869-434b-8e9c-71debaf5a46e"
      },
      "execution_count": 17,
      "outputs": [
        {
          "output_type": "execute_result",
          "data": {
            "text/plain": [
              "<matplotlib.legend.Legend at 0x7f1a53039220>"
            ]
          },
          "metadata": {},
          "execution_count": 17
        },
        {
          "output_type": "display_data",
          "data": {
            "text/plain": [
              "<Figure size 432x288 with 1 Axes>"
            ],
            "image/png": "[encoded data removed]"
          },
          "metadata": {
            "needs_background": "light"
          }
        }
      ]
    },
    {
      "cell_type": "markdown",
      "source": [
        "The K-L test is not accurate enough to reject the null hypothesis the majority of the time. This may be improved by increasing the number of iterations performed to calculate the average p_value."
      ],
      "metadata": {
        "id": "tZOUuazi94pZ"
      }
    },
    {
      "cell_type": "code",
      "source": [
        "plt.plot(num_dimensions_KL[:4],m20_diff_rej_KL,color='green',label='Sample size=20')\n",
        "plt.plot(num_dimensions_KL[:4],m40_diff_rej_KL,color='yellow',label='Sample size=40')\n",
        "plt.plot(num_dimensions_KL[:4],m80_diff_rej_KL,color='orange',label='Sample size=80')\n",
        "plt.axhspan(0., 0.05, alpha=0.2)\n",
        "plt.xlabel('Number of Dimensions')\n",
        "plt.ylabel('reject rate')\n",
        "plt.ylim([0,1.1])\n",
        "plt.legend(loc='upper left')"
      ],
      "metadata": {
        "colab": {
          "base_uri": "https://localhost:8080/",
          "height": 297
        },
        "id": "1nxHxfYcpPNw",
        "outputId": "dff5fcff-b5e6-4ccd-e03a-5b5f0b981b74"
      },
      "execution_count": 18,
      "outputs": [
        {
          "output_type": "execute_result",
          "data": {
            "text/plain": [
              "<matplotlib.legend.Legend at 0x7f1a52facc10>"
            ]
          },
          "metadata": {},
          "execution_count": 18
        },
        {
          "output_type": "display_data",
          "data": {
            "text/plain": [
              "<Figure size 432x288 with 1 Axes>"
            ],
            "image/png": "[encoded data removed]"
          },
          "metadata": {
            "needs_background": "light"
          }
        }
      ]
    },
    {
      "cell_type": "markdown",
      "source": [
        "##Test varying the value of $\\gamma$ on the average p_value"
      ],
      "metadata": {
        "id": "RlCjHL16-g2r"
      }
    },
    {
      "cell_type": "markdown",
      "source": [
        "Here is an attempt to recreate the plot in the TATTER paper that studies the effect of changing $\\gamma$ on the results of the MMD test. My plots were too noisy to make any general statements about the best value of $\\gamma$. They were created using two gaussian distributions with different means ($\\mu$ = 0.0 and 0.2)"
      ],
      "metadata": {
        "id": "AYrJF7ekrIPL"
      }
    },
    {
      "cell_type": "code",
      "execution_count": null,
      "metadata": {
        "colab": {
          "base_uri": "https://localhost:8080/"
        },
        "id": "jufMr1Kw0DSs",
        "outputId": "99c65933-9086-4bce-c3a3-66eba80ac5d9"
      },
      "outputs": [
        {
          "name": "stdout",
          "output_type": "stream",
          "text": [
            "1\n",
            "2\n",
            "3\n",
            "4\n",
            "5\n",
            "6\n",
            "7\n",
            "8\n",
            "9\n",
            "1\n",
            "2\n",
            "3\n",
            "4\n",
            "5\n",
            "6\n",
            "7\n",
            "8\n",
            "9\n",
            "1\n",
            "2\n",
            "3\n",
            "4\n",
            "5\n",
            "6\n",
            "7\n",
            "8\n",
            "9\n",
            "1\n",
            "2\n",
            "3\n",
            "4\n",
            "5\n",
            "6\n",
            "7\n",
            "8\n",
            "9\n",
            "1\n",
            "2\n",
            "3\n",
            "4\n",
            "5\n",
            "6\n",
            "7\n",
            "8\n",
            "9\n",
            "1\n",
            "2\n",
            "3\n",
            "4\n",
            "5\n",
            "6\n",
            "7\n",
            "8\n",
            "9\n",
            "1\n",
            "2\n",
            "3\n",
            "4\n",
            "5\n",
            "6\n",
            "7\n",
            "8\n",
            "9\n",
            "1\n",
            "2\n",
            "3\n",
            "4\n",
            "5\n",
            "6\n",
            "7\n",
            "8\n",
            "9\n",
            "1\n",
            "2\n",
            "3\n",
            "4\n",
            "5\n",
            "6\n",
            "7\n",
            "8\n",
            "9\n",
            "1\n",
            "2\n",
            "3\n",
            "4\n",
            "5\n",
            "6\n",
            "7\n",
            "8\n",
            "9\n",
            "1\n",
            "2\n",
            "3\n",
            "4\n",
            "5\n",
            "6\n",
            "7\n",
            "8\n",
            "9\n",
            "1\n",
            "2\n",
            "3\n",
            "4\n",
            "5\n",
            "6\n",
            "7\n",
            "8\n",
            "9\n",
            "1\n",
            "2\n",
            "3\n",
            "4\n",
            "5\n",
            "6\n",
            "7\n",
            "8\n",
            "9\n",
            "1\n",
            "2\n",
            "3\n",
            "4\n",
            "5\n",
            "6\n",
            "7\n",
            "8\n",
            "9\n",
            "1\n",
            "2\n",
            "3\n",
            "4\n",
            "5\n",
            "6\n",
            "7\n",
            "8\n",
            "9\n",
            "1\n",
            "2\n",
            "3\n",
            "4\n",
            "5\n",
            "6\n",
            "7\n",
            "8\n",
            "9\n",
            "1\n",
            "2\n",
            "3\n",
            "4\n",
            "5\n",
            "6\n",
            "7\n",
            "8\n",
            "9\n",
            "1\n",
            "2\n",
            "3\n",
            "4\n",
            "5\n",
            "6\n",
            "7\n",
            "8\n",
            "9\n",
            "1\n",
            "2\n",
            "3\n",
            "4\n",
            "5\n",
            "6\n",
            "7\n",
            "8\n",
            "9\n",
            "1\n",
            "2\n",
            "3\n",
            "4\n",
            "5\n",
            "6\n",
            "7\n",
            "8\n",
            "9\n",
            "1\n",
            "2\n",
            "3\n",
            "4\n",
            "5\n",
            "6\n",
            "7\n",
            "8\n",
            "9\n",
            "1\n",
            "2\n",
            "3\n",
            "4\n",
            "5\n",
            "6\n",
            "7\n",
            "8\n",
            "9\n",
            "1\n",
            "2\n",
            "3\n",
            "4\n",
            "5\n",
            "6\n",
            "7\n",
            "8\n",
            "9\n",
            "1\n",
            "2\n",
            "3\n",
            "4\n",
            "5\n",
            "6\n",
            "7\n",
            "8\n",
            "9\n",
            "1\n",
            "2\n",
            "3\n",
            "4\n",
            "5\n",
            "6\n",
            "7\n",
            "8\n",
            "9\n",
            "1\n",
            "2\n",
            "3\n",
            "4\n",
            "5\n",
            "6\n",
            "7\n",
            "8\n",
            "9\n",
            "1\n",
            "2\n",
            "3\n",
            "4\n",
            "5\n",
            "6\n",
            "7\n",
            "8\n",
            "9\n",
            "1\n",
            "2\n",
            "3\n",
            "4\n",
            "5\n",
            "6\n",
            "7\n",
            "8\n",
            "9\n",
            "1\n",
            "2\n",
            "3\n",
            "4\n",
            "5\n",
            "6\n",
            "7\n",
            "8\n",
            "9\n",
            "1\n",
            "2\n",
            "3\n",
            "4\n",
            "5\n",
            "6\n",
            "7\n",
            "8\n",
            "9\n",
            "1\n",
            "2\n",
            "3\n",
            "4\n",
            "5\n",
            "6\n",
            "7\n",
            "8\n",
            "9\n",
            "1\n",
            "2\n",
            "3\n",
            "4\n",
            "5\n",
            "6\n",
            "7\n",
            "8\n",
            "9\n",
            "1\n",
            "2\n",
            "3\n",
            "4\n",
            "5\n",
            "6\n",
            "7\n",
            "8\n",
            "9\n",
            "1\n",
            "2\n",
            "3\n",
            "4\n",
            "5\n",
            "6\n",
            "7\n",
            "8\n",
            "9\n",
            "1\n",
            "2\n",
            "3\n",
            "4\n",
            "5\n",
            "6\n",
            "7\n",
            "8\n",
            "9\n",
            "1\n",
            "2\n",
            "3\n",
            "4\n",
            "5\n",
            "6\n",
            "7\n",
            "8\n",
            "9\n",
            "1\n",
            "2\n",
            "3\n",
            "4\n",
            "5\n",
            "6\n",
            "7\n",
            "8\n",
            "9\n",
            "1\n",
            "2\n",
            "3\n",
            "4\n",
            "5\n",
            "6\n",
            "7\n",
            "8\n",
            "9\n",
            "1\n",
            "2\n",
            "3\n",
            "4\n",
            "5\n",
            "6\n",
            "7\n",
            "8\n",
            "9\n",
            "1\n",
            "2\n",
            "3\n",
            "4\n",
            "5\n",
            "6\n",
            "7\n",
            "8\n",
            "9\n",
            "1\n",
            "2\n",
            "3\n",
            "4\n",
            "5\n",
            "6\n",
            "7\n",
            "8\n",
            "9\n",
            "1\n",
            "2\n",
            "3\n",
            "4\n",
            "5\n",
            "6\n",
            "7\n",
            "8\n",
            "9\n",
            "1\n",
            "2\n",
            "3\n",
            "4\n",
            "5\n",
            "6\n",
            "7\n",
            "8\n",
            "9\n",
            "1\n",
            "2\n",
            "3\n",
            "4\n",
            "5\n",
            "6\n",
            "7\n",
            "8\n",
            "9\n",
            "1\n",
            "2\n",
            "3\n",
            "4\n",
            "5\n",
            "6\n",
            "7\n",
            "8\n",
            "9\n",
            "1\n",
            "2\n",
            "3\n",
            "4\n",
            "5\n",
            "6\n",
            "7\n",
            "8\n",
            "9\n",
            "1\n",
            "2\n",
            "3\n",
            "4\n",
            "5\n",
            "6\n",
            "7\n",
            "8\n",
            "9\n",
            "1\n",
            "2\n",
            "3\n",
            "4\n",
            "5\n",
            "6\n",
            "7\n",
            "8\n",
            "9\n",
            "1\n",
            "2\n",
            "3\n",
            "4\n",
            "5\n",
            "6\n",
            "7\n",
            "8\n",
            "9\n",
            "1\n",
            "2\n",
            "3\n",
            "4\n",
            "5\n",
            "6\n",
            "7\n",
            "8\n",
            "9\n",
            "1\n",
            "2\n",
            "3\n",
            "4\n",
            "5\n",
            "6\n",
            "7\n",
            "8\n",
            "9\n",
            "1\n",
            "2\n",
            "3\n",
            "4\n",
            "5\n",
            "6\n",
            "7\n",
            "8\n",
            "9\n",
            "1\n",
            "2\n",
            "3\n",
            "4\n",
            "5\n",
            "6\n",
            "7\n",
            "8\n",
            "9\n",
            "1\n",
            "2\n",
            "3\n",
            "4\n",
            "5\n",
            "6\n",
            "7\n",
            "8\n",
            "9\n",
            "1\n",
            "2\n",
            "3\n",
            "4\n",
            "5\n",
            "6\n",
            "7\n",
            "8\n",
            "9\n",
            "1\n",
            "2\n",
            "3\n",
            "4\n",
            "5\n",
            "6\n",
            "7\n",
            "8\n",
            "9\n",
            "1\n",
            "2\n",
            "3\n",
            "4\n",
            "5\n",
            "6\n",
            "7\n",
            "8\n",
            "9\n",
            "1\n",
            "2\n",
            "3\n",
            "4\n",
            "5\n",
            "6\n",
            "7\n",
            "8\n",
            "9\n",
            "1\n",
            "2\n",
            "3\n",
            "4\n",
            "5\n",
            "6\n",
            "7\n",
            "8\n",
            "9\n",
            "1\n",
            "2\n",
            "3\n",
            "4\n",
            "5\n",
            "6\n",
            "7\n",
            "8\n",
            "9\n",
            "1\n",
            "2\n",
            "3\n",
            "4\n",
            "5\n",
            "6\n",
            "7\n",
            "8\n",
            "9\n",
            "1\n",
            "2\n",
            "3\n",
            "4\n",
            "5\n",
            "6\n",
            "7\n",
            "8\n",
            "9\n",
            "1\n",
            "2\n",
            "3\n",
            "4\n",
            "5\n",
            "6\n",
            "7\n",
            "8\n",
            "9\n",
            "1\n",
            "2\n",
            "3\n",
            "4\n",
            "5\n",
            "6\n",
            "7\n",
            "8\n",
            "9\n",
            "1\n",
            "2\n",
            "3\n",
            "4\n",
            "5\n",
            "6\n",
            "7\n",
            "8\n",
            "9\n",
            "1\n",
            "2\n",
            "3\n",
            "4\n",
            "5\n",
            "6\n",
            "7\n",
            "8\n",
            "9\n",
            "1\n",
            "2\n",
            "3\n",
            "4\n",
            "5\n",
            "6\n",
            "7\n",
            "8\n",
            "9\n",
            "1\n",
            "2\n",
            "3\n",
            "4\n",
            "5\n",
            "6\n",
            "7\n",
            "8\n",
            "9\n",
            "1\n",
            "2\n",
            "3\n",
            "4\n",
            "5\n",
            "6\n",
            "7\n",
            "8\n",
            "9\n",
            "1\n",
            "2\n",
            "3\n",
            "4\n",
            "5\n",
            "6\n",
            "7\n",
            "8\n",
            "9\n",
            "1\n",
            "2\n",
            "3\n",
            "4\n",
            "5\n",
            "6\n",
            "7\n",
            "8\n",
            "9\n",
            "1\n",
            "2\n",
            "3\n",
            "4\n",
            "5\n",
            "6\n",
            "7\n",
            "8\n",
            "9\n",
            "1\n",
            "2\n",
            "3\n",
            "4\n",
            "5\n",
            "6\n",
            "7\n",
            "8\n",
            "9\n",
            "1\n",
            "2\n",
            "3\n",
            "4\n",
            "5\n",
            "6\n",
            "7\n",
            "8\n",
            "9\n",
            "1\n",
            "2\n",
            "3\n",
            "4\n",
            "5\n",
            "6\n",
            "7\n",
            "8\n",
            "9\n",
            "1\n",
            "2\n",
            "3\n",
            "4\n",
            "5\n",
            "6\n",
            "7\n",
            "8\n",
            "9\n",
            "1\n",
            "2\n",
            "3\n",
            "4\n",
            "5\n",
            "6\n",
            "7\n",
            "8\n",
            "9\n",
            "1\n",
            "2\n",
            "3\n",
            "4\n",
            "5\n",
            "6\n",
            "7\n",
            "8\n",
            "9\n",
            "1\n",
            "2\n",
            "3\n",
            "4\n",
            "5\n",
            "6\n",
            "7\n",
            "8\n",
            "9\n",
            "1\n",
            "2\n",
            "3\n",
            "4\n",
            "5\n",
            "6\n",
            "7\n",
            "8\n",
            "9\n",
            "1\n",
            "2\n",
            "3\n",
            "4\n",
            "5\n",
            "6\n",
            "7\n",
            "8\n",
            "9\n",
            "1\n",
            "2\n",
            "3\n",
            "4\n",
            "5\n",
            "6\n",
            "7\n",
            "8\n",
            "9\n",
            "1\n",
            "2\n",
            "3\n",
            "4\n",
            "5\n",
            "6\n",
            "7\n",
            "8\n",
            "9\n",
            "1\n",
            "2\n",
            "3\n",
            "4\n",
            "5\n",
            "6\n",
            "7\n",
            "8\n",
            "9\n",
            "1\n",
            "2\n",
            "3\n",
            "4\n",
            "5\n",
            "6\n",
            "7\n",
            "8\n",
            "9\n",
            "1\n",
            "2\n",
            "3\n",
            "4\n",
            "5\n",
            "6\n",
            "7\n",
            "8\n",
            "9\n",
            "1\n",
            "2\n",
            "3\n",
            "4\n",
            "5\n",
            "6\n",
            "7\n",
            "8\n",
            "9\n",
            "1\n",
            "2\n",
            "3\n",
            "4\n",
            "5\n",
            "6\n",
            "7\n",
            "8\n",
            "9\n",
            "1\n",
            "2\n",
            "3\n",
            "4\n",
            "5\n",
            "6\n",
            "7\n",
            "8\n",
            "9\n",
            "1\n",
            "2\n",
            "3\n",
            "4\n",
            "5\n",
            "6\n",
            "7\n",
            "8\n",
            "9\n",
            "1\n",
            "2\n",
            "3\n",
            "4\n",
            "5\n",
            "6\n",
            "7\n",
            "8\n",
            "9\n",
            "1\n",
            "2\n",
            "3\n",
            "4\n",
            "5\n",
            "6\n",
            "7\n",
            "8\n",
            "9\n",
            "1\n",
            "2\n",
            "3\n",
            "4\n",
            "5\n",
            "6\n",
            "7\n",
            "8\n",
            "9\n",
            "1\n",
            "2\n",
            "3\n",
            "4\n",
            "5\n",
            "6\n",
            "7\n",
            "8\n",
            "9\n",
            "1\n",
            "2\n",
            "3\n",
            "4\n",
            "5\n",
            "6\n",
            "7\n",
            "8\n",
            "9\n",
            "1\n",
            "2\n",
            "3\n",
            "4\n",
            "5\n",
            "6\n",
            "7\n",
            "8\n",
            "9\n",
            "1\n",
            "2\n",
            "3\n",
            "4\n",
            "5\n",
            "6\n",
            "7\n",
            "8\n",
            "9\n",
            "1\n",
            "2\n",
            "3\n",
            "4\n",
            "5\n",
            "6\n",
            "7\n",
            "8\n",
            "9\n",
            "1\n",
            "2\n",
            "3\n",
            "4\n",
            "5\n",
            "6\n",
            "7\n",
            "8\n",
            "9\n",
            "1\n",
            "2\n",
            "3\n",
            "4\n",
            "5\n",
            "6\n",
            "7\n",
            "8\n",
            "9\n",
            "1\n",
            "2\n",
            "3\n",
            "4\n",
            "5\n",
            "6\n",
            "7\n",
            "8\n",
            "9\n",
            "1\n",
            "2\n",
            "3\n",
            "4\n",
            "5\n",
            "6\n",
            "7\n",
            "8\n",
            "9\n",
            "1\n",
            "2\n",
            "3\n",
            "4\n",
            "5\n",
            "6\n",
            "7\n",
            "8\n",
            "9\n",
            "1\n",
            "2\n",
            "3\n",
            "4\n",
            "5\n",
            "6\n",
            "7\n",
            "8\n",
            "9\n",
            "1\n",
            "2\n",
            "3\n",
            "4\n",
            "5\n",
            "6\n",
            "7\n",
            "8\n",
            "9\n",
            "1\n",
            "2\n",
            "3\n",
            "4\n",
            "5\n",
            "6\n",
            "7\n",
            "8\n",
            "9\n",
            "1\n",
            "2\n",
            "3\n",
            "4\n",
            "5\n",
            "6\n",
            "7\n",
            "8\n",
            "9\n",
            "1\n",
            "2\n",
            "3\n",
            "4\n",
            "5\n",
            "6\n",
            "7\n",
            "8\n",
            "9\n",
            "1\n",
            "2\n",
            "3\n",
            "4\n",
            "5\n",
            "6\n",
            "7\n",
            "8\n",
            "9\n",
            "1\n",
            "2\n",
            "3\n",
            "4\n",
            "5\n",
            "6\n",
            "7\n",
            "8\n",
            "9\n",
            "1\n",
            "2\n",
            "3\n",
            "4\n",
            "5\n",
            "6\n",
            "7\n",
            "8\n",
            "9\n",
            "1\n",
            "2\n",
            "3\n",
            "4\n",
            "5\n",
            "6\n",
            "7\n",
            "8\n",
            "9\n",
            "1\n",
            "2\n",
            "3\n",
            "4\n",
            "5\n",
            "6\n",
            "7\n",
            "8\n",
            "9\n",
            "1\n",
            "2\n",
            "3\n",
            "4\n",
            "5\n",
            "6\n",
            "7\n",
            "8\n",
            "9\n",
            "1\n",
            "2\n",
            "3\n",
            "4\n",
            "5\n",
            "6\n",
            "7\n",
            "8\n",
            "9\n",
            "1\n",
            "2\n",
            "3\n",
            "4\n",
            "5\n",
            "6\n",
            "7\n",
            "8\n",
            "9\n",
            "1\n",
            "2\n",
            "3\n",
            "4\n",
            "5\n",
            "6\n",
            "7\n",
            "8\n",
            "9\n",
            "1\n",
            "2\n",
            "3\n",
            "4\n",
            "5\n",
            "6\n",
            "7\n",
            "8\n",
            "9\n",
            "1\n",
            "2\n",
            "3\n",
            "4\n",
            "5\n",
            "6\n",
            "7\n",
            "8\n",
            "9\n",
            "1\n",
            "2\n",
            "3\n",
            "4\n",
            "5\n",
            "6\n",
            "7\n",
            "8\n",
            "9\n",
            "1\n",
            "2\n",
            "3\n",
            "4\n",
            "5\n",
            "6\n",
            "7\n",
            "8\n",
            "9\n",
            "1\n",
            "2\n",
            "3\n",
            "4\n",
            "5\n",
            "6\n",
            "7\n",
            "8\n",
            "9\n",
            "1\n",
            "2\n",
            "3\n",
            "4\n",
            "5\n",
            "6\n",
            "7\n",
            "8\n",
            "9\n",
            "1\n",
            "2\n",
            "3\n",
            "4\n",
            "5\n",
            "6\n",
            "7\n",
            "8\n",
            "9\n",
            "1\n",
            "2\n",
            "3\n",
            "4\n",
            "5\n",
            "6\n",
            "7\n",
            "8\n",
            "9\n",
            "1\n",
            "2\n",
            "3\n",
            "4\n",
            "5\n",
            "6\n",
            "7\n",
            "8\n",
            "9\n",
            "1\n",
            "2\n",
            "3\n",
            "4\n",
            "5\n",
            "6\n",
            "7\n",
            "8\n",
            "9\n",
            "1\n",
            "2\n",
            "3\n",
            "4\n",
            "5\n",
            "6\n",
            "7\n",
            "8\n",
            "9\n",
            "1\n",
            "2\n",
            "3\n",
            "4\n",
            "5\n",
            "6\n",
            "7\n",
            "8\n",
            "9\n",
            "1\n",
            "2\n",
            "3\n",
            "4\n",
            "5\n",
            "6\n",
            "7\n",
            "8\n",
            "9\n",
            "1\n",
            "2\n",
            "3\n",
            "4\n",
            "5\n",
            "6\n",
            "7\n",
            "8\n",
            "9\n",
            "1\n",
            "2\n",
            "3\n",
            "4\n",
            "5\n",
            "6\n",
            "7\n",
            "8\n",
            "9\n",
            "1\n",
            "2\n",
            "3\n",
            "4\n",
            "5\n",
            "6\n",
            "7\n",
            "8\n",
            "9\n",
            "1\n",
            "2\n",
            "3\n",
            "4\n",
            "5\n",
            "6\n",
            "7\n",
            "8\n",
            "9\n",
            "1\n",
            "2\n",
            "3\n",
            "4\n",
            "5\n",
            "6\n",
            "7\n",
            "8\n",
            "9\n",
            "1\n",
            "2\n",
            "3\n",
            "4\n",
            "5\n",
            "6\n",
            "7\n",
            "8\n",
            "9\n",
            "1\n",
            "2\n",
            "3\n",
            "4\n",
            "5\n",
            "6\n",
            "7\n",
            "8\n",
            "9\n",
            "1\n",
            "2\n",
            "3\n",
            "4\n",
            "5\n",
            "6\n",
            "7\n",
            "8\n",
            "9\n",
            "1\n",
            "2\n",
            "3\n",
            "4\n",
            "5\n",
            "6\n",
            "7\n",
            "8\n",
            "9\n",
            "1\n",
            "2\n",
            "3\n",
            "4\n",
            "5\n",
            "6\n",
            "7\n",
            "8\n",
            "9\n",
            "1\n",
            "2\n",
            "3\n",
            "4\n",
            "5\n",
            "6\n",
            "7\n",
            "8\n",
            "9\n",
            "1\n",
            "2\n",
            "3\n",
            "4\n",
            "5\n",
            "6\n",
            "7\n",
            "8\n",
            "9\n",
            "1\n",
            "2\n",
            "3\n",
            "4\n",
            "5\n",
            "6\n",
            "7\n",
            "8\n",
            "9\n",
            "1\n",
            "2\n",
            "3\n",
            "4\n",
            "5\n",
            "6\n",
            "7\n",
            "8\n",
            "9\n",
            "1\n",
            "2\n",
            "3\n",
            "4\n",
            "5\n",
            "6\n",
            "7\n",
            "8\n",
            "9\n",
            "1\n",
            "2\n",
            "3\n",
            "4\n",
            "5\n",
            "6\n",
            "7\n",
            "8\n",
            "9\n",
            "1\n",
            "2\n",
            "3\n",
            "4\n",
            "5\n",
            "6\n",
            "7\n",
            "8\n",
            "9\n",
            "1\n",
            "2\n",
            "3\n",
            "4\n",
            "5\n",
            "6\n",
            "7\n",
            "8\n",
            "9\n",
            "1\n",
            "2\n",
            "3\n",
            "4\n",
            "5\n",
            "6\n",
            "7\n",
            "8\n",
            "9\n",
            "1\n",
            "2\n",
            "3\n",
            "4\n",
            "5\n",
            "6\n",
            "7\n",
            "8\n",
            "9\n"
          ]
        }
      ],
      "source": [
        "p_values_gamma=[]\n",
        "sample_size_gamma=[]\n",
        "#dimension=[]\n",
        "gamma=np.linspace(1e-3,10,50)\n",
        "\n",
        "m=np.array([40,80,120])\n",
        "#dim=np.array([5,10,15,20])\n",
        "for i in m:\n",
        "  for j in gamma:\n",
        "    mean_value1 = 0.\n",
        "    mean_value2 =.2\n",
        "  \n",
        "\n",
        "    #mean_array1=np.zeros(j)\n",
        "    #mean_array2=np.zeros(j)\n",
        "    #cov=np.zeros((j,j))\n",
        "\n",
        "    #for k in range(j):\n",
        "      #mean_array1[k]=mean_value1\n",
        "      #ean_array2[k]=mean_value2\n",
        "      #cov[k,k]=1.\n",
        "\n",
        "    X= normal(loc=mean_value1, scale=1.0, size=i)\n",
        "    Y= normal(loc=mean_value2, scale=1.0, size=i)\n",
        "    XX = X[:, np.newaxis]\n",
        "    YY = Y[:, np.newaxis]\n",
        "    \n",
        "\n",
        "    l=1\n",
        "    p_int=0.\n",
        "    while l<10:\n",
        "      #gamma=.1  \n",
        "\n",
        "      mmd2u, mmd2u_null, p_value = two_sample_test(XX, YY,\n",
        "                           model='MMD',\n",
        "                           iterations=1000,\n",
        "                           kernel_function='rbf',\n",
        "                           gamma=j,\n",
        "                           n_jobs=4)\n",
        "    \n",
        "      p_int+=p_value\n",
        "      print(l)\n",
        "      l+=1\n",
        "\n",
        "    avg_p_value=p_int/10.\n",
        "    reject_rate=rej/10.\n",
        "    #dimension.append(j)\n",
        "    p_values_gamma.append(avg_p_value)\n",
        "    rej_rate_array.append(reject_rate)\n",
        "  sample_size_gamma.append(i)\n",
        "  \n",
        "\n",
        "file3 = open(\"/content/gdrive/MyDrive/tatter-master/SampleSizeGamma.txt\", \"w\")\n",
        "np.savetxt(file3, np.array(sample_size_gamma))\n",
        "file3.close()\n",
        "\n",
        "file4 = open(\"/content/gdrive/MyDrive/tatter-master/pValueforMMD_diffmean_gamma.txt\", \"w\")\n",
        "np.savetxt(file4, np.array(p_values_gamma))\n",
        "file4.close()\n",
        "\n",
        "file5 = open(\"/content/gdrive/MyDrive/tatter-master/Gamma.txt\", \"w\")\n",
        "np.savetxt(file5, gamma)\n",
        "file5.close()"
      ]
    },
    {
      "cell_type": "code",
      "source": [
        "sample_gamma=np.genfromtxt('/content/gdrive/MyDrive/tatter-master/SampleSizeGamma.txt')\n",
        "p_value_gamma=np.genfromtxt('/content/gdrive/MyDrive/tatter-master/pValueforMMD_diffmean_gamma.txt')\n",
        "gamma=np.genfromtxt('/content/gdrive/MyDrive/tatter-master/Gamma.txt')"
      ],
      "metadata": {
        "id": "e6RJA7hN34ml"
      },
      "execution_count": 5,
      "outputs": []
    },
    {
      "cell_type": "code",
      "source": [
        "#define arrays\n",
        "sample40=np.zeros(int(len(p_value_gamma)/3))\n",
        "sample80=np.zeros(int(len(p_value_gamma)/3))\n",
        "sample120=np.zeros(int(len(p_value_gamma)/3))\n",
        "\n",
        "\n",
        "#fill arrays with corresponding p_values\n",
        "for i in range(int(len(p_value_gamma)/3)):\n",
        "  #print(i)\n",
        "  #print(i+int(len(num_dimensions)/3))\n",
        "  #print(i+ 2*int(len(num_dimensions)/3))\n",
        "  sample40[i]=p_value_gamma[i]\n",
        "  sample80[i]=p_value_gamma[i+int(len(p_value_gamma)/3)]\n",
        "  sample120[i]=p_value_gamma[i+ 2*int(len(p_value_gamma)/3)]"
      ],
      "metadata": {
        "id": "w6NSn-B85LZF"
      },
      "execution_count": 9,
      "outputs": []
    },
    {
      "cell_type": "code",
      "source": [
        "plt.plot(gamma,sample40,color='green',label='sample size = 40')\n",
        "plt.plot(gamma,sample80,color='orange',label='sample size = 80')\n",
        "plt.plot(gamma,sample120,color='yellow',label='sample size = 120')"
      ],
      "metadata": {
        "colab": {
          "base_uri": "https://localhost:8080/",
          "height": 283
        },
        "id": "Pufg2zx44mh3",
        "outputId": "5df69254-a96a-47f5-ddf2-18f3ebefc0e7"
      },
      "execution_count": 10,
      "outputs": [
        {
          "output_type": "execute_result",
          "data": {
            "text/plain": [
              "[<matplotlib.lines.Line2D at 0x7f0c7fb3dcd0>]"
            ]
          },
          "metadata": {},
          "execution_count": 10
        },
        {
          "output_type": "display_data",
          "data": {
            "text/plain": [
              "<Figure size 432x288 with 1 Axes>"
            ],
            "image/png": "[encoded data removed]"
          },
          "metadata": {
            "needs_background": "light"
          }
        }
      ]
    },
    {
      "cell_type": "markdown",
      "source": [
        "##Comparing two different distributions"
      ],
      "metadata": {
        "id": "svlfJRYFG1NI"
      }
    },
    {
      "cell_type": "markdown",
      "source": [
        "Finally I want to test to see if the MMD test can differentiate between two different distributions with the same mean and variance."
      ],
      "metadata": {
        "id": "1QivO7DxG-Y0"
      }
    },
    {
      "cell_type": "code",
      "execution_count": 11,
      "metadata": {
        "colab": {
          "base_uri": "https://localhost:8080/"
        },
        "id": "tBkq08-DU0yN",
        "outputId": "184e4043-746c-4e65-8a00-4683a754095d"
      },
      "outputs": [
        {
          "output_type": "stream",
          "name": "stdout",
          "text": [
            "test value = 0.16571414815770025\n",
            "Computing the null distribution.\n"
          ]
        },
        {
          "output_type": "stream",
          "name": "stderr",
          "text": [
            "100%|██████████| 1000/1000 [00:00<00:00, 2668.08it/s]\n"
          ]
        },
        {
          "output_type": "stream",
          "name": "stdout",
          "text": [
            "p-value < 0.001 \t (resolution : 0.001)\n",
            "0\n",
            "test value = 0.225358052119631\n",
            "Computing the null distribution.\n"
          ]
        },
        {
          "output_type": "stream",
          "name": "stderr",
          "text": [
            "100%|██████████| 1000/1000 [00:00<00:00, 2658.68it/s]\n"
          ]
        },
        {
          "output_type": "stream",
          "name": "stdout",
          "text": [
            "p-value < 0.001 \t (resolution : 0.001)\n",
            "1\n",
            "test value = 0.22204978451601676\n",
            "Computing the null distribution.\n"
          ]
        },
        {
          "output_type": "stream",
          "name": "stderr",
          "text": [
            "100%|██████████| 1000/1000 [00:00<00:00, 2638.48it/s]\n"
          ]
        },
        {
          "output_type": "stream",
          "name": "stdout",
          "text": [
            "p-value < 0.001 \t (resolution : 0.001)\n",
            "2\n",
            "test value = 0.14686349154371903\n",
            "Computing the null distribution.\n"
          ]
        },
        {
          "output_type": "stream",
          "name": "stderr",
          "text": [
            "100%|██████████| 1000/1000 [00:00<00:00, 2647.19it/s]\n"
          ]
        },
        {
          "output_type": "stream",
          "name": "stdout",
          "text": [
            "p-value < 0.001 \t (resolution : 0.001)\n",
            "3\n",
            "test value = 0.07677164444637019\n",
            "Computing the null distribution.\n"
          ]
        },
        {
          "output_type": "stream",
          "name": "stderr",
          "text": [
            "100%|██████████| 1000/1000 [00:00<00:00, 2654.00it/s]\n"
          ]
        },
        {
          "output_type": "stream",
          "name": "stdout",
          "text": [
            "p-value < 0.001 \t (resolution : 0.001)\n",
            "4\n",
            "test value = 0.23387834789487516\n",
            "Computing the null distribution.\n"
          ]
        },
        {
          "output_type": "stream",
          "name": "stderr",
          "text": [
            "100%|██████████| 1000/1000 [00:00<00:00, 2593.42it/s]\n"
          ]
        },
        {
          "output_type": "stream",
          "name": "stdout",
          "text": [
            "p-value < 0.001 \t (resolution : 0.001)\n",
            "5\n",
            "test value = 0.17558842635808047\n",
            "Computing the null distribution.\n"
          ]
        },
        {
          "output_type": "stream",
          "name": "stderr",
          "text": [
            "100%|██████████| 1000/1000 [00:00<00:00, 2788.44it/s]\n"
          ]
        },
        {
          "output_type": "stream",
          "name": "stdout",
          "text": [
            "p-value < 0.001 \t (resolution : 0.001)\n",
            "6\n",
            "test value = 0.19828652698855675\n",
            "Computing the null distribution.\n"
          ]
        },
        {
          "output_type": "stream",
          "name": "stderr",
          "text": [
            "100%|██████████| 1000/1000 [00:00<00:00, 2632.29it/s]\n"
          ]
        },
        {
          "output_type": "stream",
          "name": "stdout",
          "text": [
            "p-value < 0.001 \t (resolution : 0.001)\n",
            "7\n",
            "test value = 0.22000660505472602\n",
            "Computing the null distribution.\n"
          ]
        },
        {
          "output_type": "stream",
          "name": "stderr",
          "text": [
            "100%|██████████| 1000/1000 [00:00<00:00, 2722.08it/s]\n"
          ]
        },
        {
          "output_type": "stream",
          "name": "stdout",
          "text": [
            "p-value < 0.001 \t (resolution : 0.001)\n",
            "8\n",
            "test value = 0.15481500564077422\n",
            "Computing the null distribution.\n"
          ]
        },
        {
          "output_type": "stream",
          "name": "stderr",
          "text": [
            "100%|██████████| 1000/1000 [00:00<00:00, 2662.93it/s]\n"
          ]
        },
        {
          "output_type": "stream",
          "name": "stdout",
          "text": [
            "p-value < 0.001 \t (resolution : 0.001)\n",
            "9\n",
            "test value = 0.16937754676311578\n",
            "Computing the null distribution.\n"
          ]
        },
        {
          "output_type": "stream",
          "name": "stderr",
          "text": [
            "100%|██████████| 1000/1000 [00:00<00:00, 2549.02it/s]\n"
          ]
        },
        {
          "output_type": "stream",
          "name": "stdout",
          "text": [
            "p-value < 0.001 \t (resolution : 0.001)\n",
            "10\n",
            "test value = 0.1273627864224427\n",
            "Computing the null distribution.\n"
          ]
        },
        {
          "output_type": "stream",
          "name": "stderr",
          "text": [
            "100%|██████████| 1000/1000 [00:00<00:00, 2611.01it/s]\n"
          ]
        },
        {
          "output_type": "stream",
          "name": "stdout",
          "text": [
            "p-value < 0.001 \t (resolution : 0.001)\n",
            "11\n",
            "test value = 0.16583801696289746\n",
            "Computing the null distribution.\n"
          ]
        },
        {
          "output_type": "stream",
          "name": "stderr",
          "text": [
            "100%|██████████| 1000/1000 [00:00<00:00, 2610.49it/s]\n"
          ]
        },
        {
          "output_type": "stream",
          "name": "stdout",
          "text": [
            "p-value < 0.001 \t (resolution : 0.001)\n",
            "12\n",
            "test value = 0.22291150012573047\n",
            "Computing the null distribution.\n"
          ]
        },
        {
          "output_type": "stream",
          "name": "stderr",
          "text": [
            "100%|██████████| 1000/1000 [00:00<00:00, 2647.73it/s]\n"
          ]
        },
        {
          "output_type": "stream",
          "name": "stdout",
          "text": [
            "p-value < 0.001 \t (resolution : 0.001)\n",
            "13\n",
            "test value = 0.1661263228277503\n",
            "Computing the null distribution.\n"
          ]
        },
        {
          "output_type": "stream",
          "name": "stderr",
          "text": [
            "100%|██████████| 1000/1000 [00:00<00:00, 2706.18it/s]\n"
          ]
        },
        {
          "output_type": "stream",
          "name": "stdout",
          "text": [
            "p-value < 0.001 \t (resolution : 0.001)\n",
            "14\n",
            "test value = 0.12004701711199006\n",
            "Computing the null distribution.\n"
          ]
        },
        {
          "output_type": "stream",
          "name": "stderr",
          "text": [
            "100%|██████████| 1000/1000 [00:00<00:00, 2542.90it/s]\n"
          ]
        },
        {
          "output_type": "stream",
          "name": "stdout",
          "text": [
            "p-value < 0.001 \t (resolution : 0.001)\n",
            "15\n",
            "test value = 0.13287328838867496\n",
            "Computing the null distribution.\n"
          ]
        },
        {
          "output_type": "stream",
          "name": "stderr",
          "text": [
            "100%|██████████| 1000/1000 [00:00<00:00, 2717.06it/s]\n"
          ]
        },
        {
          "output_type": "stream",
          "name": "stdout",
          "text": [
            "p-value < 0.001 \t (resolution : 0.001)\n",
            "16\n",
            "test value = 0.15915127472034718\n",
            "Computing the null distribution.\n"
          ]
        },
        {
          "output_type": "stream",
          "name": "stderr",
          "text": [
            "100%|██████████| 1000/1000 [00:00<00:00, 2725.09it/s]\n"
          ]
        },
        {
          "output_type": "stream",
          "name": "stdout",
          "text": [
            "p-value < 0.001 \t (resolution : 0.001)\n",
            "17\n",
            "test value = 0.19329815990301236\n",
            "Computing the null distribution.\n"
          ]
        },
        {
          "output_type": "stream",
          "name": "stderr",
          "text": [
            "100%|██████████| 1000/1000 [00:00<00:00, 2669.04it/s]\n"
          ]
        },
        {
          "output_type": "stream",
          "name": "stdout",
          "text": [
            "p-value < 0.001 \t (resolution : 0.001)\n",
            "18\n",
            "test value = 0.17580782078406343\n",
            "Computing the null distribution.\n"
          ]
        },
        {
          "output_type": "stream",
          "name": "stderr",
          "text": [
            "100%|██████████| 1000/1000 [00:00<00:00, 2737.58it/s]\n"
          ]
        },
        {
          "output_type": "stream",
          "name": "stdout",
          "text": [
            "p-value < 0.001 \t (resolution : 0.001)\n",
            "19\n",
            "test value = 0.18030789242902867\n",
            "Computing the null distribution.\n"
          ]
        },
        {
          "output_type": "stream",
          "name": "stderr",
          "text": [
            "100%|██████████| 1000/1000 [00:01<00:00, 578.52it/s]\n"
          ]
        },
        {
          "output_type": "stream",
          "name": "stdout",
          "text": [
            "p-value < 0.001 \t (resolution : 0.001)\n",
            "0\n",
            "test value = 0.15792044023490126\n",
            "Computing the null distribution.\n"
          ]
        },
        {
          "output_type": "stream",
          "name": "stderr",
          "text": [
            "100%|██████████| 1000/1000 [00:01<00:00, 586.06it/s]\n"
          ]
        },
        {
          "output_type": "stream",
          "name": "stdout",
          "text": [
            "p-value < 0.001 \t (resolution : 0.001)\n",
            "1\n",
            "test value = 0.1742357987361367\n",
            "Computing the null distribution.\n"
          ]
        },
        {
          "output_type": "stream",
          "name": "stderr",
          "text": [
            "100%|██████████| 1000/1000 [00:01<00:00, 586.40it/s]\n"
          ]
        },
        {
          "output_type": "stream",
          "name": "stdout",
          "text": [
            "p-value < 0.001 \t (resolution : 0.001)\n",
            "2\n",
            "test value = 0.14017568177390483\n",
            "Computing the null distribution.\n"
          ]
        },
        {
          "output_type": "stream",
          "name": "stderr",
          "text": [
            "100%|██████████| 1000/1000 [00:01<00:00, 554.76it/s]\n"
          ]
        },
        {
          "output_type": "stream",
          "name": "stdout",
          "text": [
            "p-value < 0.001 \t (resolution : 0.001)\n",
            "3\n",
            "test value = 0.1739650807362283\n",
            "Computing the null distribution.\n"
          ]
        },
        {
          "output_type": "stream",
          "name": "stderr",
          "text": [
            "100%|██████████| 1000/1000 [00:01<00:00, 599.92it/s]\n"
          ]
        },
        {
          "output_type": "stream",
          "name": "stdout",
          "text": [
            "p-value < 0.001 \t (resolution : 0.001)\n",
            "4\n",
            "test value = 0.11574693886024523\n",
            "Computing the null distribution.\n"
          ]
        },
        {
          "output_type": "stream",
          "name": "stderr",
          "text": [
            "100%|██████████| 1000/1000 [00:01<00:00, 582.33it/s]\n"
          ]
        },
        {
          "output_type": "stream",
          "name": "stdout",
          "text": [
            "p-value < 0.001 \t (resolution : 0.001)\n",
            "5\n",
            "test value = 0.1678507539387255\n",
            "Computing the null distribution.\n"
          ]
        },
        {
          "output_type": "stream",
          "name": "stderr",
          "text": [
            "100%|██████████| 1000/1000 [00:01<00:00, 591.76it/s]\n"
          ]
        },
        {
          "output_type": "stream",
          "name": "stdout",
          "text": [
            "p-value < 0.001 \t (resolution : 0.001)\n",
            "6\n",
            "test value = 0.1413380941616924\n",
            "Computing the null distribution.\n"
          ]
        },
        {
          "output_type": "stream",
          "name": "stderr",
          "text": [
            "100%|██████████| 1000/1000 [00:01<00:00, 602.35it/s]\n"
          ]
        },
        {
          "output_type": "stream",
          "name": "stdout",
          "text": [
            "p-value < 0.001 \t (resolution : 0.001)\n",
            "7\n",
            "test value = 0.11219752039705222\n",
            "Computing the null distribution.\n"
          ]
        },
        {
          "output_type": "stream",
          "name": "stderr",
          "text": [
            "100%|██████████| 1000/1000 [00:01<00:00, 616.22it/s]\n"
          ]
        },
        {
          "output_type": "stream",
          "name": "stdout",
          "text": [
            "p-value < 0.001 \t (resolution : 0.001)\n",
            "8\n",
            "test value = 0.14713224537786984\n",
            "Computing the null distribution.\n"
          ]
        },
        {
          "output_type": "stream",
          "name": "stderr",
          "text": [
            "100%|██████████| 1000/1000 [00:01<00:00, 601.90it/s]\n"
          ]
        },
        {
          "output_type": "stream",
          "name": "stdout",
          "text": [
            "p-value < 0.001 \t (resolution : 0.001)\n",
            "9\n",
            "test value = 0.15087839214967236\n",
            "Computing the null distribution.\n"
          ]
        },
        {
          "output_type": "stream",
          "name": "stderr",
          "text": [
            "100%|██████████| 1000/1000 [00:01<00:00, 590.10it/s]\n"
          ]
        },
        {
          "output_type": "stream",
          "name": "stdout",
          "text": [
            "p-value < 0.001 \t (resolution : 0.001)\n",
            "10\n",
            "test value = 0.1331253980529452\n",
            "Computing the null distribution.\n"
          ]
        },
        {
          "output_type": "stream",
          "name": "stderr",
          "text": [
            "100%|██████████| 1000/1000 [00:01<00:00, 568.36it/s]\n"
          ]
        },
        {
          "output_type": "stream",
          "name": "stdout",
          "text": [
            "p-value < 0.001 \t (resolution : 0.001)\n",
            "11\n",
            "test value = 0.16316399288641126\n",
            "Computing the null distribution.\n"
          ]
        },
        {
          "output_type": "stream",
          "name": "stderr",
          "text": [
            "100%|██████████| 1000/1000 [00:01<00:00, 559.17it/s]\n"
          ]
        },
        {
          "output_type": "stream",
          "name": "stdout",
          "text": [
            "p-value < 0.001 \t (resolution : 0.001)\n",
            "12\n",
            "test value = 0.14161712724028708\n",
            "Computing the null distribution.\n"
          ]
        },
        {
          "output_type": "stream",
          "name": "stderr",
          "text": [
            "100%|██████████| 1000/1000 [00:01<00:00, 592.98it/s]\n"
          ]
        },
        {
          "output_type": "stream",
          "name": "stdout",
          "text": [
            "p-value < 0.001 \t (resolution : 0.001)\n",
            "13\n",
            "test value = 0.15916764922898552\n",
            "Computing the null distribution.\n"
          ]
        },
        {
          "output_type": "stream",
          "name": "stderr",
          "text": [
            "100%|██████████| 1000/1000 [00:01<00:00, 586.93it/s]\n"
          ]
        },
        {
          "output_type": "stream",
          "name": "stdout",
          "text": [
            "p-value < 0.001 \t (resolution : 0.001)\n",
            "14\n",
            "test value = 0.13231000589233055\n",
            "Computing the null distribution.\n"
          ]
        },
        {
          "output_type": "stream",
          "name": "stderr",
          "text": [
            "100%|██████████| 1000/1000 [00:01<00:00, 593.76it/s]\n"
          ]
        },
        {
          "output_type": "stream",
          "name": "stdout",
          "text": [
            "p-value < 0.001 \t (resolution : 0.001)\n",
            "15\n",
            "test value = 0.17515437350466145\n",
            "Computing the null distribution.\n"
          ]
        },
        {
          "output_type": "stream",
          "name": "stderr",
          "text": [
            "100%|██████████| 1000/1000 [00:01<00:00, 602.91it/s]\n"
          ]
        },
        {
          "output_type": "stream",
          "name": "stdout",
          "text": [
            "p-value < 0.001 \t (resolution : 0.001)\n",
            "16\n",
            "test value = 0.16116823589623563\n",
            "Computing the null distribution.\n"
          ]
        },
        {
          "output_type": "stream",
          "name": "stderr",
          "text": [
            "100%|██████████| 1000/1000 [00:02<00:00, 364.21it/s]\n"
          ]
        },
        {
          "output_type": "stream",
          "name": "stdout",
          "text": [
            "p-value < 0.001 \t (resolution : 0.001)\n",
            "17\n",
            "test value = 0.17209360009686425\n",
            "Computing the null distribution.\n"
          ]
        },
        {
          "output_type": "stream",
          "name": "stderr",
          "text": [
            "100%|██████████| 1000/1000 [00:04<00:00, 231.60it/s]\n"
          ]
        },
        {
          "output_type": "stream",
          "name": "stdout",
          "text": [
            "p-value < 0.001 \t (resolution : 0.001)\n",
            "18\n",
            "test value = 0.1862675371590803\n",
            "Computing the null distribution.\n"
          ]
        },
        {
          "output_type": "stream",
          "name": "stderr",
          "text": [
            "100%|██████████| 1000/1000 [00:02<00:00, 406.83it/s]\n"
          ]
        },
        {
          "output_type": "stream",
          "name": "stdout",
          "text": [
            "p-value < 0.001 \t (resolution : 0.001)\n",
            "19\n",
            "test value = 0.19258947618796274\n",
            "Computing the null distribution.\n"
          ]
        },
        {
          "output_type": "stream",
          "name": "stderr",
          "text": [
            "100%|██████████| 1000/1000 [00:05<00:00, 178.85it/s]\n"
          ]
        },
        {
          "output_type": "stream",
          "name": "stdout",
          "text": [
            "p-value < 0.001 \t (resolution : 0.001)\n",
            "0\n",
            "test value = 0.14776753199863624\n",
            "Computing the null distribution.\n"
          ]
        },
        {
          "output_type": "stream",
          "name": "stderr",
          "text": [
            "100%|██████████| 1000/1000 [00:07<00:00, 142.56it/s]\n"
          ]
        },
        {
          "output_type": "stream",
          "name": "stdout",
          "text": [
            "p-value < 0.001 \t (resolution : 0.001)\n",
            "1\n",
            "test value = 0.16649261541217197\n",
            "Computing the null distribution.\n"
          ]
        },
        {
          "output_type": "stream",
          "name": "stderr",
          "text": [
            "100%|██████████| 1000/1000 [00:05<00:00, 176.12it/s]\n"
          ]
        },
        {
          "output_type": "stream",
          "name": "stdout",
          "text": [
            "p-value < 0.001 \t (resolution : 0.001)\n",
            "2\n",
            "test value = 0.14732672080402476\n",
            "Computing the null distribution.\n"
          ]
        },
        {
          "output_type": "stream",
          "name": "stderr",
          "text": [
            "100%|██████████| 1000/1000 [00:05<00:00, 177.38it/s]\n"
          ]
        },
        {
          "output_type": "stream",
          "name": "stdout",
          "text": [
            "p-value < 0.001 \t (resolution : 0.001)\n",
            "3\n",
            "test value = 0.12922842256391953\n",
            "Computing the null distribution.\n"
          ]
        },
        {
          "output_type": "stream",
          "name": "stderr",
          "text": [
            "100%|██████████| 1000/1000 [00:05<00:00, 175.80it/s]\n"
          ]
        },
        {
          "output_type": "stream",
          "name": "stdout",
          "text": [
            "p-value < 0.001 \t (resolution : 0.001)\n",
            "4\n",
            "test value = 0.14291553743464758\n",
            "Computing the null distribution.\n"
          ]
        },
        {
          "output_type": "stream",
          "name": "stderr",
          "text": [
            "100%|██████████| 1000/1000 [00:05<00:00, 177.29it/s]\n"
          ]
        },
        {
          "output_type": "stream",
          "name": "stdout",
          "text": [
            "p-value < 0.001 \t (resolution : 0.001)\n",
            "5\n",
            "test value = 0.18731352861731598\n",
            "Computing the null distribution.\n"
          ]
        },
        {
          "output_type": "stream",
          "name": "stderr",
          "text": [
            "100%|██████████| 1000/1000 [00:05<00:00, 180.55it/s]\n"
          ]
        },
        {
          "output_type": "stream",
          "name": "stdout",
          "text": [
            "p-value < 0.001 \t (resolution : 0.001)\n",
            "6\n",
            "test value = 0.20067994172762726\n",
            "Computing the null distribution.\n"
          ]
        },
        {
          "output_type": "stream",
          "name": "stderr",
          "text": [
            "100%|██████████| 1000/1000 [00:05<00:00, 179.43it/s]\n"
          ]
        },
        {
          "output_type": "stream",
          "name": "stdout",
          "text": [
            "p-value < 0.001 \t (resolution : 0.001)\n",
            "7\n",
            "test value = 0.15079709027400945\n",
            "Computing the null distribution.\n"
          ]
        },
        {
          "output_type": "stream",
          "name": "stderr",
          "text": [
            "100%|██████████| 1000/1000 [00:05<00:00, 182.17it/s]\n"
          ]
        },
        {
          "output_type": "stream",
          "name": "stdout",
          "text": [
            "p-value < 0.001 \t (resolution : 0.001)\n",
            "8\n",
            "test value = 0.19532146267049422\n",
            "Computing the null distribution.\n"
          ]
        },
        {
          "output_type": "stream",
          "name": "stderr",
          "text": [
            "100%|██████████| 1000/1000 [00:05<00:00, 180.52it/s]\n"
          ]
        },
        {
          "output_type": "stream",
          "name": "stdout",
          "text": [
            "p-value < 0.001 \t (resolution : 0.001)\n",
            "9\n",
            "test value = 0.16037848214093553\n",
            "Computing the null distribution.\n"
          ]
        },
        {
          "output_type": "stream",
          "name": "stderr",
          "text": [
            "100%|██████████| 1000/1000 [00:05<00:00, 183.94it/s]\n"
          ]
        },
        {
          "output_type": "stream",
          "name": "stdout",
          "text": [
            "p-value < 0.001 \t (resolution : 0.001)\n",
            "10\n",
            "test value = 0.16830423107944736\n",
            "Computing the null distribution.\n"
          ]
        },
        {
          "output_type": "stream",
          "name": "stderr",
          "text": [
            "100%|██████████| 1000/1000 [00:05<00:00, 183.17it/s]\n"
          ]
        },
        {
          "output_type": "stream",
          "name": "stdout",
          "text": [
            "p-value < 0.001 \t (resolution : 0.001)\n",
            "11\n",
            "test value = 0.1605433413945525\n",
            "Computing the null distribution.\n"
          ]
        },
        {
          "output_type": "stream",
          "name": "stderr",
          "text": [
            "100%|██████████| 1000/1000 [00:05<00:00, 183.07it/s]\n"
          ]
        },
        {
          "output_type": "stream",
          "name": "stdout",
          "text": [
            "p-value < 0.001 \t (resolution : 0.001)\n",
            "12\n",
            "test value = 0.1772562320633997\n",
            "Computing the null distribution.\n"
          ]
        },
        {
          "output_type": "stream",
          "name": "stderr",
          "text": [
            "100%|██████████| 1000/1000 [00:05<00:00, 183.83it/s]\n"
          ]
        },
        {
          "output_type": "stream",
          "name": "stdout",
          "text": [
            "p-value < 0.001 \t (resolution : 0.001)\n",
            "13\n",
            "test value = 0.17372662975732434\n",
            "Computing the null distribution.\n"
          ]
        },
        {
          "output_type": "stream",
          "name": "stderr",
          "text": [
            "100%|██████████| 1000/1000 [00:05<00:00, 181.85it/s]\n"
          ]
        },
        {
          "output_type": "stream",
          "name": "stdout",
          "text": [
            "p-value < 0.001 \t (resolution : 0.001)\n",
            "14\n",
            "test value = 0.15666468213745355\n",
            "Computing the null distribution.\n"
          ]
        },
        {
          "output_type": "stream",
          "name": "stderr",
          "text": [
            "100%|██████████| 1000/1000 [00:05<00:00, 183.81it/s]\n"
          ]
        },
        {
          "output_type": "stream",
          "name": "stdout",
          "text": [
            "p-value < 0.001 \t (resolution : 0.001)\n",
            "15\n",
            "test value = 0.17735188303869043\n",
            "Computing the null distribution.\n"
          ]
        },
        {
          "output_type": "stream",
          "name": "stderr",
          "text": [
            "100%|██████████| 1000/1000 [00:05<00:00, 183.66it/s]\n"
          ]
        },
        {
          "output_type": "stream",
          "name": "stdout",
          "text": [
            "p-value < 0.001 \t (resolution : 0.001)\n",
            "16\n",
            "test value = 0.17432248220663094\n",
            "Computing the null distribution.\n"
          ]
        },
        {
          "output_type": "stream",
          "name": "stderr",
          "text": [
            "100%|██████████| 1000/1000 [00:05<00:00, 181.34it/s]\n"
          ]
        },
        {
          "output_type": "stream",
          "name": "stdout",
          "text": [
            "p-value < 0.001 \t (resolution : 0.001)\n",
            "17\n",
            "test value = 0.16538127323649654\n",
            "Computing the null distribution.\n"
          ]
        },
        {
          "output_type": "stream",
          "name": "stderr",
          "text": [
            "100%|██████████| 1000/1000 [00:05<00:00, 180.76it/s]\n"
          ]
        },
        {
          "output_type": "stream",
          "name": "stdout",
          "text": [
            "p-value < 0.001 \t (resolution : 0.001)\n",
            "18\n",
            "test value = 0.13340847643302567\n",
            "Computing the null distribution.\n"
          ]
        },
        {
          "output_type": "stream",
          "name": "stderr",
          "text": [
            "100%|██████████| 1000/1000 [00:05<00:00, 180.20it/s]\n"
          ]
        },
        {
          "output_type": "stream",
          "name": "stdout",
          "text": [
            "p-value < 0.001 \t (resolution : 0.001)\n",
            "19\n",
            "test value = 0.17385452073128937\n",
            "Computing the null distribution.\n"
          ]
        },
        {
          "output_type": "stream",
          "name": "stderr",
          "text": [
            "100%|██████████| 1000/1000 [00:11<00:00, 85.98it/s]\n"
          ]
        },
        {
          "output_type": "stream",
          "name": "stdout",
          "text": [
            "p-value < 0.001 \t (resolution : 0.001)\n",
            "0\n",
            "test value = 0.15576606734112608\n",
            "Computing the null distribution.\n"
          ]
        },
        {
          "output_type": "stream",
          "name": "stderr",
          "text": [
            "100%|██████████| 1000/1000 [00:11<00:00, 84.88it/s]\n"
          ]
        },
        {
          "output_type": "stream",
          "name": "stdout",
          "text": [
            "p-value < 0.001 \t (resolution : 0.001)\n",
            "1\n",
            "test value = 0.14197181437958473\n",
            "Computing the null distribution.\n"
          ]
        },
        {
          "output_type": "stream",
          "name": "stderr",
          "text": [
            "100%|██████████| 1000/1000 [00:11<00:00, 83.41it/s]\n"
          ]
        },
        {
          "output_type": "stream",
          "name": "stdout",
          "text": [
            "p-value < 0.001 \t (resolution : 0.001)\n",
            "2\n",
            "test value = 0.16151303311479226\n",
            "Computing the null distribution.\n"
          ]
        },
        {
          "output_type": "stream",
          "name": "stderr",
          "text": [
            "100%|██████████| 1000/1000 [00:11<00:00, 87.64it/s]\n"
          ]
        },
        {
          "output_type": "stream",
          "name": "stdout",
          "text": [
            "p-value < 0.001 \t (resolution : 0.001)\n",
            "3\n",
            "test value = 0.16098789367989674\n",
            "Computing the null distribution.\n"
          ]
        },
        {
          "output_type": "stream",
          "name": "stderr",
          "text": [
            "100%|██████████| 1000/1000 [00:11<00:00, 87.09it/s]\n"
          ]
        },
        {
          "output_type": "stream",
          "name": "stdout",
          "text": [
            "p-value < 0.001 \t (resolution : 0.001)\n",
            "4\n",
            "test value = 0.1248594117103099\n",
            "Computing the null distribution.\n"
          ]
        },
        {
          "output_type": "stream",
          "name": "stderr",
          "text": [
            "100%|██████████| 1000/1000 [00:11<00:00, 90.04it/s]\n"
          ]
        },
        {
          "output_type": "stream",
          "name": "stdout",
          "text": [
            "p-value < 0.001 \t (resolution : 0.001)\n",
            "5\n",
            "test value = 0.1270449415138395\n",
            "Computing the null distribution.\n"
          ]
        },
        {
          "output_type": "stream",
          "name": "stderr",
          "text": [
            "100%|██████████| 1000/1000 [00:11<00:00, 89.89it/s]\n"
          ]
        },
        {
          "output_type": "stream",
          "name": "stdout",
          "text": [
            "p-value < 0.001 \t (resolution : 0.001)\n",
            "6\n",
            "test value = 0.13946295466500414\n",
            "Computing the null distribution.\n"
          ]
        },
        {
          "output_type": "stream",
          "name": "stderr",
          "text": [
            "100%|██████████| 1000/1000 [00:10<00:00, 92.67it/s]\n"
          ]
        },
        {
          "output_type": "stream",
          "name": "stdout",
          "text": [
            "p-value < 0.001 \t (resolution : 0.001)\n",
            "7\n",
            "test value = 0.1527303427405562\n",
            "Computing the null distribution.\n"
          ]
        },
        {
          "output_type": "stream",
          "name": "stderr",
          "text": [
            "100%|██████████| 1000/1000 [00:10<00:00, 90.92it/s]\n"
          ]
        },
        {
          "output_type": "stream",
          "name": "stdout",
          "text": [
            "p-value < 0.001 \t (resolution : 0.001)\n",
            "8\n",
            "test value = 0.15867925225936053\n",
            "Computing the null distribution.\n"
          ]
        },
        {
          "output_type": "stream",
          "name": "stderr",
          "text": [
            "100%|██████████| 1000/1000 [00:11<00:00, 89.61it/s]\n"
          ]
        },
        {
          "output_type": "stream",
          "name": "stdout",
          "text": [
            "p-value < 0.001 \t (resolution : 0.001)\n",
            "9\n",
            "test value = 0.14592147128098354\n",
            "Computing the null distribution.\n"
          ]
        },
        {
          "output_type": "stream",
          "name": "stderr",
          "text": [
            "100%|██████████| 1000/1000 [00:10<00:00, 91.14it/s]\n"
          ]
        },
        {
          "output_type": "stream",
          "name": "stdout",
          "text": [
            "p-value < 0.001 \t (resolution : 0.001)\n",
            "10\n",
            "test value = 0.14791848482430714\n",
            "Computing the null distribution.\n"
          ]
        },
        {
          "output_type": "stream",
          "name": "stderr",
          "text": [
            "100%|██████████| 1000/1000 [00:10<00:00, 91.02it/s]\n"
          ]
        },
        {
          "output_type": "stream",
          "name": "stdout",
          "text": [
            "p-value < 0.001 \t (resolution : 0.001)\n",
            "11\n",
            "test value = 0.18353994908681126\n",
            "Computing the null distribution.\n"
          ]
        },
        {
          "output_type": "stream",
          "name": "stderr",
          "text": [
            "100%|██████████| 1000/1000 [00:10<00:00, 91.92it/s]\n"
          ]
        },
        {
          "output_type": "stream",
          "name": "stdout",
          "text": [
            "p-value < 0.001 \t (resolution : 0.001)\n",
            "12\n",
            "test value = 0.15228721863318628\n",
            "Computing the null distribution.\n"
          ]
        },
        {
          "output_type": "stream",
          "name": "stderr",
          "text": [
            "100%|██████████| 1000/1000 [00:11<00:00, 84.33it/s]\n"
          ]
        },
        {
          "output_type": "stream",
          "name": "stdout",
          "text": [
            "p-value < 0.001 \t (resolution : 0.001)\n",
            "13\n",
            "test value = 0.1515776619355338\n",
            "Computing the null distribution.\n"
          ]
        },
        {
          "output_type": "stream",
          "name": "stderr",
          "text": [
            "100%|██████████| 1000/1000 [00:11<00:00, 88.61it/s]\n"
          ]
        },
        {
          "output_type": "stream",
          "name": "stdout",
          "text": [
            "p-value < 0.001 \t (resolution : 0.001)\n",
            "14\n",
            "test value = 0.15834340054713913\n",
            "Computing the null distribution.\n"
          ]
        },
        {
          "output_type": "stream",
          "name": "stderr",
          "text": [
            "100%|██████████| 1000/1000 [00:11<00:00, 88.73it/s]\n"
          ]
        },
        {
          "output_type": "stream",
          "name": "stdout",
          "text": [
            "p-value < 0.001 \t (resolution : 0.001)\n",
            "15\n",
            "test value = 0.13594660885122933\n",
            "Computing the null distribution.\n"
          ]
        },
        {
          "output_type": "stream",
          "name": "stderr",
          "text": [
            "100%|██████████| 1000/1000 [00:10<00:00, 92.24it/s]\n"
          ]
        },
        {
          "output_type": "stream",
          "name": "stdout",
          "text": [
            "p-value < 0.001 \t (resolution : 0.001)\n",
            "16\n",
            "test value = 0.15700268023652741\n",
            "Computing the null distribution.\n"
          ]
        },
        {
          "output_type": "stream",
          "name": "stderr",
          "text": [
            "100%|██████████| 1000/1000 [00:14<00:00, 66.83it/s]\n"
          ]
        },
        {
          "output_type": "stream",
          "name": "stdout",
          "text": [
            "p-value < 0.001 \t (resolution : 0.001)\n",
            "17\n",
            "test value = 0.17046842628601988\n",
            "Computing the null distribution.\n"
          ]
        },
        {
          "output_type": "stream",
          "name": "stderr",
          "text": [
            "100%|██████████| 1000/1000 [00:11<00:00, 87.97it/s]\n"
          ]
        },
        {
          "output_type": "stream",
          "name": "stdout",
          "text": [
            "p-value < 0.001 \t (resolution : 0.001)\n",
            "18\n",
            "test value = 0.168964094634261\n",
            "Computing the null distribution.\n"
          ]
        },
        {
          "output_type": "stream",
          "name": "stderr",
          "text": [
            "100%|██████████| 1000/1000 [00:11<00:00, 89.11it/s]\n"
          ]
        },
        {
          "output_type": "stream",
          "name": "stdout",
          "text": [
            "p-value < 0.001 \t (resolution : 0.001)\n",
            "19\n",
            "test value = 0.1401475467375839\n",
            "Computing the null distribution.\n"
          ]
        },
        {
          "output_type": "stream",
          "name": "stderr",
          "text": [
            "100%|██████████| 1000/1000 [00:20<00:00, 48.06it/s]\n"
          ]
        },
        {
          "output_type": "stream",
          "name": "stdout",
          "text": [
            "p-value < 0.001 \t (resolution : 0.001)\n",
            "0\n",
            "test value = 0.1621400263929993\n",
            "Computing the null distribution.\n"
          ]
        },
        {
          "output_type": "stream",
          "name": "stderr",
          "text": [
            "100%|██████████| 1000/1000 [00:20<00:00, 48.96it/s]\n"
          ]
        },
        {
          "output_type": "stream",
          "name": "stdout",
          "text": [
            "p-value < 0.001 \t (resolution : 0.001)\n",
            "1\n",
            "test value = 0.18068593646887154\n",
            "Computing the null distribution.\n"
          ]
        },
        {
          "output_type": "stream",
          "name": "stderr",
          "text": [
            "100%|██████████| 1000/1000 [00:20<00:00, 48.61it/s]\n"
          ]
        },
        {
          "output_type": "stream",
          "name": "stdout",
          "text": [
            "p-value < 0.001 \t (resolution : 0.001)\n",
            "2\n",
            "test value = 0.14213151953877934\n",
            "Computing the null distribution.\n"
          ]
        },
        {
          "output_type": "stream",
          "name": "stderr",
          "text": [
            "100%|██████████| 1000/1000 [00:20<00:00, 49.41it/s]\n"
          ]
        },
        {
          "output_type": "stream",
          "name": "stdout",
          "text": [
            "p-value < 0.001 \t (resolution : 0.001)\n",
            "3\n",
            "test value = 0.1597536127287591\n",
            "Computing the null distribution.\n"
          ]
        },
        {
          "output_type": "stream",
          "name": "stderr",
          "text": [
            "100%|██████████| 1000/1000 [00:20<00:00, 49.60it/s]\n"
          ]
        },
        {
          "output_type": "stream",
          "name": "stdout",
          "text": [
            "p-value < 0.001 \t (resolution : 0.001)\n",
            "4\n",
            "test value = 0.1618847198169715\n",
            "Computing the null distribution.\n"
          ]
        },
        {
          "output_type": "stream",
          "name": "stderr",
          "text": [
            "100%|██████████| 1000/1000 [00:20<00:00, 47.84it/s]\n"
          ]
        },
        {
          "output_type": "stream",
          "name": "stdout",
          "text": [
            "p-value < 0.001 \t (resolution : 0.001)\n",
            "5\n",
            "test value = 0.14644290991838926\n",
            "Computing the null distribution.\n"
          ]
        },
        {
          "output_type": "stream",
          "name": "stderr",
          "text": [
            "100%|██████████| 1000/1000 [00:20<00:00, 49.29it/s]\n"
          ]
        },
        {
          "output_type": "stream",
          "name": "stdout",
          "text": [
            "p-value < 0.001 \t (resolution : 0.001)\n",
            "6\n",
            "test value = 0.15288146795558744\n",
            "Computing the null distribution.\n"
          ]
        },
        {
          "output_type": "stream",
          "name": "stderr",
          "text": [
            "100%|██████████| 1000/1000 [00:20<00:00, 47.92it/s]\n"
          ]
        },
        {
          "output_type": "stream",
          "name": "stdout",
          "text": [
            "p-value < 0.001 \t (resolution : 0.001)\n",
            "7\n",
            "test value = 0.1645249242130613\n",
            "Computing the null distribution.\n"
          ]
        },
        {
          "output_type": "stream",
          "name": "stderr",
          "text": [
            "100%|██████████| 1000/1000 [00:21<00:00, 46.34it/s]\n"
          ]
        },
        {
          "output_type": "stream",
          "name": "stdout",
          "text": [
            "p-value < 0.001 \t (resolution : 0.001)\n",
            "8\n",
            "test value = 0.15682875591259227\n",
            "Computing the null distribution.\n"
          ]
        },
        {
          "output_type": "stream",
          "name": "stderr",
          "text": [
            "100%|██████████| 1000/1000 [00:21<00:00, 47.43it/s]\n"
          ]
        },
        {
          "output_type": "stream",
          "name": "stdout",
          "text": [
            "p-value < 0.001 \t (resolution : 0.001)\n",
            "9\n",
            "test value = 0.12828245292994933\n",
            "Computing the null distribution.\n"
          ]
        },
        {
          "output_type": "stream",
          "name": "stderr",
          "text": [
            "100%|██████████| 1000/1000 [00:20<00:00, 47.72it/s]\n"
          ]
        },
        {
          "output_type": "stream",
          "name": "stdout",
          "text": [
            "p-value < 0.001 \t (resolution : 0.001)\n",
            "10\n",
            "test value = 0.15291884179404702\n",
            "Computing the null distribution.\n"
          ]
        },
        {
          "output_type": "stream",
          "name": "stderr",
          "text": [
            "100%|██████████| 1000/1000 [00:20<00:00, 48.47it/s]\n"
          ]
        },
        {
          "output_type": "stream",
          "name": "stdout",
          "text": [
            "p-value < 0.001 \t (resolution : 0.001)\n",
            "11\n",
            "test value = 0.14453074101138474\n",
            "Computing the null distribution.\n"
          ]
        },
        {
          "output_type": "stream",
          "name": "stderr",
          "text": [
            "100%|██████████| 1000/1000 [00:20<00:00, 48.80it/s]\n"
          ]
        },
        {
          "output_type": "stream",
          "name": "stdout",
          "text": [
            "p-value < 0.001 \t (resolution : 0.001)\n",
            "12\n",
            "test value = 0.15412744027720704\n",
            "Computing the null distribution.\n"
          ]
        },
        {
          "output_type": "stream",
          "name": "stderr",
          "text": [
            "100%|██████████| 1000/1000 [00:24<00:00, 40.91it/s]\n"
          ]
        },
        {
          "output_type": "stream",
          "name": "stdout",
          "text": [
            "p-value < 0.001 \t (resolution : 0.001)\n",
            "13\n",
            "test value = 0.16248703235377615\n",
            "Computing the null distribution.\n"
          ]
        },
        {
          "output_type": "stream",
          "name": "stderr",
          "text": [
            "100%|██████████| 1000/1000 [00:20<00:00, 47.73it/s]\n"
          ]
        },
        {
          "output_type": "stream",
          "name": "stdout",
          "text": [
            "p-value < 0.001 \t (resolution : 0.001)\n",
            "14\n",
            "test value = 0.191509966725399\n",
            "Computing the null distribution.\n"
          ]
        },
        {
          "output_type": "stream",
          "name": "stderr",
          "text": [
            "100%|██████████| 1000/1000 [00:20<00:00, 48.99it/s]\n"
          ]
        },
        {
          "output_type": "stream",
          "name": "stdout",
          "text": [
            "p-value < 0.001 \t (resolution : 0.001)\n",
            "15\n",
            "test value = 0.14534930786728228\n",
            "Computing the null distribution.\n"
          ]
        },
        {
          "output_type": "stream",
          "name": "stderr",
          "text": [
            "100%|██████████| 1000/1000 [00:19<00:00, 50.85it/s]\n"
          ]
        },
        {
          "output_type": "stream",
          "name": "stdout",
          "text": [
            "p-value < 0.001 \t (resolution : 0.001)\n",
            "16\n",
            "test value = 0.16424093261397688\n",
            "Computing the null distribution.\n"
          ]
        },
        {
          "output_type": "stream",
          "name": "stderr",
          "text": [
            "100%|██████████| 1000/1000 [00:20<00:00, 48.80it/s]\n"
          ]
        },
        {
          "output_type": "stream",
          "name": "stdout",
          "text": [
            "p-value < 0.001 \t (resolution : 0.001)\n",
            "17\n",
            "test value = 0.17738208000655864\n",
            "Computing the null distribution.\n"
          ]
        },
        {
          "output_type": "stream",
          "name": "stderr",
          "text": [
            "100%|██████████| 1000/1000 [00:20<00:00, 49.38it/s]\n"
          ]
        },
        {
          "output_type": "stream",
          "name": "stdout",
          "text": [
            "p-value < 0.001 \t (resolution : 0.001)\n",
            "18\n",
            "test value = 0.15283786478002215\n",
            "Computing the null distribution.\n"
          ]
        },
        {
          "output_type": "stream",
          "name": "stderr",
          "text": [
            "100%|██████████| 1000/1000 [00:19<00:00, 50.62it/s]\n"
          ]
        },
        {
          "output_type": "stream",
          "name": "stdout",
          "text": [
            "p-value < 0.001 \t (resolution : 0.001)\n",
            "19\n",
            "test value = 0.15333482126465547\n",
            "Computing the null distribution.\n"
          ]
        },
        {
          "output_type": "stream",
          "name": "stderr",
          "text": [
            "100%|██████████| 1000/1000 [00:33<00:00, 30.07it/s]\n"
          ]
        },
        {
          "output_type": "stream",
          "name": "stdout",
          "text": [
            "p-value < 0.001 \t (resolution : 0.001)\n",
            "0\n",
            "test value = 0.15714633830854718\n",
            "Computing the null distribution.\n"
          ]
        },
        {
          "output_type": "stream",
          "name": "stderr",
          "text": [
            "100%|██████████| 1000/1000 [00:33<00:00, 30.30it/s]\n"
          ]
        },
        {
          "output_type": "stream",
          "name": "stdout",
          "text": [
            "p-value < 0.001 \t (resolution : 0.001)\n",
            "1\n",
            "test value = 0.16520864812534786\n",
            "Computing the null distribution.\n"
          ]
        },
        {
          "output_type": "stream",
          "name": "stderr",
          "text": [
            "100%|██████████| 1000/1000 [00:32<00:00, 30.64it/s]\n"
          ]
        },
        {
          "output_type": "stream",
          "name": "stdout",
          "text": [
            "p-value < 0.001 \t (resolution : 0.001)\n",
            "2\n",
            "test value = 0.16915959185680496\n",
            "Computing the null distribution.\n"
          ]
        },
        {
          "output_type": "stream",
          "name": "stderr",
          "text": [
            "100%|██████████| 1000/1000 [00:33<00:00, 30.26it/s]\n"
          ]
        },
        {
          "output_type": "stream",
          "name": "stdout",
          "text": [
            "p-value < 0.001 \t (resolution : 0.001)\n",
            "3\n",
            "test value = 0.1777232421535948\n",
            "Computing the null distribution.\n"
          ]
        },
        {
          "output_type": "stream",
          "name": "stderr",
          "text": [
            "100%|██████████| 1000/1000 [00:32<00:00, 30.53it/s]\n"
          ]
        },
        {
          "output_type": "stream",
          "name": "stdout",
          "text": [
            "p-value < 0.001 \t (resolution : 0.001)\n",
            "4\n",
            "test value = 0.18666700497300726\n",
            "Computing the null distribution.\n"
          ]
        },
        {
          "output_type": "stream",
          "name": "stderr",
          "text": [
            "100%|██████████| 1000/1000 [00:36<00:00, 27.33it/s]\n"
          ]
        },
        {
          "output_type": "stream",
          "name": "stdout",
          "text": [
            "p-value < 0.001 \t (resolution : 0.001)\n",
            "5\n",
            "test value = 0.1642495621831217\n",
            "Computing the null distribution.\n"
          ]
        },
        {
          "output_type": "stream",
          "name": "stderr",
          "text": [
            "100%|██████████| 1000/1000 [00:32<00:00, 30.31it/s]\n"
          ]
        },
        {
          "output_type": "stream",
          "name": "stdout",
          "text": [
            "p-value < 0.001 \t (resolution : 0.001)\n",
            "6\n",
            "test value = 0.1571656272783195\n",
            "Computing the null distribution.\n"
          ]
        },
        {
          "output_type": "stream",
          "name": "stderr",
          "text": [
            "100%|██████████| 1000/1000 [00:33<00:00, 29.86it/s]\n"
          ]
        },
        {
          "output_type": "stream",
          "name": "stdout",
          "text": [
            "p-value < 0.001 \t (resolution : 0.001)\n",
            "7\n",
            "test value = 0.16553464233446324\n",
            "Computing the null distribution.\n"
          ]
        },
        {
          "output_type": "stream",
          "name": "stderr",
          "text": [
            "100%|██████████| 1000/1000 [00:32<00:00, 30.47it/s]\n"
          ]
        },
        {
          "output_type": "stream",
          "name": "stdout",
          "text": [
            "p-value < 0.001 \t (resolution : 0.001)\n",
            "8\n",
            "test value = 0.17406309120010643\n",
            "Computing the null distribution.\n"
          ]
        },
        {
          "output_type": "stream",
          "name": "stderr",
          "text": [
            "100%|██████████| 1000/1000 [00:33<00:00, 30.07it/s]\n"
          ]
        },
        {
          "output_type": "stream",
          "name": "stdout",
          "text": [
            "p-value < 0.001 \t (resolution : 0.001)\n",
            "9\n",
            "test value = 0.1530456179429538\n",
            "Computing the null distribution.\n"
          ]
        },
        {
          "output_type": "stream",
          "name": "stderr",
          "text": [
            "100%|██████████| 1000/1000 [00:32<00:00, 30.56it/s]\n"
          ]
        },
        {
          "output_type": "stream",
          "name": "stdout",
          "text": [
            "p-value < 0.001 \t (resolution : 0.001)\n",
            "10\n",
            "test value = 0.16346892481040487\n",
            "Computing the null distribution.\n"
          ]
        },
        {
          "output_type": "stream",
          "name": "stderr",
          "text": [
            "100%|██████████| 1000/1000 [00:31<00:00, 31.27it/s]\n"
          ]
        },
        {
          "output_type": "stream",
          "name": "stdout",
          "text": [
            "p-value < 0.001 \t (resolution : 0.001)\n",
            "11\n",
            "test value = 0.18852181069918528\n",
            "Computing the null distribution.\n"
          ]
        },
        {
          "output_type": "stream",
          "name": "stderr",
          "text": [
            "100%|██████████| 1000/1000 [00:32<00:00, 30.93it/s]\n"
          ]
        },
        {
          "output_type": "stream",
          "name": "stdout",
          "text": [
            "p-value < 0.001 \t (resolution : 0.001)\n",
            "12\n",
            "test value = 0.1784748306623316\n",
            "Computing the null distribution.\n"
          ]
        },
        {
          "output_type": "stream",
          "name": "stderr",
          "text": [
            "100%|██████████| 1000/1000 [00:31<00:00, 32.07it/s]\n"
          ]
        },
        {
          "output_type": "stream",
          "name": "stdout",
          "text": [
            "p-value < 0.001 \t (resolution : 0.001)\n",
            "13\n",
            "test value = 0.1553943812817582\n",
            "Computing the null distribution.\n"
          ]
        },
        {
          "output_type": "stream",
          "name": "stderr",
          "text": [
            "100%|██████████| 1000/1000 [00:34<00:00, 28.74it/s]\n"
          ]
        },
        {
          "output_type": "stream",
          "name": "stdout",
          "text": [
            "p-value < 0.001 \t (resolution : 0.001)\n",
            "14\n",
            "test value = 0.184558395268694\n",
            "Computing the null distribution.\n"
          ]
        },
        {
          "output_type": "stream",
          "name": "stderr",
          "text": [
            "100%|██████████| 1000/1000 [00:30<00:00, 32.52it/s]\n"
          ]
        },
        {
          "output_type": "stream",
          "name": "stdout",
          "text": [
            "p-value < 0.001 \t (resolution : 0.001)\n",
            "15\n",
            "test value = 0.1562151369767042\n",
            "Computing the null distribution.\n"
          ]
        },
        {
          "output_type": "stream",
          "name": "stderr",
          "text": [
            "100%|██████████| 1000/1000 [00:31<00:00, 32.16it/s]\n"
          ]
        },
        {
          "output_type": "stream",
          "name": "stdout",
          "text": [
            "p-value < 0.001 \t (resolution : 0.001)\n",
            "16\n",
            "test value = 0.1558850065036974\n",
            "Computing the null distribution.\n"
          ]
        },
        {
          "output_type": "stream",
          "name": "stderr",
          "text": [
            "100%|██████████| 1000/1000 [00:31<00:00, 31.87it/s]\n"
          ]
        },
        {
          "output_type": "stream",
          "name": "stdout",
          "text": [
            "p-value < 0.001 \t (resolution : 0.001)\n",
            "17\n",
            "test value = 0.14233135119903118\n",
            "Computing the null distribution.\n"
          ]
        },
        {
          "output_type": "stream",
          "name": "stderr",
          "text": [
            "100%|██████████| 1000/1000 [00:31<00:00, 32.18it/s]\n"
          ]
        },
        {
          "output_type": "stream",
          "name": "stdout",
          "text": [
            "p-value < 0.001 \t (resolution : 0.001)\n",
            "18\n",
            "test value = 0.1424159865915675\n",
            "Computing the null distribution.\n"
          ]
        },
        {
          "output_type": "stream",
          "name": "stderr",
          "text": [
            "100%|██████████| 1000/1000 [00:31<00:00, 32.09it/s]\n"
          ]
        },
        {
          "output_type": "stream",
          "name": "stdout",
          "text": [
            "p-value < 0.001 \t (resolution : 0.001)\n",
            "19\n",
            "test value = 0.15125490580026768\n",
            "Computing the null distribution.\n"
          ]
        },
        {
          "output_type": "stream",
          "name": "stderr",
          "text": [
            "100%|██████████| 1000/1000 [00:47<00:00, 20.92it/s]\n"
          ]
        },
        {
          "output_type": "stream",
          "name": "stdout",
          "text": [
            "p-value < 0.001 \t (resolution : 0.001)\n",
            "0\n",
            "test value = 0.16672824733474356\n",
            "Computing the null distribution.\n"
          ]
        },
        {
          "output_type": "stream",
          "name": "stderr",
          "text": [
            "100%|██████████| 1000/1000 [00:47<00:00, 20.92it/s]\n"
          ]
        },
        {
          "output_type": "stream",
          "name": "stdout",
          "text": [
            "p-value < 0.001 \t (resolution : 0.001)\n",
            "1\n",
            "test value = 0.15133978749546606\n",
            "Computing the null distribution.\n"
          ]
        },
        {
          "output_type": "stream",
          "name": "stderr",
          "text": [
            "100%|██████████| 1000/1000 [00:51<00:00, 19.56it/s]\n"
          ]
        },
        {
          "output_type": "stream",
          "name": "stdout",
          "text": [
            "p-value < 0.001 \t (resolution : 0.001)\n",
            "2\n",
            "test value = 0.1757015170109395\n",
            "Computing the null distribution.\n"
          ]
        },
        {
          "output_type": "stream",
          "name": "stderr",
          "text": [
            "100%|██████████| 1000/1000 [00:47<00:00, 21.01it/s]\n"
          ]
        },
        {
          "output_type": "stream",
          "name": "stdout",
          "text": [
            "p-value < 0.001 \t (resolution : 0.001)\n",
            "3\n",
            "test value = 0.18031879175776266\n",
            "Computing the null distribution.\n"
          ]
        },
        {
          "output_type": "stream",
          "name": "stderr",
          "text": [
            "100%|██████████| 1000/1000 [00:47<00:00, 21.10it/s]\n"
          ]
        },
        {
          "output_type": "stream",
          "name": "stdout",
          "text": [
            "p-value < 0.001 \t (resolution : 0.001)\n",
            "4\n",
            "test value = 0.16082327154037523\n",
            "Computing the null distribution.\n"
          ]
        },
        {
          "output_type": "stream",
          "name": "stderr",
          "text": [
            "100%|██████████| 1000/1000 [00:47<00:00, 21.24it/s]\n"
          ]
        },
        {
          "output_type": "stream",
          "name": "stdout",
          "text": [
            "p-value < 0.001 \t (resolution : 0.001)\n",
            "5\n",
            "test value = 0.17735421305030896\n",
            "Computing the null distribution.\n"
          ]
        },
        {
          "output_type": "stream",
          "name": "stderr",
          "text": [
            "100%|██████████| 1000/1000 [00:47<00:00, 21.24it/s]\n"
          ]
        },
        {
          "output_type": "stream",
          "name": "stdout",
          "text": [
            "p-value < 0.001 \t (resolution : 0.001)\n",
            "6\n",
            "test value = 0.18052919876525464\n",
            "Computing the null distribution.\n"
          ]
        },
        {
          "output_type": "stream",
          "name": "stderr",
          "text": [
            "100%|██████████| 1000/1000 [00:46<00:00, 21.40it/s]\n"
          ]
        },
        {
          "output_type": "stream",
          "name": "stdout",
          "text": [
            "p-value < 0.001 \t (resolution : 0.001)\n",
            "7\n",
            "test value = 0.17462499761076145\n",
            "Computing the null distribution.\n"
          ]
        },
        {
          "output_type": "stream",
          "name": "stderr",
          "text": [
            "100%|██████████| 1000/1000 [00:47<00:00, 20.97it/s]\n"
          ]
        },
        {
          "output_type": "stream",
          "name": "stdout",
          "text": [
            "p-value < 0.001 \t (resolution : 0.001)\n",
            "8\n",
            "test value = 0.16881904600635078\n",
            "Computing the null distribution.\n"
          ]
        },
        {
          "output_type": "stream",
          "name": "stderr",
          "text": [
            "100%|██████████| 1000/1000 [00:51<00:00, 19.50it/s]\n"
          ]
        },
        {
          "output_type": "stream",
          "name": "stdout",
          "text": [
            "p-value < 0.001 \t (resolution : 0.001)\n",
            "9\n",
            "test value = 0.15625572766781626\n",
            "Computing the null distribution.\n"
          ]
        },
        {
          "output_type": "stream",
          "name": "stderr",
          "text": [
            "100%|██████████| 1000/1000 [00:47<00:00, 21.04it/s]\n"
          ]
        },
        {
          "output_type": "stream",
          "name": "stdout",
          "text": [
            "p-value < 0.001 \t (resolution : 0.001)\n",
            "10\n",
            "test value = 0.1711079171804306\n",
            "Computing the null distribution.\n"
          ]
        },
        {
          "output_type": "stream",
          "name": "stderr",
          "text": [
            "100%|██████████| 1000/1000 [00:47<00:00, 21.19it/s]\n"
          ]
        },
        {
          "output_type": "stream",
          "name": "stdout",
          "text": [
            "p-value < 0.001 \t (resolution : 0.001)\n",
            "11\n",
            "test value = 0.16132885549167097\n",
            "Computing the null distribution.\n"
          ]
        },
        {
          "output_type": "stream",
          "name": "stderr",
          "text": [
            "100%|██████████| 1000/1000 [00:47<00:00, 21.09it/s]\n"
          ]
        },
        {
          "output_type": "stream",
          "name": "stdout",
          "text": [
            "p-value < 0.001 \t (resolution : 0.001)\n",
            "12\n",
            "test value = 0.1507139715470076\n",
            "Computing the null distribution.\n"
          ]
        },
        {
          "output_type": "stream",
          "name": "stderr",
          "text": [
            "100%|██████████| 1000/1000 [00:47<00:00, 20.90it/s]\n"
          ]
        },
        {
          "output_type": "stream",
          "name": "stdout",
          "text": [
            "p-value < 0.001 \t (resolution : 0.001)\n",
            "13\n",
            "test value = 0.1323049511718244\n",
            "Computing the null distribution.\n"
          ]
        },
        {
          "output_type": "stream",
          "name": "stderr",
          "text": [
            "100%|██████████| 1000/1000 [00:47<00:00, 21.08it/s]\n"
          ]
        },
        {
          "output_type": "stream",
          "name": "stdout",
          "text": [
            "p-value < 0.001 \t (resolution : 0.001)\n",
            "14\n",
            "test value = 0.15914441131324808\n",
            "Computing the null distribution.\n"
          ]
        },
        {
          "output_type": "stream",
          "name": "stderr",
          "text": [
            "100%|██████████| 1000/1000 [00:50<00:00, 19.93it/s]\n"
          ]
        },
        {
          "output_type": "stream",
          "name": "stdout",
          "text": [
            "p-value < 0.001 \t (resolution : 0.001)\n",
            "15\n",
            "test value = 0.16650271443598297\n",
            "Computing the null distribution.\n"
          ]
        },
        {
          "output_type": "stream",
          "name": "stderr",
          "text": [
            "100%|██████████| 1000/1000 [00:46<00:00, 21.30it/s]\n"
          ]
        },
        {
          "output_type": "stream",
          "name": "stdout",
          "text": [
            "p-value < 0.001 \t (resolution : 0.001)\n",
            "16\n",
            "test value = 0.16523377113272852\n",
            "Computing the null distribution.\n"
          ]
        },
        {
          "output_type": "stream",
          "name": "stderr",
          "text": [
            "100%|██████████| 1000/1000 [00:46<00:00, 21.29it/s]\n"
          ]
        },
        {
          "output_type": "stream",
          "name": "stdout",
          "text": [
            "p-value < 0.001 \t (resolution : 0.001)\n",
            "17\n",
            "test value = 0.16528799217382573\n",
            "Computing the null distribution.\n"
          ]
        },
        {
          "output_type": "stream",
          "name": "stderr",
          "text": [
            "100%|██████████| 1000/1000 [00:47<00:00, 21.07it/s]\n"
          ]
        },
        {
          "output_type": "stream",
          "name": "stdout",
          "text": [
            "p-value < 0.001 \t (resolution : 0.001)\n",
            "18\n",
            "test value = 0.1529745789729544\n",
            "Computing the null distribution.\n"
          ]
        },
        {
          "output_type": "stream",
          "name": "stderr",
          "text": [
            "100%|██████████| 1000/1000 [00:49<00:00, 20.09it/s]\n"
          ]
        },
        {
          "output_type": "stream",
          "name": "stdout",
          "text": [
            "p-value < 0.001 \t (resolution : 0.001)\n",
            "19\n",
            "test value = 0.18198069609484024\n",
            "Computing the null distribution.\n"
          ]
        },
        {
          "output_type": "stream",
          "name": "stderr",
          "text": [
            "100%|██████████| 1000/1000 [01:04<00:00, 15.62it/s]\n"
          ]
        },
        {
          "output_type": "stream",
          "name": "stdout",
          "text": [
            "p-value < 0.001 \t (resolution : 0.001)\n",
            "0\n",
            "test value = 0.16621733721609533\n",
            "Computing the null distribution.\n"
          ]
        },
        {
          "output_type": "stream",
          "name": "stderr",
          "text": [
            "100%|██████████| 1000/1000 [01:06<00:00, 14.95it/s]\n"
          ]
        },
        {
          "output_type": "stream",
          "name": "stdout",
          "text": [
            "p-value < 0.001 \t (resolution : 0.001)\n",
            "1\n",
            "test value = 0.16191890306200096\n",
            "Computing the null distribution.\n"
          ]
        },
        {
          "output_type": "stream",
          "name": "stderr",
          "text": [
            "100%|██████████| 1000/1000 [01:03<00:00, 15.80it/s]\n"
          ]
        },
        {
          "output_type": "stream",
          "name": "stdout",
          "text": [
            "p-value < 0.001 \t (resolution : 0.001)\n",
            "2\n",
            "test value = 0.17891345212990073\n",
            "Computing the null distribution.\n"
          ]
        },
        {
          "output_type": "stream",
          "name": "stderr",
          "text": [
            "100%|██████████| 1000/1000 [01:03<00:00, 15.87it/s]\n"
          ]
        },
        {
          "output_type": "stream",
          "name": "stdout",
          "text": [
            "p-value < 0.001 \t (resolution : 0.001)\n",
            "3\n",
            "test value = 0.16418261559399805\n",
            "Computing the null distribution.\n"
          ]
        },
        {
          "output_type": "stream",
          "name": "stderr",
          "text": [
            "100%|██████████| 1000/1000 [01:02<00:00, 15.92it/s]\n"
          ]
        },
        {
          "output_type": "stream",
          "name": "stdout",
          "text": [
            "p-value < 0.001 \t (resolution : 0.001)\n",
            "4\n",
            "test value = 0.1602720457047102\n",
            "Computing the null distribution.\n"
          ]
        },
        {
          "output_type": "stream",
          "name": "stderr",
          "text": [
            "100%|██████████| 1000/1000 [01:03<00:00, 15.65it/s]\n"
          ]
        },
        {
          "output_type": "stream",
          "name": "stdout",
          "text": [
            "p-value < 0.001 \t (resolution : 0.001)\n",
            "5\n",
            "test value = 0.15407022055244446\n",
            "Computing the null distribution.\n"
          ]
        },
        {
          "output_type": "stream",
          "name": "stderr",
          "text": [
            "100%|██████████| 1000/1000 [01:06<00:00, 15.00it/s]\n"
          ]
        },
        {
          "output_type": "stream",
          "name": "stdout",
          "text": [
            "p-value < 0.001 \t (resolution : 0.001)\n",
            "6\n",
            "test value = 0.14750723771498664\n",
            "Computing the null distribution.\n"
          ]
        },
        {
          "output_type": "stream",
          "name": "stderr",
          "text": [
            "100%|██████████| 1000/1000 [01:03<00:00, 15.81it/s]\n"
          ]
        },
        {
          "output_type": "stream",
          "name": "stdout",
          "text": [
            "p-value < 0.001 \t (resolution : 0.001)\n",
            "7\n",
            "test value = 0.15431307703290797\n",
            "Computing the null distribution.\n"
          ]
        },
        {
          "output_type": "stream",
          "name": "stderr",
          "text": [
            "100%|██████████| 1000/1000 [01:03<00:00, 15.81it/s]\n"
          ]
        },
        {
          "output_type": "stream",
          "name": "stdout",
          "text": [
            "p-value < 0.001 \t (resolution : 0.001)\n",
            "8\n",
            "test value = 0.1617620976996068\n",
            "Computing the null distribution.\n"
          ]
        },
        {
          "output_type": "stream",
          "name": "stderr",
          "text": [
            "100%|██████████| 1000/1000 [01:03<00:00, 15.85it/s]\n"
          ]
        },
        {
          "output_type": "stream",
          "name": "stdout",
          "text": [
            "p-value < 0.001 \t (resolution : 0.001)\n",
            "9\n",
            "test value = 0.1810143986328434\n",
            "Computing the null distribution.\n"
          ]
        },
        {
          "output_type": "stream",
          "name": "stderr",
          "text": [
            "100%|██████████| 1000/1000 [01:06<00:00, 15.13it/s]\n"
          ]
        },
        {
          "output_type": "stream",
          "name": "stdout",
          "text": [
            "p-value < 0.001 \t (resolution : 0.001)\n",
            "10\n",
            "test value = 0.16233349744591097\n",
            "Computing the null distribution.\n"
          ]
        },
        {
          "output_type": "stream",
          "name": "stderr",
          "text": [
            "100%|██████████| 1000/1000 [01:02<00:00, 16.02it/s]\n"
          ]
        },
        {
          "output_type": "stream",
          "name": "stdout",
          "text": [
            "p-value < 0.001 \t (resolution : 0.001)\n",
            "11\n",
            "test value = 0.17164428347376193\n",
            "Computing the null distribution.\n"
          ]
        },
        {
          "output_type": "stream",
          "name": "stderr",
          "text": [
            "100%|██████████| 1000/1000 [01:02<00:00, 16.03it/s]\n"
          ]
        },
        {
          "output_type": "stream",
          "name": "stdout",
          "text": [
            "p-value < 0.001 \t (resolution : 0.001)\n",
            "12\n",
            "test value = 0.13002964100409398\n",
            "Computing the null distribution.\n"
          ]
        },
        {
          "output_type": "stream",
          "name": "stderr",
          "text": [
            "100%|██████████| 1000/1000 [01:02<00:00, 16.03it/s]\n"
          ]
        },
        {
          "output_type": "stream",
          "name": "stdout",
          "text": [
            "p-value < 0.001 \t (resolution : 0.001)\n",
            "13\n",
            "test value = 0.15118224308677863\n",
            "Computing the null distribution.\n"
          ]
        },
        {
          "output_type": "stream",
          "name": "stderr",
          "text": [
            "100%|██████████| 1000/1000 [01:02<00:00, 15.91it/s]\n"
          ]
        },
        {
          "output_type": "stream",
          "name": "stdout",
          "text": [
            "p-value < 0.001 \t (resolution : 0.001)\n",
            "14\n",
            "test value = 0.16885622403590572\n",
            "Computing the null distribution.\n"
          ]
        },
        {
          "output_type": "stream",
          "name": "stderr",
          "text": [
            "100%|██████████| 1000/1000 [01:06<00:00, 15.05it/s]\n"
          ]
        },
        {
          "output_type": "stream",
          "name": "stdout",
          "text": [
            "p-value < 0.001 \t (resolution : 0.001)\n",
            "15\n",
            "test value = 0.17278229082379482\n",
            "Computing the null distribution.\n"
          ]
        },
        {
          "output_type": "stream",
          "name": "stderr",
          "text": [
            "100%|██████████| 1000/1000 [01:03<00:00, 15.86it/s]\n"
          ]
        },
        {
          "output_type": "stream",
          "name": "stdout",
          "text": [
            "p-value < 0.001 \t (resolution : 0.001)\n",
            "16\n",
            "test value = 0.1752297406110761\n",
            "Computing the null distribution.\n"
          ]
        },
        {
          "output_type": "stream",
          "name": "stderr",
          "text": [
            "100%|██████████| 1000/1000 [01:02<00:00, 15.88it/s]\n"
          ]
        },
        {
          "output_type": "stream",
          "name": "stdout",
          "text": [
            "p-value < 0.001 \t (resolution : 0.001)\n",
            "17\n",
            "test value = 0.16108393099948537\n",
            "Computing the null distribution.\n"
          ]
        },
        {
          "output_type": "stream",
          "name": "stderr",
          "text": [
            "100%|██████████| 1000/1000 [01:03<00:00, 15.72it/s]\n"
          ]
        },
        {
          "output_type": "stream",
          "name": "stdout",
          "text": [
            "p-value < 0.001 \t (resolution : 0.001)\n",
            "18\n",
            "test value = 0.15398865094890146\n",
            "Computing the null distribution.\n"
          ]
        },
        {
          "output_type": "stream",
          "name": "stderr",
          "text": [
            "100%|██████████| 1000/1000 [01:03<00:00, 15.64it/s]\n"
          ]
        },
        {
          "output_type": "stream",
          "name": "stdout",
          "text": [
            "p-value < 0.001 \t (resolution : 0.001)\n",
            "19\n",
            "test value = 0.17089327472316795\n",
            "Computing the null distribution.\n"
          ]
        },
        {
          "output_type": "stream",
          "name": "stderr",
          "text": [
            "100%|██████████| 1000/1000 [01:26<00:00, 11.52it/s]\n"
          ]
        },
        {
          "output_type": "stream",
          "name": "stdout",
          "text": [
            "p-value < 0.001 \t (resolution : 0.001)\n",
            "0\n",
            "test value = 0.1477650020577157\n",
            "Computing the null distribution.\n"
          ]
        },
        {
          "output_type": "stream",
          "name": "stderr",
          "text": [
            "100%|██████████| 1000/1000 [01:23<00:00, 12.02it/s]\n"
          ]
        },
        {
          "output_type": "stream",
          "name": "stdout",
          "text": [
            "p-value < 0.001 \t (resolution : 0.001)\n",
            "1\n",
            "test value = 0.1561395045215508\n",
            "Computing the null distribution.\n"
          ]
        },
        {
          "output_type": "stream",
          "name": "stderr",
          "text": [
            "100%|██████████| 1000/1000 [01:22<00:00, 12.17it/s]\n"
          ]
        },
        {
          "output_type": "stream",
          "name": "stdout",
          "text": [
            "p-value < 0.001 \t (resolution : 0.001)\n",
            "2\n",
            "test value = 0.1487641887129334\n",
            "Computing the null distribution.\n"
          ]
        },
        {
          "output_type": "stream",
          "name": "stderr",
          "text": [
            "100%|██████████| 1000/1000 [01:25<00:00, 11.73it/s]\n"
          ]
        },
        {
          "output_type": "stream",
          "name": "stdout",
          "text": [
            "p-value < 0.001 \t (resolution : 0.001)\n",
            "3\n",
            "test value = 0.1487770762427314\n",
            "Computing the null distribution.\n"
          ]
        },
        {
          "output_type": "stream",
          "name": "stderr",
          "text": [
            "100%|██████████| 1000/1000 [01:21<00:00, 12.28it/s]\n"
          ]
        },
        {
          "output_type": "stream",
          "name": "stdout",
          "text": [
            "p-value < 0.001 \t (resolution : 0.001)\n",
            "4\n",
            "test value = 0.16992337442320693\n",
            "Computing the null distribution.\n"
          ]
        },
        {
          "output_type": "stream",
          "name": "stderr",
          "text": [
            "100%|██████████| 1000/1000 [01:21<00:00, 12.23it/s]\n"
          ]
        },
        {
          "output_type": "stream",
          "name": "stdout",
          "text": [
            "p-value < 0.001 \t (resolution : 0.001)\n",
            "5\n",
            "test value = 0.15670525756710685\n",
            "Computing the null distribution.\n"
          ]
        },
        {
          "output_type": "stream",
          "name": "stderr",
          "text": [
            "100%|██████████| 1000/1000 [01:22<00:00, 12.19it/s]\n"
          ]
        },
        {
          "output_type": "stream",
          "name": "stdout",
          "text": [
            "p-value < 0.001 \t (resolution : 0.001)\n",
            "6\n",
            "test value = 0.14337371172503044\n",
            "Computing the null distribution.\n"
          ]
        },
        {
          "output_type": "stream",
          "name": "stderr",
          "text": [
            "100%|██████████| 1000/1000 [01:25<00:00, 11.65it/s]\n"
          ]
        },
        {
          "output_type": "stream",
          "name": "stdout",
          "text": [
            "p-value < 0.001 \t (resolution : 0.001)\n",
            "7\n",
            "test value = 0.15369029121523514\n",
            "Computing the null distribution.\n"
          ]
        },
        {
          "output_type": "stream",
          "name": "stderr",
          "text": [
            "100%|██████████| 1000/1000 [01:22<00:00, 12.18it/s]\n"
          ]
        },
        {
          "output_type": "stream",
          "name": "stdout",
          "text": [
            "p-value < 0.001 \t (resolution : 0.001)\n",
            "8\n",
            "test value = 0.1556573367526899\n",
            "Computing the null distribution.\n"
          ]
        },
        {
          "output_type": "stream",
          "name": "stderr",
          "text": [
            "100%|██████████| 1000/1000 [01:22<00:00, 12.13it/s]\n"
          ]
        },
        {
          "output_type": "stream",
          "name": "stdout",
          "text": [
            "p-value < 0.001 \t (resolution : 0.001)\n",
            "9\n",
            "test value = 0.15156938909183437\n",
            "Computing the null distribution.\n"
          ]
        },
        {
          "output_type": "stream",
          "name": "stderr",
          "text": [
            "100%|██████████| 1000/1000 [01:25<00:00, 11.67it/s]\n"
          ]
        },
        {
          "output_type": "stream",
          "name": "stdout",
          "text": [
            "p-value < 0.001 \t (resolution : 0.001)\n",
            "10\n",
            "test value = 0.1577317577424604\n",
            "Computing the null distribution.\n"
          ]
        },
        {
          "output_type": "stream",
          "name": "stderr",
          "text": [
            "100%|██████████| 1000/1000 [01:23<00:00, 11.95it/s]\n"
          ]
        },
        {
          "output_type": "stream",
          "name": "stdout",
          "text": [
            "p-value < 0.001 \t (resolution : 0.001)\n",
            "11\n",
            "test value = 0.1552144569952103\n",
            "Computing the null distribution.\n"
          ]
        },
        {
          "output_type": "stream",
          "name": "stderr",
          "text": [
            "100%|██████████| 1000/1000 [01:22<00:00, 12.14it/s]\n"
          ]
        },
        {
          "output_type": "stream",
          "name": "stdout",
          "text": [
            "p-value < 0.001 \t (resolution : 0.001)\n",
            "12\n",
            "test value = 0.14814039793411116\n",
            "Computing the null distribution.\n"
          ]
        },
        {
          "output_type": "stream",
          "name": "stderr",
          "text": [
            "100%|██████████| 1000/1000 [01:22<00:00, 12.18it/s]\n"
          ]
        },
        {
          "output_type": "stream",
          "name": "stdout",
          "text": [
            "p-value < 0.001 \t (resolution : 0.001)\n",
            "13\n",
            "test value = 0.1755292836928315\n",
            "Computing the null distribution.\n"
          ]
        },
        {
          "output_type": "stream",
          "name": "stderr",
          "text": [
            "100%|██████████| 1000/1000 [01:25<00:00, 11.70it/s]\n"
          ]
        },
        {
          "output_type": "stream",
          "name": "stdout",
          "text": [
            "p-value < 0.001 \t (resolution : 0.001)\n",
            "14\n",
            "test value = 0.16899160976127225\n",
            "Computing the null distribution.\n"
          ]
        },
        {
          "output_type": "stream",
          "name": "stderr",
          "text": [
            "100%|██████████| 1000/1000 [01:22<00:00, 12.12it/s]\n"
          ]
        },
        {
          "output_type": "stream",
          "name": "stdout",
          "text": [
            "p-value < 0.001 \t (resolution : 0.001)\n",
            "15\n",
            "test value = 0.17083263889469813\n",
            "Computing the null distribution.\n"
          ]
        },
        {
          "output_type": "stream",
          "name": "stderr",
          "text": [
            "100%|██████████| 1000/1000 [01:22<00:00, 12.07it/s]\n"
          ]
        },
        {
          "output_type": "stream",
          "name": "stdout",
          "text": [
            "p-value < 0.001 \t (resolution : 0.001)\n",
            "16\n",
            "test value = 0.17124121773489032\n",
            "Computing the null distribution.\n"
          ]
        },
        {
          "output_type": "stream",
          "name": "stderr",
          "text": [
            "100%|██████████| 1000/1000 [01:25<00:00, 11.64it/s]\n"
          ]
        },
        {
          "output_type": "stream",
          "name": "stdout",
          "text": [
            "p-value < 0.001 \t (resolution : 0.001)\n",
            "17\n",
            "test value = 0.16887072971432682\n",
            "Computing the null distribution.\n"
          ]
        },
        {
          "output_type": "stream",
          "name": "stderr",
          "text": [
            "100%|██████████| 1000/1000 [01:22<00:00, 12.17it/s]\n"
          ]
        },
        {
          "output_type": "stream",
          "name": "stdout",
          "text": [
            "p-value < 0.001 \t (resolution : 0.001)\n",
            "18\n",
            "test value = 0.15624858843500267\n",
            "Computing the null distribution.\n"
          ]
        },
        {
          "output_type": "stream",
          "name": "stderr",
          "text": [
            "100%|██████████| 1000/1000 [01:22<00:00, 12.13it/s]\n"
          ]
        },
        {
          "output_type": "stream",
          "name": "stdout",
          "text": [
            "p-value < 0.001 \t (resolution : 0.001)\n",
            "19\n",
            "test value = 0.15555903189410114\n",
            "Computing the null distribution.\n"
          ]
        },
        {
          "output_type": "stream",
          "name": "stderr",
          "text": [
            "100%|██████████| 1000/1000 [01:49<00:00,  9.16it/s]\n"
          ]
        },
        {
          "output_type": "stream",
          "name": "stdout",
          "text": [
            "p-value < 0.001 \t (resolution : 0.001)\n",
            "0\n",
            "test value = 0.17799163988861566\n",
            "Computing the null distribution.\n"
          ]
        },
        {
          "output_type": "stream",
          "name": "stderr",
          "text": [
            "100%|██████████| 1000/1000 [01:44<00:00,  9.52it/s]\n"
          ]
        },
        {
          "output_type": "stream",
          "name": "stdout",
          "text": [
            "p-value < 0.001 \t (resolution : 0.001)\n",
            "1\n",
            "test value = 0.15182730299443392\n",
            "Computing the null distribution.\n"
          ]
        },
        {
          "output_type": "stream",
          "name": "stderr",
          "text": [
            "100%|██████████| 1000/1000 [01:46<00:00,  9.42it/s]\n"
          ]
        },
        {
          "output_type": "stream",
          "name": "stdout",
          "text": [
            "p-value < 0.001 \t (resolution : 0.001)\n",
            "2\n",
            "test value = 0.16886913338143672\n",
            "Computing the null distribution.\n"
          ]
        },
        {
          "output_type": "stream",
          "name": "stderr",
          "text": [
            "100%|██████████| 1000/1000 [01:48<00:00,  9.24it/s]\n"
          ]
        },
        {
          "output_type": "stream",
          "name": "stdout",
          "text": [
            "p-value < 0.001 \t (resolution : 0.001)\n",
            "3\n",
            "test value = 0.1675944554917257\n",
            "Computing the null distribution.\n"
          ]
        },
        {
          "output_type": "stream",
          "name": "stderr",
          "text": [
            "100%|██████████| 1000/1000 [01:44<00:00,  9.56it/s]\n"
          ]
        },
        {
          "output_type": "stream",
          "name": "stdout",
          "text": [
            "p-value < 0.001 \t (resolution : 0.001)\n",
            "4\n",
            "test value = 0.1557295366425382\n",
            "Computing the null distribution.\n"
          ]
        },
        {
          "output_type": "stream",
          "name": "stderr",
          "text": [
            "100%|██████████| 1000/1000 [01:45<00:00,  9.48it/s]\n"
          ]
        },
        {
          "output_type": "stream",
          "name": "stdout",
          "text": [
            "p-value < 0.001 \t (resolution : 0.001)\n",
            "5\n",
            "test value = 0.15462745172851222\n",
            "Computing the null distribution.\n"
          ]
        },
        {
          "output_type": "stream",
          "name": "stderr",
          "text": [
            "100%|██████████| 1000/1000 [01:48<00:00,  9.24it/s]\n"
          ]
        },
        {
          "output_type": "stream",
          "name": "stdout",
          "text": [
            "p-value < 0.001 \t (resolution : 0.001)\n",
            "6\n",
            "test value = 0.1578061139540019\n",
            "Computing the null distribution.\n"
          ]
        },
        {
          "output_type": "stream",
          "name": "stderr",
          "text": [
            "100%|██████████| 1000/1000 [01:45<00:00,  9.49it/s]\n"
          ]
        },
        {
          "output_type": "stream",
          "name": "stdout",
          "text": [
            "p-value < 0.001 \t (resolution : 0.001)\n",
            "7\n",
            "test value = 0.170285471287982\n",
            "Computing the null distribution.\n"
          ]
        },
        {
          "output_type": "stream",
          "name": "stderr",
          "text": [
            "100%|██████████| 1000/1000 [01:48<00:00,  9.24it/s]\n"
          ]
        },
        {
          "output_type": "stream",
          "name": "stdout",
          "text": [
            "p-value < 0.001 \t (resolution : 0.001)\n",
            "8\n",
            "test value = 0.14166229534253638\n",
            "Computing the null distribution.\n"
          ]
        },
        {
          "output_type": "stream",
          "name": "stderr",
          "text": [
            "100%|██████████| 1000/1000 [01:45<00:00,  9.52it/s]\n"
          ]
        },
        {
          "output_type": "stream",
          "name": "stdout",
          "text": [
            "p-value < 0.001 \t (resolution : 0.001)\n",
            "9\n",
            "test value = 0.1510828668304789\n",
            "Computing the null distribution.\n"
          ]
        },
        {
          "output_type": "stream",
          "name": "stderr",
          "text": [
            "100%|██████████| 1000/1000 [01:46<00:00,  9.38it/s]\n"
          ]
        },
        {
          "output_type": "stream",
          "name": "stdout",
          "text": [
            "p-value < 0.001 \t (resolution : 0.001)\n",
            "10\n",
            "test value = 0.15313964777158962\n",
            "Computing the null distribution.\n"
          ]
        },
        {
          "output_type": "stream",
          "name": "stderr",
          "text": [
            "100%|██████████| 1000/1000 [01:52<00:00,  8.93it/s]\n"
          ]
        },
        {
          "output_type": "stream",
          "name": "stdout",
          "text": [
            "p-value < 0.001 \t (resolution : 0.001)\n",
            "11\n",
            "test value = 0.17000604164313504\n",
            "Computing the null distribution.\n"
          ]
        },
        {
          "output_type": "stream",
          "name": "stderr",
          "text": [
            "100%|██████████| 1000/1000 [01:48<00:00,  9.24it/s]\n"
          ]
        },
        {
          "output_type": "stream",
          "name": "stdout",
          "text": [
            "p-value < 0.001 \t (resolution : 0.001)\n",
            "12\n",
            "test value = 0.16601062357229446\n",
            "Computing the null distribution.\n"
          ]
        },
        {
          "output_type": "stream",
          "name": "stderr",
          "text": [
            "100%|██████████| 1000/1000 [01:47<00:00,  9.28it/s]\n"
          ]
        },
        {
          "output_type": "stream",
          "name": "stdout",
          "text": [
            "p-value < 0.001 \t (resolution : 0.001)\n",
            "13\n",
            "test value = 0.15129127675873089\n",
            "Computing the null distribution.\n"
          ]
        },
        {
          "output_type": "stream",
          "name": "stderr",
          "text": [
            "100%|██████████| 1000/1000 [01:45<00:00,  9.52it/s]\n"
          ]
        },
        {
          "output_type": "stream",
          "name": "stdout",
          "text": [
            "p-value < 0.001 \t (resolution : 0.001)\n",
            "14\n",
            "test value = 0.15859070549158294\n",
            "Computing the null distribution.\n"
          ]
        },
        {
          "output_type": "stream",
          "name": "stderr",
          "text": [
            "100%|██████████| 1000/1000 [01:44<00:00,  9.53it/s]\n"
          ]
        },
        {
          "output_type": "stream",
          "name": "stdout",
          "text": [
            "p-value < 0.001 \t (resolution : 0.001)\n",
            "15\n",
            "test value = 0.16173367638816605\n",
            "Computing the null distribution.\n"
          ]
        },
        {
          "output_type": "stream",
          "name": "stderr",
          "text": [
            "100%|██████████| 1000/1000 [01:48<00:00,  9.23it/s]\n"
          ]
        },
        {
          "output_type": "stream",
          "name": "stdout",
          "text": [
            "p-value < 0.001 \t (resolution : 0.001)\n",
            "16\n",
            "test value = 0.1623818102241772\n",
            "Computing the null distribution.\n"
          ]
        },
        {
          "output_type": "stream",
          "name": "stderr",
          "text": [
            "100%|██████████| 1000/1000 [01:45<00:00,  9.52it/s]\n"
          ]
        },
        {
          "output_type": "stream",
          "name": "stdout",
          "text": [
            "p-value < 0.001 \t (resolution : 0.001)\n",
            "17\n",
            "test value = 0.18644763199843228\n",
            "Computing the null distribution.\n"
          ]
        },
        {
          "output_type": "stream",
          "name": "stderr",
          "text": [
            "100%|██████████| 1000/1000 [01:47<00:00,  9.27it/s]\n"
          ]
        },
        {
          "output_type": "stream",
          "name": "stdout",
          "text": [
            "p-value < 0.001 \t (resolution : 0.001)\n",
            "18\n",
            "test value = 0.14715988879416853\n",
            "Computing the null distribution.\n"
          ]
        },
        {
          "output_type": "stream",
          "name": "stderr",
          "text": [
            "100%|██████████| 1000/1000 [01:45<00:00,  9.52it/s]\n"
          ]
        },
        {
          "output_type": "stream",
          "name": "stdout",
          "text": [
            "p-value < 0.001 \t (resolution : 0.001)\n",
            "19\n",
            "test value = 0.1455106971093172\n",
            "Computing the null distribution.\n"
          ]
        },
        {
          "output_type": "stream",
          "name": "stderr",
          "text": [
            "100%|██████████| 1000/1000 [02:19<00:00,  7.17it/s]\n"
          ]
        },
        {
          "output_type": "stream",
          "name": "stdout",
          "text": [
            "p-value < 0.001 \t (resolution : 0.001)\n",
            "0\n",
            "test value = 0.17142858724793153\n",
            "Computing the null distribution.\n"
          ]
        },
        {
          "output_type": "stream",
          "name": "stderr",
          "text": [
            "100%|██████████| 1000/1000 [02:48<00:00,  5.93it/s]\n"
          ]
        },
        {
          "output_type": "stream",
          "name": "stdout",
          "text": [
            "p-value < 0.001 \t (resolution : 0.001)\n",
            "1\n",
            "test value = 0.13334977195392073\n",
            "Computing the null distribution.\n"
          ]
        },
        {
          "output_type": "stream",
          "name": "stderr",
          "text": [
            "100%|██████████| 1000/1000 [02:52<00:00,  5.80it/s]\n"
          ]
        },
        {
          "output_type": "stream",
          "name": "stdout",
          "text": [
            "p-value < 0.001 \t (resolution : 0.001)\n",
            "2\n",
            "test value = 0.1493201044172312\n",
            "Computing the null distribution.\n"
          ]
        },
        {
          "output_type": "stream",
          "name": "stderr",
          "text": [
            "100%|██████████| 1000/1000 [02:47<00:00,  5.95it/s]\n"
          ]
        },
        {
          "output_type": "stream",
          "name": "stdout",
          "text": [
            "p-value < 0.001 \t (resolution : 0.001)\n",
            "3\n",
            "test value = 0.16103513634032596\n",
            "Computing the null distribution.\n"
          ]
        },
        {
          "output_type": "stream",
          "name": "stderr",
          "text": [
            "100%|██████████| 1000/1000 [02:51<00:00,  5.85it/s]\n"
          ]
        },
        {
          "output_type": "stream",
          "name": "stdout",
          "text": [
            "p-value < 0.001 \t (resolution : 0.001)\n",
            "4\n",
            "test value = 0.16807222227964624\n",
            "Computing the null distribution.\n"
          ]
        },
        {
          "output_type": "stream",
          "name": "stderr",
          "text": [
            "100%|██████████| 1000/1000 [02:52<00:00,  5.80it/s]\n"
          ]
        },
        {
          "output_type": "stream",
          "name": "stdout",
          "text": [
            "p-value < 0.001 \t (resolution : 0.001)\n",
            "5\n",
            "test value = 0.13253132372461907\n",
            "Computing the null distribution.\n"
          ]
        },
        {
          "output_type": "stream",
          "name": "stderr",
          "text": [
            "100%|██████████| 1000/1000 [02:48<00:00,  5.92it/s]\n"
          ]
        },
        {
          "output_type": "stream",
          "name": "stdout",
          "text": [
            "p-value < 0.001 \t (resolution : 0.001)\n",
            "6\n",
            "test value = 0.1780065265944295\n",
            "Computing the null distribution.\n"
          ]
        },
        {
          "output_type": "stream",
          "name": "stderr",
          "text": [
            "100%|██████████| 1000/1000 [02:51<00:00,  5.82it/s]\n"
          ]
        },
        {
          "output_type": "stream",
          "name": "stdout",
          "text": [
            "p-value < 0.001 \t (resolution : 0.001)\n",
            "7\n",
            "test value = 0.17074711479529991\n",
            "Computing the null distribution.\n"
          ]
        },
        {
          "output_type": "stream",
          "name": "stderr",
          "text": [
            "100%|██████████| 1000/1000 [02:51<00:00,  5.83it/s]\n"
          ]
        },
        {
          "output_type": "stream",
          "name": "stdout",
          "text": [
            "p-value < 0.001 \t (resolution : 0.001)\n",
            "8\n",
            "test value = 0.1726842723369546\n",
            "Computing the null distribution.\n"
          ]
        },
        {
          "output_type": "stream",
          "name": "stderr",
          "text": [
            "100%|██████████| 1000/1000 [02:48<00:00,  5.94it/s]\n"
          ]
        },
        {
          "output_type": "stream",
          "name": "stdout",
          "text": [
            "p-value < 0.001 \t (resolution : 0.001)\n",
            "9\n",
            "test value = 0.19310116292625157\n",
            "Computing the null distribution.\n"
          ]
        },
        {
          "output_type": "stream",
          "name": "stderr",
          "text": [
            "100%|██████████| 1000/1000 [02:51<00:00,  5.83it/s]\n"
          ]
        },
        {
          "output_type": "stream",
          "name": "stdout",
          "text": [
            "p-value < 0.001 \t (resolution : 0.001)\n",
            "10\n",
            "test value = 0.16935637271156057\n",
            "Computing the null distribution.\n"
          ]
        },
        {
          "output_type": "stream",
          "name": "stderr",
          "text": [
            "100%|██████████| 1000/1000 [02:51<00:00,  5.84it/s]\n"
          ]
        },
        {
          "output_type": "stream",
          "name": "stdout",
          "text": [
            "p-value < 0.001 \t (resolution : 0.001)\n",
            "11\n",
            "test value = 0.17543635842518235\n",
            "Computing the null distribution.\n"
          ]
        },
        {
          "output_type": "stream",
          "name": "stderr",
          "text": [
            "100%|██████████| 1000/1000 [02:48<00:00,  5.94it/s]\n"
          ]
        },
        {
          "output_type": "stream",
          "name": "stdout",
          "text": [
            "p-value < 0.001 \t (resolution : 0.001)\n",
            "12\n",
            "test value = 0.18763665449604572\n",
            "Computing the null distribution.\n"
          ]
        },
        {
          "output_type": "stream",
          "name": "stderr",
          "text": [
            "100%|██████████| 1000/1000 [02:51<00:00,  5.82it/s]\n"
          ]
        },
        {
          "output_type": "stream",
          "name": "stdout",
          "text": [
            "p-value < 0.001 \t (resolution : 0.001)\n",
            "13\n",
            "test value = 0.17903324831512712\n",
            "Computing the null distribution.\n"
          ]
        },
        {
          "output_type": "stream",
          "name": "stderr",
          "text": [
            "100%|██████████| 1000/1000 [02:50<00:00,  5.86it/s]\n"
          ]
        },
        {
          "output_type": "stream",
          "name": "stdout",
          "text": [
            "p-value < 0.001 \t (resolution : 0.001)\n",
            "14\n",
            "test value = 0.1481799344495507\n",
            "Computing the null distribution.\n"
          ]
        },
        {
          "output_type": "stream",
          "name": "stderr",
          "text": [
            "100%|██████████| 1000/1000 [02:48<00:00,  5.94it/s]\n"
          ]
        },
        {
          "output_type": "stream",
          "name": "stdout",
          "text": [
            "p-value < 0.001 \t (resolution : 0.001)\n",
            "15\n",
            "test value = 0.17337291539336652\n",
            "Computing the null distribution.\n"
          ]
        },
        {
          "output_type": "stream",
          "name": "stderr",
          "text": [
            "100%|██████████| 1000/1000 [02:50<00:00,  5.85it/s]\n"
          ]
        },
        {
          "output_type": "stream",
          "name": "stdout",
          "text": [
            "p-value < 0.001 \t (resolution : 0.001)\n",
            "16\n",
            "test value = 0.1499930717125495\n",
            "Computing the null distribution.\n"
          ]
        },
        {
          "output_type": "stream",
          "name": "stderr",
          "text": [
            "100%|██████████| 1000/1000 [02:50<00:00,  5.85it/s]\n"
          ]
        },
        {
          "output_type": "stream",
          "name": "stdout",
          "text": [
            "p-value < 0.001 \t (resolution : 0.001)\n",
            "17\n",
            "test value = 0.17253223086807434\n",
            "Computing the null distribution.\n"
          ]
        },
        {
          "output_type": "stream",
          "name": "stderr",
          "text": [
            "100%|██████████| 1000/1000 [02:48<00:00,  5.94it/s]\n"
          ]
        },
        {
          "output_type": "stream",
          "name": "stdout",
          "text": [
            "p-value < 0.001 \t (resolution : 0.001)\n",
            "18\n",
            "test value = 0.1871117310346353\n",
            "Computing the null distribution.\n"
          ]
        },
        {
          "output_type": "stream",
          "name": "stderr",
          "text": [
            "100%|██████████| 1000/1000 [02:52<00:00,  5.79it/s]\n"
          ]
        },
        {
          "output_type": "stream",
          "name": "stdout",
          "text": [
            "p-value < 0.001 \t (resolution : 0.001)\n",
            "19\n"
          ]
        }
      ],
      "source": [
        "sample_size_array=[]\n",
        "p_values_array=[]\n",
        "rej_rate_array=[]\n",
        "\n",
        "i=1\n",
        "while i<12:\n",
        "  i_int=i*100\n",
        "  p_int=0.\n",
        "  j=0\n",
        "  rej=0\n",
        "  while j<20:\n",
        "    #print(p_int)\n",
        "    X=normal(loc=0., scale=1.0, size=i_int)\n",
        "    #print(X.shape[1])\n",
        "    Y=lognormal(0., 1.0, size=i_int)\n",
        "    #print(Y.shape)\n",
        "    #gamma = 5.\n",
        "    gamma=.1\n",
        "    XX = X[:, np.newaxis]\n",
        "    YY = Y[:, np.newaxis]\n",
        "\n",
        "    sigma2 = np.median(pairwise_distances(XX, YY, metric='euclidean'))**2 * 2.0\n",
        "    mmd2u, mmd2u_null, p_value = two_sample_test(XX, YY,\n",
        "                           model='MMD',\n",
        "                           iterations=1000,\n",
        "                           kernel_function='rbf',\n",
        "                           gamma=gamma,\n",
        "                           n_jobs=1,\n",
        "                           verbose=True)\n",
        "    \n",
        "    if p_value<.05:\n",
        "      rej+=1\n",
        "    p_int+=p_value\n",
        "    print(j)\n",
        "    j+=1\n",
        "  \n",
        "  avg_p_value=p_int/20.\n",
        "  reject_rate=rej/20.\n",
        "    \n",
        "  rej_rate_array.append(reject_rate)\n",
        "  sample_size_array.append(i_int)\n",
        "  p_values_array.append(avg_p_value)\n",
        "  #print(i)\n",
        "  i=i+1\n",
        "\n",
        "file1 = open(\"/content/gdrive/MyDrive/tatter-master/SampleSize_twoDiffDistTrue_new.txt\", \"w\")\n",
        "np.savetxt(file1, sample_size_array)\n",
        "file1.close()\n",
        "\n",
        "file2 = open(\"/content/gdrive/MyDrive/tatter-master/pValueforKLTest_twoDiffDist.txt\", \"w\")\n",
        "np.savetxt(file2, p_values_array)\n",
        "file2.close()\n",
        "\n",
        "file3 = open(\"/content/gdrive/MyDrive/tatter-master/rejRateMMD_twoDiffDist.txt\", \"w\")\n",
        "np.savetxt(file3, rej_rate_array)\n",
        "file3.close()\n",
        "\n",
        "#plt.plot(sample_size,p_values)"
      ]
    },
    {
      "cell_type": "code",
      "source": [
        "sample_diffDist=np.genfromtxt('/content/gdrive/MyDrive/tatter-master/SampleSize_twoDiffDist.txt')\n",
        "sample_diffDist_KL=np.genfromtxt('/content/gdrive/MyDrive/tatter-master/SampleSize_twoDiffDistTrue_new.txt')\n",
        "p_value_MMD_diffDist=np.genfromtxt('/content/gdrive/MyDrive/tatter-master/pValueforMMDTest_twoDiffDist.txt')\n",
        "p_value_KS_diffDist=np.genfromtxt('/content/gdrive/MyDrive/tatter-master/pValueforKSTest_twoDiffDist.txt')\n",
        "p_value_KL_diffDist=np.genfromtxt('/content/gdrive/MyDrive/tatter-master/pValueforKLTest_twoDiffDist.txt')"
      ],
      "metadata": {
        "id": "ld7ZdsKR3Lut"
      },
      "execution_count": 4,
      "outputs": []
    },
    {
      "cell_type": "code",
      "source": [
        "plt.plot(sample_diffDist,p_value_MMD_diffDist,color='blue',label='MMD')\n",
        "plt.plot(sample_diffDist,p_value_KS_diffDist,color='red',label='KS')\n",
        "plt.plot(sample_diffDist_KL,p_value_KL_diffDist,color='green',label='KL')\n",
        "plt.axhspan(0., 0.05, alpha=0.2)\n",
        "plt.xlabel('Sample Size')\n",
        "plt.ylabel('p_value')\n",
        "plt.ylim([-.01,.95])\n",
        "plt.legend(loc='upper right')"
      ],
      "metadata": {
        "colab": {
          "base_uri": "https://localhost:8080/",
          "height": 297
        },
        "id": "rN2TXotf3Mr6",
        "outputId": "a198090a-beaf-4fcf-fb69-f152a0beb32d"
      },
      "execution_count": 8,
      "outputs": [
        {
          "output_type": "execute_result",
          "data": {
            "text/plain": [
              "<matplotlib.legend.Legend at 0x7fb2470817c0>"
            ]
          },
          "metadata": {},
          "execution_count": 8
        },
        {
          "output_type": "display_data",
          "data": {
            "text/plain": [
              "<Figure size 432x288 with 1 Axes>"
            ],
            "image/png": "[encoded data removed]"
          },
          "metadata": {
            "needs_background": "light"
          }
        }
      ]
    },
    {
      "cell_type": "markdown",
      "source": [
        "We see what we expect. All three tests are able to see that the data sets were drawn from two different distributions."
      ],
      "metadata": {
        "id": "9QmITxqiHjOj"
      }
    },
    {
      "cell_type": "markdown",
      "source": [
        "##Comparing Two Astronomical Data Sets"
      ],
      "metadata": {
        "id": "XGlss6zJ-2Lb"
      }
    },
    {
      "cell_type": "markdown",
      "source": [
        "Here I use the MMD test to compare to astronomical data sets. They describe the optical richness of red luminous galaxies at different redshifts. Originally, the paper compared data from DES and SDSS. I was not able to access the SDSS data, so I compared DES science verification data sets."
      ],
      "metadata": {
        "id": "4OSPme_DAYOG"
      }
    },
    {
      "cell_type": "code",
      "source": [
        "def RM_clusters_witness_function():\n",
        "\n",
        "    import numpy as np\n",
        "    from astropy.io import fits\n",
        "    import matplotlib.pyplot as plt\n",
        "    from sklearn.metrics import pairwise_distances\n",
        "    from tatter import two_sample_test, test_statistics, witness_function\n",
        "    import os\n",
        "\n",
        "    data_path = \"/content/gdrive/MyDrive/tatter-master/\"\n",
        "    plot_path = '/content/gdrive/MyDrive/tatter-master/'\n",
        "    if not os.path.exists(plot_path):\n",
        "        os.makedirs(plot_path)\n",
        "\n",
        "\n",
        "    plt.figure(figsize=(12, 12))\n",
        "\n",
        "    for i in range(4):\n",
        "\n",
        "        zmin = 0.2 + 0.05*i\n",
        "        zmax = 0.2 + 0.05*(i+1)\n",
        "\n",
        "        # load the datasets\n",
        "        RM_SDSS = fits.open(data_path+'redmapper_sva1-expanded_public_v6.3_catalog.fits')[1].data\n",
        "        RM_SV = fits.open(data_path+'redmapper_sva1_public_v6.3_catalog.fits')[1].data\n",
        "\n",
        "        # apply a redshift and richness cut\n",
        "        RM_SDSS = RM_SDSS[RM_SDSS.Z_LAMBDA >= zmin]\n",
        "        RM_SDSS = RM_SDSS[RM_SDSS.Z_LAMBDA < zmax]\n",
        "        RM_SDSS = RM_SDSS[RM_SDSS.LAMBDA > 20]\n",
        "\n",
        "        RM_SV = RM_SV[RM_SV.Z_LAMBDA >= zmin]\n",
        "        RM_SV = RM_SV[RM_SV.Z_LAMBDA < zmax]\n",
        "        RM_SV = RM_SV[RM_SV.LAMBDA > 20]\n",
        "\n",
        "        # map richness into a log space\n",
        "        RM_SDSS.LAMBDA = np.log(RM_SDSS.LAMBDA)\n",
        "        RM_SV.LAMBDA = np.log(RM_SV.LAMBDA)\n",
        "\n",
        "        # make a numpy array\n",
        "        SDSS = np.array(RM_SDSS.LAMBDA)[:, np.newaxis]\n",
        "        SV = np.array(RM_SV.LAMBDA)[:, np.newaxis]\n",
        "\n",
        "        # compute the hyper-parameter\n",
        "        sigma2 = np.median(pairwise_distances(SDSS, SV, metric='euclidean')) ** 2 * 2.0\n",
        "\n",
        "        # estimate the null distribution and p-value of MMD^2_u test.\n",
        "        grid = np.linspace(np.log(20), np.log(100), 1001)[:, np.newaxis]\n",
        "        wf = witness_function(SV, SDSS, grid, kernel_function='rbf', gamma=1.0 / sigma2)\n",
        "\n",
        "        ax = plt.subplot(2, 2, i+1)\n",
        "        plt.plot(np.exp(grid), wf, color='black', lw=2.0)\n",
        "\n",
        "        plt.xlim([20, 100])\n",
        "        plt.title('$ %0.2f \\leq z < %0.2f$'%(zmin, zmax), size=14)\n",
        "\n",
        "        if i%2 == 0: ax.set_ylabel('witness function', size=22)\n",
        "        if i > 1: ax.set_xlabel(r'$\\lambda_{\\rm RM}$', size=22)\n",
        "\n",
        "    plt.savefig(plot_path + 'SDSS-vs-SV-witness-function.pdf', bbox_inches='tight')\n",
        "\n",
        "\n",
        "def RM_clusters_consistency_check():\n",
        "\n",
        "    import numpy as np\n",
        "    from astropy.io import fits\n",
        "    from tatter import two_sample_test\n",
        "    import matplotlib.pyplot as plt\n",
        "    from sklearn.metrics import pairwise_distances\n",
        "    import os\n",
        "\n",
        "    plt.figure(figsize=(12, 12))\n",
        "\n",
        "    data_path = \"/content/gdrive/MyDrive/tatter-master/\"\n",
        "    plot_path = '/content/gdrive/MyDrive/tatter-master/'\n",
        "    if not os.path.exists(plot_path):\n",
        "        os.makedirs(plot_path)\n",
        "\n",
        "    # if cluster catalogs does noe exists download them\n",
        "    #if_RM_clusters_exists()\n",
        "\n",
        "    for i in range(4):\n",
        "\n",
        "        zmin = 0.2 + 0.05*i\n",
        "        zmax = 0.2 + 0.05*(i+1)\n",
        "\n",
        "        # load the datasets\n",
        "        RM_SDSS = fits.open(data_path+'redmapper_sva1-expanded_public_v6.3_catalog.fits')[1].data\n",
        "        RM_SV = fits.open(data_path+'redmapper_sva1_public_v6.3_catalog.fits')[1].data\n",
        "\n",
        "        # apply a redshift cut\n",
        "        RM_SDSS = RM_SDSS[RM_SDSS.Z_LAMBDA >= zmin]\n",
        "        RM_SDSS = RM_SDSS[RM_SDSS.Z_LAMBDA < zmax]\n",
        "\n",
        "        RM_SV = RM_SV[RM_SV.Z_LAMBDA >= zmin]\n",
        "        RM_SV = RM_SV[RM_SV.Z_LAMBDA < zmax]\n",
        "\n",
        "        # map richness into a log space\n",
        "        RM_SDSS.LAMBDA = np.log(RM_SDSS.LAMBDA)\n",
        "        RM_SV.LAMBDA = np.log(RM_SV.LAMBDA)\n",
        "\n",
        "        # normalize richness -- (x - x.median) / x.std\n",
        "        std = np.std(RM_SDSS.LAMBDA); med = np.median(RM_SDSS.LAMBDA)\n",
        "\n",
        "        RM_SV.LAMBDA = (RM_SV.LAMBDA - med) / std\n",
        "        RM_SDSS.LAMBDA = (RM_SDSS.LAMBDA - med) / std\n",
        "\n",
        "        # normalize redshift -- (x - x.median) / x.std\n",
        "        std = np.std(RM_SDSS.Z_LAMBDA); med = np.median(RM_SDSS.Z_LAMBDA)\n",
        "\n",
        "        RM_SV.Z_LAMBDA = (RM_SV.Z_LAMBDA - med) / std\n",
        "        RM_SDSS.Z_LAMBDA = (RM_SDSS.Z_LAMBDA - med) / std\n",
        "\n",
        "        # make a numpy array\n",
        "        SDSS = np.array([RM_SDSS.LAMBDA, RM_SDSS.Z_LAMBDA]).T\n",
        "        SV = np.array([RM_SV.LAMBDA, RM_SV.Z_LAMBDA]).T\n",
        "\n",
        "        # compute the hyper-parameter\n",
        "        sigma2 = np.median(pairwise_distances(SDSS, SV, metric='euclidean')) ** 2 * 2.0\n",
        "        # estimate the null distribution and p-value of MMD^2_u test.\n",
        "        mmd2u, mmd2u_null, p_value = two_sample_test(SDSS, SV, model='MMD',\n",
        "                                                     kernel_function='rbf', gamma=1.0/sigma2,\n",
        "                                                     iterations=500, verbose=True, n_jobs=4)\n",
        "\n",
        "        ax = plt.subplot(2, 2, i+1)\n",
        "        prob, bins, patches = ax.hist(mmd2u_null, range=(-0.1, 0.03), bins=100)\n",
        "        if p_value <= 0.001:\n",
        "            plt.plot(mmd2u, prob.max() / 25, 'wv', markersize=22, markeredgecolor='k',\n",
        "                     markeredgewidth=2, label='$MMD^2_u$ ($p$-value < %0.3f)'%p_value)\n",
        "        else:\n",
        "            plt.plot(mmd2u, prob.max() / 25, 'wv', markersize=22, markeredgecolor='k',\n",
        "                     markeredgewidth=2, label='$MMD^2_u$ ($p$-value = %0.3f)'%p_value)\n",
        "        plt.xlim([-0.1, 0.03])\n",
        "        plt.title('$ %0.2f \\leq z < %0.2f$'%(zmin, zmax), size=14)\n",
        "\n",
        "        if i%2 == 0: ax.set_ylabel('$PDF$', size=22)\n",
        "        if i > 1: ax.set_xlabel('$MMD^2_u$', size=22)\n",
        "        plt.legend(numpoints=1, prop={'size':14})\n",
        "\n",
        "    plt.savefig(plot_path + 'SDSS-vs-SV.pdf', bbox_inches='tight')\n",
        "\n",
        "#, normed=False"
      ],
      "metadata": {
        "id": "HXwxLe7n6R0b"
      },
      "execution_count": 13,
      "outputs": []
    },
    {
      "cell_type": "markdown",
      "metadata": {
        "id": "1LlDpscTZXEl"
      },
      "source": []
    },
    {
      "cell_type": "code",
      "source": [
        "RM_clusters_witness_function()"
      ],
      "metadata": {
        "colab": {
          "base_uri": "https://localhost:8080/",
          "height": 745
        },
        "id": "eYXZM8Rn707U",
        "outputId": "2e84eca9-143f-4f83-fa2b-38b24a017d4b"
      },
      "execution_count": 14,
      "outputs": [
        {
          "output_type": "display_data",
          "data": {
            "text/plain": [
              "<Figure size 864x864 with 4 Axes>"
            ],
            "image/png": "[encoded data removed]"
          },
          "metadata": {
            "needs_background": "light"
          }
        }
      ]
    },
    {
      "cell_type": "code",
      "source": [
        "RM_clusters_consistency_check()"
      ],
      "metadata": {
        "colab": {
          "base_uri": "https://localhost:8080/",
          "height": 1000
        },
        "id": "nl9MGMyp_ZvM",
        "outputId": "8295bcc2-f870-4431-bcd2-60a26183c4d8"
      },
      "execution_count": 26,
      "outputs": [
        {
          "output_type": "stream",
          "name": "stdout",
          "text": [
            "test value = -0.017468029264800622\n",
            "Computing the null distribution.\n"
          ]
        },
        {
          "output_type": "stream",
          "name": "stderr",
          "text": [
            "100%|██████████| 500/500 [00:00<00:00, 3644.60it/s]"
          ]
        },
        {
          "output_type": "stream",
          "name": "stdout",
          "text": [
            "p-value ~= 0.93 \t (resolution : 0.002)\n"
          ]
        },
        {
          "output_type": "stream",
          "name": "stderr",
          "text": [
            "\n"
          ]
        },
        {
          "output_type": "stream",
          "name": "stdout",
          "text": [
            "test value = -0.00981071629587893\n",
            "Computing the null distribution.\n"
          ]
        },
        {
          "output_type": "stream",
          "name": "stderr",
          "text": [
            "100%|██████████| 500/500 [00:00<00:00, 2730.97it/s]"
          ]
        },
        {
          "output_type": "stream",
          "name": "stdout",
          "text": [
            "p-value ~= 0.9460000000000001 \t (resolution : 0.002)\n"
          ]
        },
        {
          "output_type": "stream",
          "name": "stderr",
          "text": [
            "\n"
          ]
        },
        {
          "output_type": "stream",
          "name": "stdout",
          "text": [
            "test value = -0.01578432660769402\n",
            "Computing the null distribution.\n"
          ]
        },
        {
          "output_type": "stream",
          "name": "stderr",
          "text": [
            "100%|██████████| 500/500 [00:00<00:00, 3452.20it/s]"
          ]
        },
        {
          "output_type": "stream",
          "name": "stdout",
          "text": [
            "p-value ~= 0.982 \t (resolution : 0.002)\n"
          ]
        },
        {
          "output_type": "stream",
          "name": "stderr",
          "text": [
            "\n"
          ]
        },
        {
          "output_type": "stream",
          "name": "stdout",
          "text": [
            "test value = -0.004602122966919087\n",
            "Computing the null distribution.\n"
          ]
        },
        {
          "output_type": "stream",
          "name": "stderr",
          "text": [
            "100%|██████████| 500/500 [00:00<00:00, 1962.96it/s]\n"
          ]
        },
        {
          "output_type": "stream",
          "name": "stdout",
          "text": [
            "p-value ~= 0.744 \t (resolution : 0.002)\n"
          ]
        },
        {
          "output_type": "display_data",
          "data": {
            "text/plain": [
              "<Figure size 864x864 with 4 Axes>"
            ],
            "image/png": "[encoded data removed]"
          },
          "metadata": {
            "needs_background": "light"
          }
        }
      ]
    }
  ],
  "metadata": {
    "colab": {
      "provenance": [],
      "toc_visible": true
    },
    "gpuClass": "standard",
    "kernelspec": {
      "display_name": "Python 3",
      "name": "python3"
    },
    "language_info": {
      "name": "python"
    }
  },
  "nbformat": 4,
  "nbformat_minor": 0
}